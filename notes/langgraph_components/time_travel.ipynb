{
 "cells": [
  {
   "cell_type": "markdown",
   "id": "d10967e4-0b1f-4417-aa84-e06639a5aa22",
   "metadata": {},
   "source": [
    "# Time Travel\n",
    "\n",
    "Because LangGraph has checkpoints, every time the graph updates the state, it can save a snapshot. Time travel is the ability to rewind to a past checkpoint and resume execution from there.\n",
    "\n",
    "This is useful for:\n",
    "1. Debugging: You can reproduce a branch of execution without replaying the whole conversation from scratch.\n",
    "2. Experimentation: Try different prompts, parameters, or tools from the same point in history.\n",
    "3. Branching: we can fork one conversatoin thread into multiple possible futures.\n"
   ]
  },
  {
   "cell_type": "code",
   "execution_count": 1,
   "id": "8134eb04-485a-48e2-8738-d86caee9574d",
   "metadata": {},
   "outputs": [],
   "source": [
    "# Import libraries\n",
    "import sys, os"
   ]
  },
  {
   "cell_type": "code",
   "execution_count": 2,
   "id": "403f6d53-106e-4e3d-bd9a-7788b84162db",
   "metadata": {},
   "outputs": [
    {
     "name": "stderr",
     "output_type": "stream",
     "text": [
      "2025-09-09 18:05:53,926 - root - INFO - Configuration loaded for environment: development\n"
     ]
    }
   ],
   "source": [
    "# Import settings and sensitive variables from config\n",
    "sys.path.append(os.path.abspath(os.path.join(os.getcwd(), \"../..\")))\n",
    "from codes.config.config import config"
   ]
  },
  {
   "cell_type": "code",
   "execution_count": 3,
   "id": "09d36b97-288b-45bf-859d-3b44c5dda285",
   "metadata": {},
   "outputs": [],
   "source": [
    "# Create simple chatbot with summarization capability\n",
    "from pprint import pprint\n",
    "from IPython.display import Image, display\n",
    "\n",
    "from langchain_core.tools import tool\n",
    "from langchain_core.runnables import RunnableConfig\n",
    "from langchain_google_genai import ChatGoogleGenerativeAI\n",
    "from langchain_core.messages import HumanMessage, AIMessage, SystemMessage, RemoveMessage\n",
    "\n",
    "from langgraph.graph import MessagesState\n",
    "from langgraph.graph import StateGraph, START, END\n",
    "from langgraph.checkpoint.memory import MemorySaver\n",
    "from langgraph.prebuilt import ToolNode, tools_condition"
   ]
  },
  {
   "cell_type": "code",
   "execution_count": 4,
   "id": "e961e5f2-b7ca-4fa2-8638-65c46e122a0c",
   "metadata": {},
   "outputs": [],
   "source": [
    "def multiply(a: int, b: int) -> int:\n",
    "    \"\"\"Multiply a and b.\n",
    "\n",
    "    Args:\n",
    "        a: first int\n",
    "        b: second int\n",
    "    \"\"\"\n",
    "    return a * b\n",
    "\n",
    "# This will be a tool\n",
    "def add(a: int, b: int) -> int:\n",
    "    \"\"\"Adds a and b.\n",
    "\n",
    "    Args:\n",
    "        a: first int\n",
    "        b: second int\n",
    "    \"\"\"\n",
    "    return a + b\n",
    "\n",
    "def divide(a: int, b: int) -> float:\n",
    "    \"\"\"Divide a by b.\n",
    "\n",
    "    Args:\n",
    "        a: first int\n",
    "        b: second int\n",
    "    \"\"\"\n",
    "    return a / b\n",
    "\n",
    "tools = [add, multiply, divide]\n",
    "llm = ChatGoogleGenerativeAI(model=config.model.model_name, api_key=config.model.api_key)\n",
    "llm_with_tools = llm.bind_tools(tools)"
   ]
  },
  {
   "cell_type": "code",
   "execution_count": 5,
   "id": "04d69820-dfca-4c52-be91-e24293574a3c",
   "metadata": {},
   "outputs": [
    {
     "name": "stderr",
     "output_type": "stream",
     "text": [
      "2025-09-09 18:05:54,418 - urllib3.connectionpool - DEBUG - Starting new HTTPS connection (1): mermaid.ink:443\n",
      "2025-09-09 18:05:54,741 - urllib3.connectionpool - DEBUG - https://mermaid.ink:443 \"GET /img/LS0tCmNvbmZpZzoKICBmbG93Y2hhcnQ6CiAgICBjdXJ2ZTogbGluZWFyCi0tLQpncmFwaCBURDsKCV9fc3RhcnRfXyhbPHA+X19zdGFydF9fPC9wPl0pOjo6Zmlyc3QKCWFzc2lzdGFudChhc3Npc3RhbnQpCgl0b29scyh0b29scykKCV9fZW5kX18oWzxwPl9fZW5kX188L3A+XSk6OjpsYXN0CglfX3N0YXJ0X18gLS0+IGFzc2lzdGFudDsKCWFzc2lzdGFudCAtLi0+IF9fZW5kX187Cglhc3Npc3RhbnQgLS4tPiB0b29sczsKCXRvb2xzIC0tPiBhc3Npc3RhbnQ7CgljbGFzc0RlZiBkZWZhdWx0IGZpbGw6I2YyZjBmZixsaW5lLWhlaWdodDoxLjIKCWNsYXNzRGVmIGZpcnN0IGZpbGwtb3BhY2l0eTowCgljbGFzc0RlZiBsYXN0IGZpbGw6I2JmYjZmYwo=?type=png&bgColor=!white HTTP/1.1\" 200 8579\n"
     ]
    },
    {
     "data": {
      "image/png": "[encoded data removed]",
      "text/plain": [
       "<IPython.core.display.Image object>"
      ]
     },
     "metadata": {},
     "output_type": "display_data"
    }
   ],
   "source": [
    "# System message\n",
    "sys_msg = SystemMessage(content=\"You are a helpful assistant tasked with performing arithmetic on a set of inputs.\")\n",
    "\n",
    "# Node\n",
    "def assistant(state: MessagesState):\n",
    "   return {\"messages\": [llm_with_tools.invoke([sys_msg] + state[\"messages\"])]}\n",
    "\n",
    "# Graph\n",
    "builder = StateGraph(MessagesState)\n",
    "\n",
    "# Define nodes: these do the work\n",
    "builder.add_node(\"assistant\", assistant)\n",
    "builder.add_node(\"tools\", ToolNode(tools))\n",
    "\n",
    "# Define edges: these determine the control flow\n",
    "builder.add_edge(START, \"assistant\")\n",
    "builder.add_conditional_edges(\n",
    "    \"assistant\",\n",
    "    tools_condition,\n",
    ")\n",
    "builder.add_edge(\"tools\", \"assistant\")\n",
    "\n",
    "memory = MemorySaver()\n",
    "graph = builder.compile(checkpointer=MemorySaver())\n",
    "\n",
    "# Show\n",
    "display(Image(graph.get_graph(xray=True).draw_mermaid_png()))"
   ]
  },
  {
   "cell_type": "code",
   "execution_count": 6,
   "id": "c1c1f367-c0e1-4a97-b9d8-dce67bcfc672",
   "metadata": {},
   "outputs": [
    {
     "name": "stdout",
     "output_type": "stream",
     "text": [
      "================================\u001b[1m Human Message \u001b[0m=================================\n",
      "\n",
      "Multiply 2 and 3\n",
      "==================================\u001b[1m Ai Message \u001b[0m==================================\n",
      "Tool Calls:\n",
      "  multiply (414646b4-f03c-4203-992a-6c501d43eb66)\n",
      " Call ID: 414646b4-f03c-4203-992a-6c501d43eb66\n",
      "  Args:\n",
      "    b: 3.0\n",
      "    a: 2.0\n",
      "=================================\u001b[1m Tool Message \u001b[0m=================================\n",
      "Name: multiply\n",
      "\n",
      "6\n",
      "==================================\u001b[1m Ai Message \u001b[0m==================================\n",
      "\n",
      "The product of 2 and 3 is 6.\n"
     ]
    }
   ],
   "source": [
    "# Input\n",
    "initial_input = {\"messages\": HumanMessage(content=\"Multiply 2 and 3\")}\n",
    "\n",
    "# Thread\n",
    "thread = {\"configurable\": {\"thread_id\": 2}}\n",
    "\n",
    "for event in graph.stream(initial_input, thread, stream_mode=\"values\"):\n",
    "    event[\"messages\"][-1].pretty_print()"
   ]
  },
  {
   "cell_type": "code",
   "execution_count": 7,
   "id": "f1f97f20-5660-47a6-8514-b324eff425c7",
   "metadata": {},
   "outputs": [
    {
     "data": {
      "text/plain": [
       "StateSnapshot(values={'messages': [HumanMessage(content='Multiply 2 and 3', additional_kwargs={}, response_metadata={}, id='78b8f185-0192-41f3-bd51-9a1addc58783'), AIMessage(content='', additional_kwargs={'function_call': {'name': 'multiply', 'arguments': '{\"b\": 3.0, \"a\": 2.0}'}}, response_metadata={'prompt_feedback': {'block_reason': 0, 'safety_ratings': []}, 'finish_reason': 'STOP', 'model_name': 'gemini-2.5-flash', 'safety_ratings': []}, id='run--605f228a-7531-415c-95f3-268496072b50-0', tool_calls=[{'name': 'multiply', 'args': {'b': 3.0, 'a': 2.0}, 'id': '414646b4-f03c-4203-992a-6c501d43eb66', 'type': 'tool_call'}], usage_metadata={'input_tokens': 166, 'output_tokens': 66, 'total_tokens': 232, 'input_token_details': {'cache_read': 0}, 'output_token_details': {'reasoning': 48}}), ToolMessage(content='6', name='multiply', id='0c04adee-85c0-4ccc-8c9a-c0813221d72c', tool_call_id='414646b4-f03c-4203-992a-6c501d43eb66'), AIMessage(content='The product of 2 and 3 is 6.', additional_kwargs={}, response_metadata={'prompt_feedback': {'block_reason': 0, 'safety_ratings': []}, 'finish_reason': 'STOP', 'model_name': 'gemini-2.5-flash', 'safety_ratings': []}, id='run--64437f82-a28f-43c9-9e7d-5dbf6931deb9-0', usage_metadata={'input_tokens': 197, 'output_tokens': 12, 'total_tokens': 209, 'input_token_details': {'cache_read': 0}})]}, next=(), config={'configurable': {'thread_id': '2', 'checkpoint_ns': '', 'checkpoint_id': '1f08d8e7-c601-6564-8003-2fc1bb3d6381'}}, metadata={'source': 'loop', 'step': 3, 'parents': {}}, created_at='2025-09-09T15:05:56.002930+00:00', parent_config={'configurable': {'thread_id': '2', 'checkpoint_ns': '', 'checkpoint_id': '1f08d8e7-c2b0-6892-8002-f81fea285f90'}}, tasks=(), interrupts=())"
      ]
     },
     "execution_count": 7,
     "metadata": {},
     "output_type": "execute_result"
    }
   ],
   "source": [
    "# Get current state of our graph\n",
    "graph.get_state(thread)"
   ]
  },
  {
   "cell_type": "code",
   "execution_count": 8,
   "id": "f18cf405-02ae-4be3-b44b-18783149a7ad",
   "metadata": {},
   "outputs": [
    {
     "data": {
      "text/plain": [
       "5"
      ]
     },
     "execution_count": 8,
     "metadata": {},
     "output_type": "execute_result"
    }
   ],
   "source": [
    "# Get states history of our graph\n",
    "state_history = [s for s in graph.get_state_history(thread)]\n",
    "len(state_history)"
   ]
  },
  {
   "cell_type": "code",
   "execution_count": 9,
   "id": "3f89fc69-6a9f-41f8-a8fa-dc90cdbe8610",
   "metadata": {},
   "outputs": [
    {
     "data": {
      "text/plain": [
       "StateSnapshot(values={'messages': [HumanMessage(content='Multiply 2 and 3', additional_kwargs={}, response_metadata={}, id='78b8f185-0192-41f3-bd51-9a1addc58783')]}, next=('assistant',), config={'configurable': {'thread_id': '2', 'checkpoint_ns': '', 'checkpoint_id': '1f08d8e7-ba1c-6b36-8000-fb9c39f41890'}}, metadata={'source': 'loop', 'step': 0, 'parents': {}}, created_at='2025-09-09T15:05:54.755858+00:00', parent_config={'configurable': {'thread_id': '2', 'checkpoint_ns': '', 'checkpoint_id': '1f08d8e7-ba19-6166-bfff-f3add2823aa8'}}, tasks=(PregelTask(id='312ced63-0c44-bbc4-6ec8-5f21896c3ef0', name='assistant', path=('__pregel_pull', 'assistant'), error=None, interrupts=(), state=None, result={'messages': [AIMessage(content='', additional_kwargs={'function_call': {'name': 'multiply', 'arguments': '{\"b\": 3.0, \"a\": 2.0}'}}, response_metadata={'prompt_feedback': {'block_reason': 0, 'safety_ratings': []}, 'finish_reason': 'STOP', 'model_name': 'gemini-2.5-flash', 'safety_ratings': []}, id='run--605f228a-7531-415c-95f3-268496072b50-0', tool_calls=[{'name': 'multiply', 'args': {'b': 3.0, 'a': 2.0}, 'id': '414646b4-f03c-4203-992a-6c501d43eb66', 'type': 'tool_call'}], usage_metadata={'input_tokens': 166, 'output_tokens': 66, 'total_tokens': 232, 'input_token_details': {'cache_read': 0}, 'output_token_details': {'reasoning': 48}})]}),), interrupts=())"
      ]
     },
     "execution_count": 9,
     "metadata": {},
     "output_type": "execute_result"
    }
   ],
   "source": [
    "state_history[-2]"
   ]
  },
  {
   "cell_type": "markdown",
   "id": "d0be94ed-b478-4052-8076-dbf86a7a2065",
   "metadata": {},
   "source": [
    "We can rerun our agent from the previous states"
   ]
  },
  {
   "cell_type": "code",
   "execution_count": 10,
   "id": "4b0eae82-1d9c-40b7-a2cf-c1d274c0067b",
   "metadata": {},
   "outputs": [
    {
     "data": {
      "text/plain": [
       "StateSnapshot(values={'messages': [HumanMessage(content='Multiply 2 and 3', additional_kwargs={}, response_metadata={}, id='78b8f185-0192-41f3-bd51-9a1addc58783'), AIMessage(content='', additional_kwargs={'function_call': {'name': 'multiply', 'arguments': '{\"b\": 3.0, \"a\": 2.0}'}}, response_metadata={'prompt_feedback': {'block_reason': 0, 'safety_ratings': []}, 'finish_reason': 'STOP', 'model_name': 'gemini-2.5-flash', 'safety_ratings': []}, id='run--605f228a-7531-415c-95f3-268496072b50-0', tool_calls=[{'name': 'multiply', 'args': {'b': 3.0, 'a': 2.0}, 'id': '414646b4-f03c-4203-992a-6c501d43eb66', 'type': 'tool_call'}], usage_metadata={'input_tokens': 166, 'output_tokens': 66, 'total_tokens': 232, 'input_token_details': {'cache_read': 0}, 'output_token_details': {'reasoning': 48}})]}, next=('tools',), config={'configurable': {'thread_id': '2', 'checkpoint_ns': '', 'checkpoint_id': '1f08d8e7-c2a7-6134-8001-a0d9ea246c12'}}, metadata={'source': 'loop', 'step': 1, 'parents': {}}, created_at='2025-09-09T15:05:55.651384+00:00', parent_config={'configurable': {'thread_id': '2', 'checkpoint_ns': '', 'checkpoint_id': '1f08d8e7-ba1c-6b36-8000-fb9c39f41890'}}, tasks=(PregelTask(id='2e69cb6f-e711-31d2-e606-f19755ff729b', name='tools', path=('__pregel_pull', 'tools'), error=None, interrupts=(), state=None, result={'messages': [ToolMessage(content='6', name='multiply', id='0c04adee-85c0-4ccc-8c9a-c0813221d72c', tool_call_id='414646b4-f03c-4203-992a-6c501d43eb66')]}),), interrupts=())"
      ]
     },
     "execution_count": 10,
     "metadata": {},
     "output_type": "execute_result"
    }
   ],
   "source": [
    "to_replay = state_history[-3]\n",
    "to_replay"
   ]
  },
  {
   "cell_type": "code",
   "execution_count": 11,
   "id": "234701a9-26b5-4d57-905a-4927fc082211",
   "metadata": {},
   "outputs": [
    {
     "data": {
      "text/plain": [
       "{'messages': [HumanMessage(content='Multiply 2 and 3', additional_kwargs={}, response_metadata={}, id='78b8f185-0192-41f3-bd51-9a1addc58783'),\n",
       "  AIMessage(content='', additional_kwargs={'function_call': {'name': 'multiply', 'arguments': '{\"b\": 3.0, \"a\": 2.0}'}}, response_metadata={'prompt_feedback': {'block_reason': 0, 'safety_ratings': []}, 'finish_reason': 'STOP', 'model_name': 'gemini-2.5-flash', 'safety_ratings': []}, id='run--605f228a-7531-415c-95f3-268496072b50-0', tool_calls=[{'name': 'multiply', 'args': {'b': 3.0, 'a': 2.0}, 'id': '414646b4-f03c-4203-992a-6c501d43eb66', 'type': 'tool_call'}], usage_metadata={'input_tokens': 166, 'output_tokens': 66, 'total_tokens': 232, 'input_token_details': {'cache_read': 0}, 'output_token_details': {'reasoning': 48}})]}"
      ]
     },
     "execution_count": 11,
     "metadata": {},
     "output_type": "execute_result"
    }
   ],
   "source": [
    "to_replay.values"
   ]
  },
  {
   "cell_type": "code",
   "execution_count": 12,
   "id": "bb47c7d7-c865-43ba-9c8b-010f65e5323b",
   "metadata": {},
   "outputs": [
    {
     "data": {
      "text/plain": [
       "('tools',)"
      ]
     },
     "execution_count": 12,
     "metadata": {},
     "output_type": "execute_result"
    }
   ],
   "source": [
    "to_replay.next"
   ]
  },
  {
   "cell_type": "code",
   "execution_count": 13,
   "id": "a70749ed-1511-43c5-be26-5f56a14b2196",
   "metadata": {},
   "outputs": [
    {
     "data": {
      "text/plain": [
       "{'configurable': {'thread_id': '2',\n",
       "  'checkpoint_ns': '',\n",
       "  'checkpoint_id': '1f08d8e7-c2a7-6134-8001-a0d9ea246c12'}}"
      ]
     },
     "execution_count": 13,
     "metadata": {},
     "output_type": "execute_result"
    }
   ],
   "source": [
    "to_replay.config"
   ]
  },
  {
   "cell_type": "code",
   "execution_count": 14,
   "id": "8f52336b-0a27-4da3-83e4-675d758acfa9",
   "metadata": {},
   "outputs": [
    {
     "name": "stdout",
     "output_type": "stream",
     "text": [
      "==================================\u001b[1m Ai Message \u001b[0m==================================\n",
      "Tool Calls:\n",
      "  multiply (414646b4-f03c-4203-992a-6c501d43eb66)\n",
      " Call ID: 414646b4-f03c-4203-992a-6c501d43eb66\n",
      "  Args:\n",
      "    b: 3.0\n",
      "    a: 2.0\n",
      "=================================\u001b[1m Tool Message \u001b[0m=================================\n",
      "Name: multiply\n",
      "\n",
      "6\n",
      "==================================\u001b[1m Ai Message \u001b[0m==================================\n",
      "\n",
      "The result of multiplying 2 and 3 is 6.\n"
     ]
    }
   ],
   "source": [
    "for event in graph.stream(None, to_replay.config, stream_mode=\"values\"):\n",
    "    event['messages'][-1].pretty_print()"
   ]
  },
  {
   "cell_type": "markdown",
   "id": "558b46e7-d1fd-4374-af77-eaf52447cb10",
   "metadata": {},
   "source": [
    "---\n",
    "# Forking\n",
    "When we want to run from the same step, but with a different input, we use Forking."
   ]
  },
  {
   "cell_type": "code",
   "execution_count": 15,
   "id": "272a0175-f4c8-4e78-832d-eba002346dc5",
   "metadata": {},
   "outputs": [
    {
     "data": {
      "text/plain": [
       "{'messages': [HumanMessage(content='Multiply 2 and 3', additional_kwargs={}, response_metadata={}, id='78b8f185-0192-41f3-bd51-9a1addc58783'),\n",
       "  AIMessage(content='', additional_kwargs={'function_call': {'name': 'multiply', 'arguments': '{\"b\": 3.0, \"a\": 2.0}'}}, response_metadata={'prompt_feedback': {'block_reason': 0, 'safety_ratings': []}, 'finish_reason': 'STOP', 'model_name': 'gemini-2.5-flash', 'safety_ratings': []}, id='run--605f228a-7531-415c-95f3-268496072b50-0', tool_calls=[{'name': 'multiply', 'args': {'b': 3.0, 'a': 2.0}, 'id': '414646b4-f03c-4203-992a-6c501d43eb66', 'type': 'tool_call'}], usage_metadata={'input_tokens': 166, 'output_tokens': 66, 'total_tokens': 232, 'input_token_details': {'cache_read': 0}, 'output_token_details': {'reasoning': 48}})]}"
      ]
     },
     "execution_count": 15,
     "metadata": {},
     "output_type": "execute_result"
    }
   ],
   "source": [
    "to_fork = state_history[-3]\n",
    "to_fork.values"
   ]
  },
  {
   "cell_type": "code",
   "execution_count": 16,
   "id": "6a75f9db-8306-44ed-91a7-fb979e693b75",
   "metadata": {},
   "outputs": [
    {
     "data": {
      "text/plain": [
       "[HumanMessage(content='Multiply 2 and 3', additional_kwargs={}, response_metadata={}, id='78b8f185-0192-41f3-bd51-9a1addc58783'),\n",
       " AIMessage(content='', additional_kwargs={'function_call': {'name': 'multiply', 'arguments': '{\"b\": 3.0, \"a\": 2.0}'}}, response_metadata={'prompt_feedback': {'block_reason': 0, 'safety_ratings': []}, 'finish_reason': 'STOP', 'model_name': 'gemini-2.5-flash', 'safety_ratings': []}, id='run--605f228a-7531-415c-95f3-268496072b50-0', tool_calls=[{'name': 'multiply', 'args': {'b': 3.0, 'a': 2.0}, 'id': '414646b4-f03c-4203-992a-6c501d43eb66', 'type': 'tool_call'}], usage_metadata={'input_tokens': 166, 'output_tokens': 66, 'total_tokens': 232, 'input_token_details': {'cache_read': 0}, 'output_token_details': {'reasoning': 48}})]"
      ]
     },
     "execution_count": 16,
     "metadata": {},
     "output_type": "execute_result"
    }
   ],
   "source": [
    "to_fork.values['messages']"
   ]
  },
  {
   "cell_type": "code",
   "execution_count": 17,
   "id": "ba2a3c1e-e4e9-4d1b-8f20-bd7f865d85f8",
   "metadata": {},
   "outputs": [
    {
     "data": {
      "text/plain": [
       "{'configurable': {'thread_id': '2',\n",
       "  'checkpoint_ns': '',\n",
       "  'checkpoint_id': '1f08d8e7-c2a7-6134-8001-a0d9ea246c12'}}"
      ]
     },
     "execution_count": 17,
     "metadata": {},
     "output_type": "execute_result"
    }
   ],
   "source": [
    "to_fork.config"
   ]
  },
  {
   "cell_type": "code",
   "execution_count": 21,
   "id": "05ba184d-f79a-4d10-92b2-79f2bda4f569",
   "metadata": {},
   "outputs": [],
   "source": [
    "fork_config = graph.update_state(\n",
    "    to_fork.config,\n",
    "    {\n",
    "        \"messages\": [HumanMessage(content=\"Multiply 5 and 3\", id=to_fork.values[\"messages\"][0].id)]\n",
    "    }\n",
    ")"
   ]
  },
  {
   "cell_type": "code",
   "execution_count": 23,
   "id": "8d10c0cd-933e-4cdc-bf60-996eea3b57c1",
   "metadata": {},
   "outputs": [
    {
     "data": {
      "text/plain": [
       "8"
      ]
     },
     "execution_count": 23,
     "metadata": {},
     "output_type": "execute_result"
    }
   ],
   "source": [
    "state_history = [s for s in graph.get_state_history(thread)]\n",
    "len(state_history)"
   ]
  },
  {
   "cell_type": "code",
   "execution_count": 27,
   "id": "d0096dd6-6ce1-40a6-8b57-17853495facf",
   "metadata": {
    "scrolled": true
   },
   "outputs": [
    {
     "data": {
      "text/plain": [
       "[HumanMessage(content='Multiply 5 and 3', additional_kwargs={}, response_metadata={}, id='78b8f185-0192-41f3-bd51-9a1addc58783'),\n",
       " AIMessage(content='', additional_kwargs={'function_call': {'name': 'multiply', 'arguments': '{\"b\": 3.0, \"a\": 2.0}'}}, response_metadata={'prompt_feedback': {'block_reason': 0, 'safety_ratings': []}, 'finish_reason': 'STOP', 'model_name': 'gemini-2.5-flash', 'safety_ratings': []}, id='run--605f228a-7531-415c-95f3-268496072b50-0', tool_calls=[{'name': 'multiply', 'args': {'b': 3.0, 'a': 2.0}, 'id': '414646b4-f03c-4203-992a-6c501d43eb66', 'type': 'tool_call'}], usage_metadata={'input_tokens': 166, 'output_tokens': 66, 'total_tokens': 232, 'input_token_details': {'cache_read': 0}, 'output_token_details': {'reasoning': 48}})]"
      ]
     },
     "execution_count": 27,
     "metadata": {},
     "output_type": "execute_result"
    }
   ],
   "source": [
    "graph.get_state(fork_config).values[\"messages\"]"
   ]
  },
  {
   "cell_type": "code",
   "execution_count": 28,
   "id": "25c30a88-6c00-43aa-9c65-219e83c7fd5f",
   "metadata": {},
   "outputs": [
    {
     "name": "stdout",
     "output_type": "stream",
     "text": [
      "==================================\u001b[1m Ai Message \u001b[0m==================================\n",
      "Tool Calls:\n",
      "  multiply (414646b4-f03c-4203-992a-6c501d43eb66)\n",
      " Call ID: 414646b4-f03c-4203-992a-6c501d43eb66\n",
      "  Args:\n",
      "    b: 3.0\n",
      "    a: 2.0\n",
      "=================================\u001b[1m Tool Message \u001b[0m=================================\n",
      "Name: multiply\n",
      "\n",
      "6\n",
      "==================================\u001b[1m Ai Message \u001b[0m==================================\n",
      "\n",
      "I'm sorry, I made a mistake and multiplied 2 and 3 instead of 5 and 3. My apologies. The product of 5 and 3 is 15.\n"
     ]
    }
   ],
   "source": [
    "for event in graph.stream(None, fork_config, stream_mode=\"values\"):\n",
    "    event['messages'][-1].pretty_print()"
   ]
  },
  {
   "cell_type": "code",
   "execution_count": null,
   "id": "43a95810-8042-49b1-9a26-6a528bc60cdc",
   "metadata": {},
   "outputs": [],
   "source": []
  },
  {
   "cell_type": "code",
   "execution_count": null,
   "id": "fe60277b-389c-46af-82f5-b96d736bec99",
   "metadata": {},
   "outputs": [],
   "source": []
  }
 ],
 "metadata": {
  "kernelspec": {
   "display_name": "Python 3 (ipykernel)",
   "language": "python",
   "name": "python3"
  },
  "language_info": {
   "codemirror_mode": {
    "name": "ipython",
    "version": 3
   },
   "file_extension": ".py",
   "mimetype": "text/x-python",
   "name": "python",
   "nbconvert_exporter": "python",
   "pygments_lexer": "ipython3",
   "version": "3.12.8"
  }
 },
 "nbformat": 4,
 "nbformat_minor": 5
}
