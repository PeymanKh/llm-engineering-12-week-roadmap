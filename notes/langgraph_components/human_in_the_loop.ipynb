{
 "cells": [
  {
   "cell_type": "markdown",
   "id": "b6114d7a-cd1d-46da-9f0b-2b66b0c8cbc9",
   "metadata": {},
   "source": [
    "# Streaming\n",
    "\n",
    "Streaming allows us to get real-time updates while the graph is running. In simple terms, when we use stream() instead of invoke(), we will recieve the output of graph step by step instead of wating for whole graph to finish and then get the output.\n",
    "\n",
    "One of the main usecases of streaming in production is that we can update the UI elements wheile the graph is executing. but ofcourse it is also used for debugging and experimenting in development environment."
   ]
  },
  {
   "cell_type": "code",
   "execution_count": 14,
   "id": "ba293030-1d91-4679-9bdd-8a6f6ae18791",
   "metadata": {},
   "outputs": [],
   "source": [
    "# Import libraries\n",
    "import sys, os"
   ]
  },
  {
   "cell_type": "code",
   "execution_count": 15,
   "id": "5759d45b-f8bc-45ac-9a1d-a98c02269c68",
   "metadata": {},
   "outputs": [],
   "source": [
    "# Import settings and sensitive variables from config\n",
    "sys.path.append(os.path.abspath(os.path.join(os.getcwd(), \"../..\")))\n",
    "from codes.config.config import config"
   ]
  },
  {
   "cell_type": "code",
   "execution_count": 58,
   "id": "e81d1163-095a-40a1-898c-28cfeefd6508",
   "metadata": {},
   "outputs": [],
   "source": [
    "# Create simple chatbot with summarization capability\n",
    "from pprint import pprint\n",
    "from IPython.display import Image, display\n",
    "\n",
    "from langchain_core.tools import tool\n",
    "from langchain_core.runnables import RunnableConfig\n",
    "from langchain_google_genai import ChatGoogleGenerativeAI\n",
    "from langchain_core.messages import HumanMessage, AIMessage, SystemMessage, RemoveMessage\n",
    "\n",
    "from langgraph.graph import MessagesState\n",
    "from langgraph.graph import StateGraph, START, END\n",
    "from langgraph.checkpoint.memory import MemorySaver\n",
    "from langgraph.prebuilt import ToolNode, tools_condition"
   ]
  },
  {
   "cell_type": "markdown",
   "id": "0e66aa46-e09c-4436-96d5-493d7864e84f",
   "metadata": {},
   "source": [
    "## Simple Chatbot with tool\n",
    "\n",
    "To understand the streaming concepts, let's first create a simple chatbot with summarization capability."
   ]
  },
  {
   "cell_type": "code",
   "execution_count": 20,
   "id": "228a0525-a249-4610-b736-81fcf2613b3c",
   "metadata": {},
   "outputs": [
    {
     "name": "stderr",
     "output_type": "stream",
     "text": [
      "2025-09-09 13:58:54,566 - urllib3.connectionpool - DEBUG - Starting new HTTPS connection (1): mermaid.ink:443\n",
      "2025-09-09 13:58:55,497 - urllib3.connectionpool - DEBUG - https://mermaid.ink:443 \"GET /img/LS0tCmNvbmZpZzoKICBmbG93Y2hhcnQ6CiAgICBjdXJ2ZTogbGluZWFyCi0tLQpncmFwaCBURDsKCV9fc3RhcnRfXyhbPHA+X19zdGFydF9fPC9wPl0pOjo6Zmlyc3QKCWNvbnZlcnNhdGlvbihjb252ZXJzYXRpb24pCgl0b29scyh0b29scykKCXN1bW1hcml6ZV9jb252ZXJzYXRpb24oc3VtbWFyaXplX2NvbnZlcnNhdGlvbikKCV9fZW5kX18oWzxwPl9fZW5kX188L3A+XSk6OjpsYXN0CglfX3N0YXJ0X18gLS0+IGNvbnZlcnNhdGlvbjsKCWNvbnZlcnNhdGlvbiAtLi0+IF9fZW5kX187Cgljb252ZXJzYXRpb24gLS4tPiBzdW1tYXJpemVfY29udmVyc2F0aW9uOwoJY29udmVyc2F0aW9uIC0uLT4gdG9vbHM7Cgl0b29scyAtLT4gY29udmVyc2F0aW9uOwoJc3VtbWFyaXplX2NvbnZlcnNhdGlvbiAtLT4gX19lbmRfXzsKCWNsYXNzRGVmIGRlZmF1bHQgZmlsbDojZjJmMGZmLGxpbmUtaGVpZ2h0OjEuMgoJY2xhc3NEZWYgZmlyc3QgZmlsbC1vcGFjaXR5OjAKCWNsYXNzRGVmIGxhc3QgZmlsbDojYmZiNmZjCg==?type=png&bgColor=!white HTTP/1.1\" 200 15915\n"
     ]
    },
    {
     "data": {
      "image/png": "[encoded data removed]",
      "text/plain": [
       "<IPython.core.display.Image object>"
      ]
     },
     "metadata": {},
     "output_type": "display_data"
    }
   ],
   "source": [
    "# LLM\n",
    "model = ChatGoogleGenerativeAI(model=config.model.model_name, api_key=config.model.api_key)\n",
    "\n",
    "# State\n",
    "class State(MessagesState):\n",
    "    summary: str\n",
    "\n",
    "# Tools\n",
    "@tool(\"Multiply\", description=\"Multiply two numbers\")\n",
    "def multiply(a: int, b: int) -> int:\n",
    "    \"\"\"Multiply a and b.\n",
    "\n",
    "    Args:\n",
    "        a: first int\n",
    "        b: second int\n",
    "    \"\"\"\n",
    "    return a * b\n",
    "\n",
    "@tool(\"add\", description=\"Add two numbers\")\n",
    "def add(a: int, b: int) -> int:\n",
    "    \"\"\"Adds a and b.\n",
    "\n",
    "    Args:\n",
    "        a: first int\n",
    "        b: second int\n",
    "    \"\"\"\n",
    "    return a + b\n",
    "\n",
    "@tool(\"divide\", description=\"Divide two numbers\")\n",
    "def divide(a: int, b: int) -> float:\n",
    "    \"\"\"Divide a and b.\n",
    "\n",
    "    Args:\n",
    "        a: first int\n",
    "        b: second int\n",
    "    \"\"\"\n",
    "    return a / b\n",
    "\n",
    "# Binf tools to the model\n",
    "tools = [multiply, add, divide]\n",
    "model_with_tools = model.bind_tools(tools)\n",
    "\n",
    "# Nodes\n",
    "def call_model(state: State, config: RunnableConfig) -> State:\n",
    "    \"\"\"\n",
    "    This node checks if summary of conversation exists. If true, it adds it to the messages history before invoking the llm.\n",
    "    if not, it only pass messages history.\n",
    "    \"\"\"\n",
    "    # Get summary if exists\n",
    "    summary = state.get(\"summary\", \"\")\n",
    "\n",
    "    if summary:\n",
    "        system_message = f\"Summary of conversation earlier: {summary}\"\n",
    "        messages = [SystemMessage(content=system_message)] + state[\"messages\"]\n",
    "\n",
    "    else: \n",
    "        messages = state[\"messages\"]\n",
    "\n",
    "    response = model_with_tools.invoke(messages, config)\n",
    "    return {\"messages\": [response]}\n",
    "\n",
    "def summarize_conversation(state: State):\n",
    "    \"\"\"\n",
    "    If a summary exits, this would update it and add new messages, but if not exist, this node will create new one.\n",
    "    also it removes all messages form the history, but 2 most recent ones.\n",
    "    \"\"\"\n",
    "    summary = state.get(\"summary\", \"\")\n",
    "\n",
    "    if summary:\n",
    "        summary_message = (\n",
    "            f\"This is summary of conversation so far: {summary}\\n\\n\"\n",
    "            \"Extend the summary by taking into account the new messages above:\"\n",
    "        )\n",
    "    else:\n",
    "        summary_message = \"Create a summary of the conversation above:\"\n",
    "\n",
    "    # Add prompt to out history\n",
    "    messages = state[\"messages\"] + [HumanMessage(content=summary_message)]\n",
    "    response = model.invoke(messages)\n",
    "\n",
    "    # Delete all but the 2 most recent messages\n",
    "    delete_messages = [RemoveMessage(id=m.id) for m in state[\"messages\"][:-2]]\n",
    "\n",
    "    return {\"summary\": response.content, \"messages\": delete_messages}\n",
    "\n",
    "\n",
    "# Router\n",
    "def router(state: State):\n",
    "    \"\"\"Return the next node after llm_call\"\"\"\n",
    "\n",
    "    messages = state[\"messages\"]\n",
    "    if len(messages) > 6:\n",
    "        return \"summarize_conversation\"\n",
    "    \n",
    "    return END\n",
    "\n",
    "\n",
    "# Define Workflow\n",
    "workflow = StateGraph(State)\n",
    "\n",
    "workflow.add_node(\"conversation\", call_model)\n",
    "workflow.add_node(\"tools\", ToolNode(tools))\n",
    "workflow.add_node(\"summarize_conversation\", summarize_conversation)\n",
    "\n",
    "workflow.add_edge(START, \"conversation\")\n",
    "workflow.add_conditional_edges(\"conversation\", tools_condition)\n",
    "workflow.add_edge(\"tools\", \"conversation\")\n",
    "workflow.add_conditional_edges(\n",
    "    \"conversation\",\n",
    "    router,\n",
    "    {\n",
    "        \"summarize_conversation\": \"summarize_conversation\",\n",
    "        END: END,\n",
    "    },\n",
    ")\n",
    "workflow.add_edge(\"summarize_conversation\", END)\n",
    "\n",
    "# Compile\n",
    "memory = MemorySaver()\n",
    "graph = workflow.compile(checkpointer=memory)\n",
    "display(Image(graph.get_graph().draw_mermaid_png()))"
   ]
  },
  {
   "cell_type": "code",
   "execution_count": 47,
   "id": "93b617f1-12e9-4b9e-8763-4becfacc3b92",
   "metadata": {},
   "outputs": [
    {
     "name": "stdout",
     "output_type": "stream",
     "text": [
      "{'conversation': {'messages': [AIMessage(content='Please provide the number you would like to multiply by 10.', additional_kwargs={}, response_metadata={'prompt_feedback': {'block_reason': 0, 'safety_ratings': []}, 'finish_reason': 'STOP', 'model_name': 'gemini-2.5-flash', 'safety_ratings': []}, id='run--de29ac20-d284-44f7-bee0-97f294c39c5d-0', usage_metadata={'input_tokens': 141, 'output_tokens': 121, 'total_tokens': 262, 'input_token_details': {'cache_read': 0}, 'output_token_details': {'reasoning': 107}})]}} \n",
      "\n"
     ]
    }
   ],
   "source": [
    "# Create a thread\n",
    "config = {\"configurable\": {\"thread_id\": \"4\"}}\n",
    "\n",
    "for chunk in graph.stream({\"messages\": \"what does it times 10?\"}, config=config):\n",
    "    print(chunk, \"\\n\")"
   ]
  },
  {
   "cell_type": "markdown",
   "id": "af820d11-9a18-47f4-ac00-163c32bcb598",
   "metadata": {},
   "source": [
    "As shown above, we can see the state after each node! but it does not stop here, we can pass `stream_mode` parameter value. here is a list of what we have: \n",
    "\n",
    "1. **`values`**: Streams the full value of the state after each step of the graph.\n",
    "2. **`updates`**: Streams the updates to the state after each step of the graph. If multiple updates are made in the same step (e.g., multiple nodes are run), those updates are streamed separately.\n",
    "3. **`custom`**: Streams custom data from inside your graph nodes.\n",
    "4. **`messages`**: Streams 2-tuples (LLM token, metadata) from any graph nodes where an LLM is invoked.\n",
    "5. **`debug`**: Streams as much information as possible throughout the execution of the graph."
   ]
  },
  {
   "cell_type": "markdown",
   "id": "8c1a190d-c958-4809-9c86-db970b6c0c2c",
   "metadata": {},
   "source": [
    "---\n",
    "# Breakpoints\n",
    "\n",
    "Sometimes we need to interrupt our workflow, send state to a user, and allow the user to accept an action or maybe we want to modify our state! here is when we use interrupt. In the following example, we use compile the same graph, but this time, with interrupt"
   ]
  },
  {
   "cell_type": "code",
   "execution_count": 52,
   "id": "df35d595-6f51-466f-b3c2-b68663aadfd7",
   "metadata": {},
   "outputs": [
    {
     "name": "stderr",
     "output_type": "stream",
     "text": [
      "2025-09-09 14:25:57,880 - urllib3.connectionpool - DEBUG - Starting new HTTPS connection (1): mermaid.ink:443\n",
      "2025-09-09 14:25:58,622 - urllib3.connectionpool - DEBUG - https://mermaid.ink:443 \"GET /img/LS0tCmNvbmZpZzoKICBmbG93Y2hhcnQ6CiAgICBjdXJ2ZTogbGluZWFyCi0tLQpncmFwaCBURDsKCV9fc3RhcnRfXyhbPHA+X19zdGFydF9fPC9wPl0pOjo6Zmlyc3QKCWNvbnZlcnNhdGlvbihjb252ZXJzYXRpb24pCgl0b29scyh0b29sczxoci8+PHNtYWxsPjxlbT5fX2ludGVycnVwdCA9IGJlZm9yZTwvZW0+PC9zbWFsbD4pCglzdW1tYXJpemVfY29udmVyc2F0aW9uKHN1bW1hcml6ZV9jb252ZXJzYXRpb24pCglfX2VuZF9fKFs8cD5fX2VuZF9fPC9wPl0pOjo6bGFzdAoJX19zdGFydF9fIC0tPiBjb252ZXJzYXRpb247Cgljb252ZXJzYXRpb24gLS4tPiBfX2VuZF9fOwoJY29udmVyc2F0aW9uIC0uLT4gc3VtbWFyaXplX2NvbnZlcnNhdGlvbjsKCWNvbnZlcnNhdGlvbiAtLi0+IHRvb2xzOwoJdG9vbHMgLS0+IGNvbnZlcnNhdGlvbjsKCXN1bW1hcml6ZV9jb252ZXJzYXRpb24gLS0+IF9fZW5kX187CgljbGFzc0RlZiBkZWZhdWx0IGZpbGw6I2YyZjBmZixsaW5lLWhlaWdodDoxLjIKCWNsYXNzRGVmIGZpcnN0IGZpbGwtb3BhY2l0eTowCgljbGFzc0RlZiBsYXN0IGZpbGw6I2JmYjZmYwo=?type=png&bgColor=!white HTTP/1.1\" 200 18184\n"
     ]
    },
    {
     "data": {
      "image/png": "[encoded data removed]",
      "text/plain": [
       "<IPython.core.display.Image object>"
      ]
     },
     "metadata": {},
     "output_type": "display_data"
    }
   ],
   "source": [
    "# Compile\n",
    "memory = MemorySaver()\n",
    "graph = workflow.compile(interrupt_before=[\"tools\"], checkpointer=memory)\n",
    "display(Image(graph.get_graph().draw_mermaid_png()))"
   ]
  },
  {
   "cell_type": "code",
   "execution_count": 53,
   "id": "ca707674-fda9-4d59-bbbc-be4ca0307cf7",
   "metadata": {},
   "outputs": [
    {
     "name": "stdout",
     "output_type": "stream",
     "text": [
      "================================\u001b[1m Human Message \u001b[0m=================================\n",
      "\n",
      "Multiply 2 and 3\n",
      "==================================\u001b[1m Ai Message \u001b[0m==================================\n",
      "Tool Calls:\n",
      "  Multiply (041898ef-f705-41d6-b8c7-997fc44a6b49)\n",
      " Call ID: 041898ef-f705-41d6-b8c7-997fc44a6b49\n",
      "  Args:\n",
      "    a: 2.0\n",
      "    b: 3.0\n"
     ]
    }
   ],
   "source": [
    "# Input\n",
    "initial_input = {\"messages\": HumanMessage(content=\"Multiply 2 and 3\")}\n",
    "\n",
    "# Thread\n",
    "thread = {\"configurable\": {\"thread_id\": \"11\"}}\n",
    "\n",
    "# Run the graph until the first interruption\n",
    "for event in graph.stream(initial_input, thread, stream_mode=\"values\"):\n",
    "    event['messages'][-1].pretty_print()"
   ]
  },
  {
   "cell_type": "code",
   "execution_count": 60,
   "id": "2f814ffd-8fce-4246-898f-e4c0b2e04e46",
   "metadata": {},
   "outputs": [
    {
     "data": {
      "text/plain": [
       "StateSnapshot(values={'messages': [HumanMessage(content='Multiply 2 and 3', additional_kwargs={}, response_metadata={}, id='93cfa7c5-5e2a-47d7-8fb8-dfedd60d9304'), AIMessage(content='', additional_kwargs={'function_call': {'name': 'Multiply', 'arguments': '{\"a\": 2.0, \"b\": 3.0}'}}, response_metadata={'prompt_feedback': {'block_reason': 0, 'safety_ratings': []}, 'finish_reason': 'STOP', 'model_name': 'gemini-2.5-flash', 'safety_ratings': []}, id='run--86ce23bb-fb09-40fc-944e-e876ed792c37-0', tool_calls=[{'name': 'Multiply', 'args': {'a': 2.0, 'b': 3.0}, 'id': '041898ef-f705-41d6-b8c7-997fc44a6b49', 'type': 'tool_call'}], usage_metadata={'input_tokens': 139, 'output_tokens': 67, 'total_tokens': 206, 'input_token_details': {'cache_read': 0}, 'output_token_details': {'reasoning': 49}})]}, next=('tools',), config={'configurable': {'thread_id': '11', 'checkpoint_ns': '', 'checkpoint_id': '1f08d6fd-8823-6d5a-8001-df6061a8ca8b'}}, metadata={'source': 'loop', 'step': 1, 'parents': {}}, created_at='2025-09-09T11:26:36.178544+00:00', parent_config={'configurable': {'thread_id': '11', 'checkpoint_ns': '', 'checkpoint_id': '1f08d6fd-80e9-6bb6-8000-0bb0f5a81cec'}}, tasks=(PregelTask(id='141ab717-a9bc-8a03-beb8-8325aaacfbd8', name='tools', path=('__pregel_pull', 'tools'), error=None, interrupts=(), state=None, result=None),), interrupts=())"
      ]
     },
     "execution_count": 60,
     "metadata": {},
     "output_type": "execute_result"
    }
   ],
   "source": [
    "state = graph.get_state(thread)\n",
    "state"
   ]
  },
  {
   "cell_type": "code",
   "execution_count": 61,
   "id": "f0b17a74-d7d1-4a50-957b-26e6db27cc9c",
   "metadata": {},
   "outputs": [
    {
     "data": {
      "text/plain": [
       "('tools',)"
      ]
     },
     "execution_count": 61,
     "metadata": {},
     "output_type": "execute_result"
    }
   ],
   "source": [
    "state.next"
   ]
  },
  {
   "cell_type": "markdown",
   "id": "839d28d6-581f-4679-abfc-7ca267df145d",
   "metadata": {},
   "source": [
    "When we invoke the graph with `None`, it will just continue from the last state checkpoint!"
   ]
  },
  {
   "cell_type": "code",
   "execution_count": 62,
   "id": "7a3caedd-5e08-4081-bd54-956a6c2d3d80",
   "metadata": {},
   "outputs": [
    {
     "name": "stdout",
     "output_type": "stream",
     "text": [
      "==================================\u001b[1m Ai Message \u001b[0m==================================\n",
      "Tool Calls:\n",
      "  Multiply (041898ef-f705-41d6-b8c7-997fc44a6b49)\n",
      " Call ID: 041898ef-f705-41d6-b8c7-997fc44a6b49\n",
      "  Args:\n",
      "    a: 2.0\n",
      "    b: 3.0\n",
      "=================================\u001b[1m Tool Message \u001b[0m=================================\n",
      "Name: Multiply\n",
      "\n",
      "6\n",
      "==================================\u001b[1m Ai Message \u001b[0m==================================\n",
      "\n",
      "The result of multiplying 2 and 3 is 6.\n"
     ]
    }
   ],
   "source": [
    "for event in graph.stream(None, thread, stream_mode=\"values\"):\n",
    "    event['messages'][-1].pretty_print()"
   ]
  },
  {
   "cell_type": "code",
   "execution_count": 63,
   "id": "dcd819ac-30c7-48b9-857c-ff7f2d2d4fe8",
   "metadata": {},
   "outputs": [
    {
     "name": "stdout",
     "output_type": "stream",
     "text": [
      "================================\u001b[1m Human Message \u001b[0m=================================\n",
      "\n",
      "Multiply 2 and 3\n",
      "==================================\u001b[1m Ai Message \u001b[0m==================================\n",
      "Tool Calls:\n",
      "  Multiply (3b4f0425-a85e-4d02-86fb-e93ba1490bd6)\n",
      " Call ID: 3b4f0425-a85e-4d02-86fb-e93ba1490bd6\n",
      "  Args:\n",
      "    a: 2.0\n",
      "    b: 3.0\n"
     ]
    },
    {
     "name": "stdin",
     "output_type": "stream",
     "text": [
      "Do you want to call the tool? (yes/no):  yes\n"
     ]
    },
    {
     "name": "stdout",
     "output_type": "stream",
     "text": [
      "==================================\u001b[1m Ai Message \u001b[0m==================================\n",
      "Tool Calls:\n",
      "  Multiply (3b4f0425-a85e-4d02-86fb-e93ba1490bd6)\n",
      " Call ID: 3b4f0425-a85e-4d02-86fb-e93ba1490bd6\n",
      "  Args:\n",
      "    a: 2.0\n",
      "    b: 3.0\n",
      "=================================\u001b[1m Tool Message \u001b[0m=================================\n",
      "Name: Multiply\n",
      "\n",
      "6\n",
      "==================================\u001b[1m Ai Message \u001b[0m==================================\n",
      "\n",
      "The result of multiplying 2 and 3 is 6.\n"
     ]
    }
   ],
   "source": [
    "# Input\n",
    "initial_input = {\"messages\": HumanMessage(content=\"Multiply 2 and 3\")}\n",
    "\n",
    "# Thread\n",
    "thread = {\"configurable\": {\"thread_id\": \"2\"}}\n",
    "\n",
    "# Run the graph until the first interruption\n",
    "for event in graph.stream(initial_input, thread, stream_mode=\"values\"):\n",
    "    event['messages'][-1].pretty_print()\n",
    "\n",
    "# Get user feedback\n",
    "user_approval = input(\"Do you want to call the tool? (yes/no): \")\n",
    "\n",
    "# Check approval\n",
    "if user_approval.lower() == \"yes\":\n",
    "    \n",
    "    # If approved, continue the graph execution\n",
    "    for event in graph.stream(None, thread, stream_mode=\"values\"):\n",
    "        event['messages'][-1].pretty_print()\n",
    "        \n",
    "else:\n",
    "    print(\"Operation cancelled by user.\")\n"
   ]
  },
  {
   "cell_type": "code",
   "execution_count": 74,
   "id": "e5cdf389-cc5c-4675-849e-05b50b95effd",
   "metadata": {},
   "outputs": [
    {
     "data": {
      "text/plain": [
       "StateSnapshot(values={'messages': [HumanMessage(content='No, actually multiply 3 and 3!', additional_kwargs={}, response_metadata={}, id='590be358-fc8a-46c2-91f7-3e6978fdf81e')]}, next=('conversation',), config={'configurable': {'thread_id': '121323123123', 'checkpoint_ns': '', 'checkpoint_id': '1f08d864-5128-6bd0-8000-444bc93f913f'}}, metadata={'source': 'update', 'step': 0, 'parents': {}}, created_at='2025-09-09T14:07:07.246268+00:00', parent_config=None, tasks=(PregelTask(id='4c851cd0-2031-dd57-df33-fb82b36a8270', name='conversation', path=('__pregel_pull', 'conversation'), error=None, interrupts=(), state=None, result=None),), interrupts=())"
      ]
     },
     "execution_count": 74,
     "metadata": {},
     "output_type": "execute_result"
    }
   ],
   "source": [
    "state = graph.get_state(thread)\n",
    "state"
   ]
  },
  {
   "cell_type": "markdown",
   "id": "e85410ff-f871-4d9a-a445-38e13d98de67",
   "metadata": {},
   "source": [
    "# Editing graph state on interupt\n",
    "\n",
    "when interupt occurs on our workflow, we can update the state with the following command"
   ]
  },
  {
   "cell_type": "code",
   "execution_count": 75,
   "id": "97bf99fb-41cf-41fb-a81c-b38e34ec8de3",
   "metadata": {},
   "outputs": [
    {
     "data": {
      "text/plain": [
       "{'configurable': {'thread_id': '121323123123',\n",
       "  'checkpoint_ns': '',\n",
       "  'checkpoint_id': '1f08d865-1baa-6c3c-8001-2570bf489cfe'}}"
      ]
     },
     "execution_count": 75,
     "metadata": {},
     "output_type": "execute_result"
    }
   ],
   "source": [
    "graph.update_state(\n",
    "    thread,\n",
    "    {\"messages\": [HumanMessage(content=\"No, actually multiply 3 and 3!\")]},\n",
    ")"
   ]
  },
  {
   "cell_type": "code",
   "execution_count": 76,
   "id": "3654361b-6f04-4086-a795-bd89c87c5857",
   "metadata": {},
   "outputs": [
    {
     "data": {
      "text/plain": [
       "StateSnapshot(values={'messages': [HumanMessage(content='No, actually multiply 3 and 3!', additional_kwargs={}, response_metadata={}, id='590be358-fc8a-46c2-91f7-3e6978fdf81e')]}, next=('conversation',), config={'configurable': {'thread_id': '121323123123', 'checkpoint_ns': '', 'checkpoint_id': '1f08d864-5128-6bd0-8000-444bc93f913f'}}, metadata={'source': 'update', 'step': 0, 'parents': {}}, created_at='2025-09-09T14:07:07.246268+00:00', parent_config=None, tasks=(PregelTask(id='4c851cd0-2031-dd57-df33-fb82b36a8270', name='conversation', path=('__pregel_pull', 'conversation'), error=None, interrupts=(), state=None, result=None),), interrupts=())"
      ]
     },
     "execution_count": 76,
     "metadata": {},
     "output_type": "execute_result"
    }
   ],
   "source": [
    "state"
   ]
  },
  {
   "cell_type": "code",
   "execution_count": null,
   "id": "a66c86c3-4ec6-4ca0-8de7-4d0b9ac65569",
   "metadata": {},
   "outputs": [],
   "source": []
  }
 ],
 "metadata": {
  "kernelspec": {
   "display_name": "Python 3 (ipykernel)",
   "language": "python",
   "name": "python3"
  },
  "language_info": {
   "codemirror_mode": {
    "name": "ipython",
    "version": 3
   },
   "file_extension": ".py",
   "mimetype": "text/x-python",
   "name": "python",
   "nbconvert_exporter": "python",
   "pygments_lexer": "ipython3",
   "version": "3.12.8"
  }
 },
 "nbformat": 4,
 "nbformat_minor": 5
}
