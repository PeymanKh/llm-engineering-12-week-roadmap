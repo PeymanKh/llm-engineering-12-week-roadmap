{
 "cells": [
  {
   "cell_type": "markdown",
   "id": "80b45f1e-2ab7-462c-ac55-4f491e097723",
   "metadata": {},
   "source": [
    "# Sub-graphs\n",
    "\n",
    "A sub-graph is a graph that is used as a node in another graph. This is particulary useful for multi-agent systems, with team of agents that each have their own graph and state.\n",
    "\n",
    "Sub-graphs can communicate with the parent graph, but if they use different states, we need to handle state transformation. \n",
    "\n",
    "In this notebook we create a recipe generation graph, with two subgraphs, one is used to generate the recipe and steps, and the other one to generate nutritional informations."
   ]
  },
  {
   "cell_type": "code",
   "execution_count": 1,
   "id": "29984749-4e85-46ba-a965-35691a42f042",
   "metadata": {},
   "outputs": [],
   "source": [
    "# Import libraries\n",
    "import sys, os"
   ]
  },
  {
   "cell_type": "code",
   "execution_count": 2,
   "id": "1c27fb16-72b2-49e1-96e1-8ec27598537a",
   "metadata": {},
   "outputs": [
    {
     "name": "stderr",
     "output_type": "stream",
     "text": [
      "2025-09-10 01:13:53,801 - root - INFO - Configuration loaded for environment: development\n"
     ]
    }
   ],
   "source": [
    "# Import settings and sensitive variables from config\n",
    "sys.path.append(os.path.abspath(os.path.join(os.getcwd(), \"../..\")))\n",
    "from codes.config.config import config"
   ]
  },
  {
   "cell_type": "code",
   "execution_count": 30,
   "id": "be08f0f5-445d-4f14-80ca-6db66347ef6f",
   "metadata": {},
   "outputs": [],
   "source": [
    "# Import libraries\n",
    "from operator import add\n",
    "from pprint import pprint\n",
    "from typing_extensions import TypedDict\n",
    "from IPython.display import Image, display\n",
    "from typing import List, Dict, Optional, Annotated\n",
    "\n",
    "from langchain_core.tools import tool\n",
    "from langchain_core.runnables import RunnableConfig\n",
    "from langchain_google_genai import ChatGoogleGenerativeAI\n",
    "from langchain_core.messages import HumanMessage, AIMessage, SystemMessage, RemoveMessage, AnyMessage\n",
    "\n",
    "from langgraph.graph import MessagesState\n",
    "from langgraph.graph import StateGraph, START, END\n",
    "from langgraph.checkpoint.memory import MemorySaver\n",
    "from langgraph.prebuilt import ToolNode, tools_condition"
   ]
  },
  {
   "cell_type": "code",
   "execution_count": 33,
   "id": "1040df94-6b9f-45b4-961e-a4ec8c5469aa",
   "metadata": {},
   "outputs": [],
   "source": [
    "# Create sub-graph states\n",
    "class RecipeCard(TypedDict):\n",
    "    dish_name: str\n",
    "    ingredients: List[str]\n",
    "    steps: List[str]\n",
    "\n",
    "class NutritionalInfo(TypedDict):\n",
    "    calories: int\n",
    "    macros: Dict[str, int]\n",
    "\n",
    "\n",
    "# Create parent graph state\n",
    "class EntryGraph(TypedDict):\n",
    "    messages: Annotated[list[AnyMessage], add]\n",
    "    diet_type: str\n",
    "    nutritional_goal: str\n",
    "    recipe: Optional[RecipeCard]\n",
    "    nutritional_info: Optional[NutritionalInfo]\n"
   ]
  },
  {
   "cell_type": "code",
   "execution_count": 38,
   "id": "4cecc7a6-589a-4bc2-8a00-765f8991e12d",
   "metadata": {},
   "outputs": [
    {
     "name": "stderr",
     "output_type": "stream",
     "text": [
      "2025-09-10 15:58:34,437 - urllib3.connectionpool - DEBUG - Starting new HTTPS connection (1): mermaid.ink:443\n",
      "2025-09-10 15:58:34,695 - urllib3.connectionpool - DEBUG - https://mermaid.ink:443 \"GET /img/LS0tCmNvbmZpZzoKICBmbG93Y2hhcnQ6CiAgICBjdXJ2ZTogbGluZWFyCi0tLQpncmFwaCBURDsKCV9fc3RhcnRfXyhbPHA+X19zdGFydF9fPC9wPl0pOjo6Zmlyc3QKCW5hbWUobmFtZSkKCWluZ3JlZGllbnRzKGluZ3JlZGllbnRzKQoJc3RlcHMoc3RlcHMpCglfX2VuZF9fKFs8cD5fX2VuZF9fPC9wPl0pOjo6bGFzdAoJX19zdGFydF9fIC0tPiBuYW1lOwoJaW5ncmVkaWVudHMgLS0+IHN0ZXBzOwoJbmFtZSAtLT4gaW5ncmVkaWVudHM7CglzdGVwcyAtLT4gX19lbmRfXzsKCWNsYXNzRGVmIGRlZmF1bHQgZmlsbDojZjJmMGZmLGxpbmUtaGVpZ2h0OjEuMgoJY2xhc3NEZWYgZmlyc3QgZmlsbC1vcGFjaXR5OjAKCWNsYXNzRGVmIGxhc3QgZmlsbDojYmZiNmZjCg==?type=png&bgColor=!white HTTP/1.1\" 200 10804\n"
     ]
    },
    {
     "data": {
      "image/png": "[encoded data removed]",
      "text/plain": [
       "<IPython.core.display.Image object>"
      ]
     },
     "metadata": {},
     "output_type": "display_data"
    }
   ],
   "source": [
    "# Recipe sub-graph implementation\n",
    "def generate_recipe_name(state: RecipeCard):\n",
    "    # Extract dish name from existing ingredients or create default\n",
    "    dish_name = \"Healthy Pasta Bowl\"\n",
    "    return {\"dish_name\": dish_name}\n",
    "\n",
    "def generate_ingredients(state: RecipeCard):\n",
    "    # Generate ingredients based on the dish\n",
    "    ingredients = [\n",
    "        \"200g whole wheat pasta\",\n",
    "        \"2 tbsp olive oil\",\n",
    "        \"3 cloves garlic, minced\",\n",
    "        \"400g canned tomatoes\",\n",
    "        \"1/4 cup fresh basil\",\n",
    "        \"50g parmesan cheese\"\n",
    "    ]\n",
    "    return {\"ingredients\": ingredients}\n",
    "\n",
    "def generate_cooking_steps(state: RecipeCard):\n",
    "    steps = [\n",
    "        \"Boil salted water in a large pot\",\n",
    "        \"Cook pasta according to package instructions until al dente\",\n",
    "        \"Heat olive oil in a pan and sauté minced garlic\",\n",
    "        \"Add canned tomatoes and simmer for 10 minutes\",\n",
    "        \"Drain pasta and combine with sauce\",\n",
    "        \"Garnish with fresh basil and parmesan cheese\"\n",
    "    ]\n",
    "    return {\"steps\": steps}\n",
    "\n",
    "# CREATE RECIPE SUB-GRAPH\n",
    "recipe_subgraph_builder = StateGraph(RecipeCard)\n",
    "recipe_subgraph_builder.add_node(\"name\", generate_recipe_name)\n",
    "recipe_subgraph_builder.add_node(\"ingredients\", generate_ingredients)\n",
    "recipe_subgraph_builder.add_node(\"steps\", generate_cooking_steps)\n",
    "\n",
    "recipe_subgraph_builder.add_edge(START, \"name\")\n",
    "recipe_subgraph_builder.add_edge(\"name\", \"ingredients\")\n",
    "recipe_subgraph_builder.add_edge(\"ingredients\", \"steps\")\n",
    "recipe_subgraph_builder.add_edge(\"steps\", END)\n",
    "\n",
    "recipe_subgraph = recipe_subgraph_builder.compile()\n",
    "display(Image(recipe_subgraph.get_graph(xray=1).draw_mermaid_png()))"
   ]
  },
  {
   "cell_type": "code",
   "execution_count": 36,
   "id": "e2748349-a658-48ee-a7ef-325923825def",
   "metadata": {},
   "outputs": [
    {
     "name": "stderr",
     "output_type": "stream",
     "text": [
      "2025-09-10 15:58:12,414 - urllib3.connectionpool - DEBUG - Starting new HTTPS connection (1): mermaid.ink:443\n",
      "2025-09-10 15:58:13,135 - urllib3.connectionpool - DEBUG - https://mermaid.ink:443 \"GET /img/LS0tCmNvbmZpZzoKICBmbG93Y2hhcnQ6CiAgICBjdXJ2ZTogbGluZWFyCi0tLQpncmFwaCBURDsKCV9fc3RhcnRfXyhbPHA+X19zdGFydF9fPC9wPl0pOjo6Zmlyc3QKCWNhbG9yaWVzKGNhbG9yaWVzKQoJbWFjcm9zKG1hY3JvcykKCV9fZW5kX18oWzxwPl9fZW5kX188L3A+XSk6OjpsYXN0CglfX3N0YXJ0X18gLS0+IGNhbG9yaWVzOwoJY2Fsb3JpZXMgLS0+IG1hY3JvczsKCW1hY3JvcyAtLT4gX19lbmRfXzsKCWNsYXNzRGVmIGRlZmF1bHQgZmlsbDojZjJmMGZmLGxpbmUtaGVpZ2h0OjEuMgoJY2xhc3NEZWYgZmlyc3QgZmlsbC1vcGFjaXR5OjAKCWNsYXNzRGVmIGxhc3QgZmlsbDojYmZiNmZjCg==?type=png&bgColor=!white HTTP/1.1\" 200 8451\n"
     ]
    },
    {
     "data": {
      "image/png": "[encoded data removed]",
      "text/plain": [
       "<IPython.core.display.Image object>"
      ]
     },
     "metadata": {},
     "output_type": "display_data"
    }
   ],
   "source": [
    "# Nutritional info node implementation\n",
    "def calculate_calories(state: NutritionalInfo):\n",
    "    # Simple calorie calculation (in real app, you'd use nutrition API)\n",
    "    calories = 520  # Estimated for the pasta dish\n",
    "    return {\"calories\": calories}\n",
    "\n",
    "def calculate_macros(state: NutritionalInfo):\n",
    "    calories = state.get(\"calories\", 520)\n",
    "    # Calculate macros based on calories (simplified)\n",
    "    macros = {\n",
    "        \"protein\": int(calories * 0.15 / 4),  # 15% protein, 4 cal/g\n",
    "        \"carbs\": int(calories * 0.60 / 4),    # 60% carbs, 4 cal/g\n",
    "        \"fat\": int(calories * 0.25 / 9)       # 25% fat, 9 cal/g\n",
    "    }\n",
    "    return {\"macros\": macros}\n",
    "\n",
    "# CREATE NUTRITIONAL SUB-GRAPH\n",
    "nutrition_subgraph_builder = StateGraph(NutritionalInfo)\n",
    "nutrition_subgraph_builder.add_node(\"calories\", calculate_calories)\n",
    "nutrition_subgraph_builder.add_node(\"macros\", calculate_macros)\n",
    "\n",
    "nutrition_subgraph_builder.add_edge(START, \"calories\")\n",
    "nutrition_subgraph_builder.add_edge(\"calories\", \"macros\")\n",
    "nutrition_subgraph_builder.add_edge(\"macros\", END)\n",
    "\n",
    "nutrition_subgraph = nutrition_subgraph_builder.compile()\n",
    "display(Image(nutrition_subgraph.get_graph(xray=1).draw_mermaid_png()))"
   ]
  },
  {
   "cell_type": "code",
   "execution_count": 40,
   "id": "d667104c-648f-4b3b-893c-9189b70d1e1b",
   "metadata": {},
   "outputs": [
    {
     "name": "stderr",
     "output_type": "stream",
     "text": [
      "2025-09-10 16:01:10,367 - urllib3.connectionpool - DEBUG - Starting new HTTPS connection (1): mermaid.ink:443\n",
      "2025-09-10 16:01:11,155 - urllib3.connectionpool - DEBUG - https://mermaid.ink:443 \"GET /img/LS0tCmNvbmZpZzoKICBmbG93Y2hhcnQ6CiAgICBjdXJ2ZTogbGluZWFyCi0tLQpncmFwaCBURDsKCV9fc3RhcnRfXyhbPHA+X19zdGFydF9fPC9wPl0pOjo6Zmlyc3QKCWV4dHJhY3RfcHJlZmVyZW5jZXMoZXh0cmFjdF9wcmVmZXJlbmNlcykKCWZpbmFsX3Jlc3BvbnNlKGZpbmFsX3Jlc3BvbnNlKQoJX19lbmRfXyhbPHA+X19lbmRfXzwvcD5dKTo6Omxhc3QKCV9fc3RhcnRfXyAtLT4gZXh0cmFjdF9wcmVmZXJlbmNlczsKCWV4dHJhY3RfcHJlZmVyZW5jZXMgLS0+IG51dHJpdGlvbl9hZ2VudF9jYWxvcmllczsKCWV4dHJhY3RfcHJlZmVyZW5jZXMgLS0+IHJlY2lwZV9hZ2VudF9uYW1lOwoJbnV0cml0aW9uX2FnZW50X21hY3JvcyAtLT4gZmluYWxfcmVzcG9uc2U7CglyZWNpcGVfYWdlbnRfc3RlcHMgLS0+IGZpbmFsX3Jlc3BvbnNlOwoJZmluYWxfcmVzcG9uc2UgLS0+IF9fZW5kX187CglzdWJncmFwaCByZWNpcGVfYWdlbnQKCXJlY2lwZV9hZ2VudF9uYW1lKG5hbWUpCglyZWNpcGVfYWdlbnRfaW5ncmVkaWVudHMoaW5ncmVkaWVudHMpCglyZWNpcGVfYWdlbnRfc3RlcHMoc3RlcHMpCglyZWNpcGVfYWdlbnRfaW5ncmVkaWVudHMgLS0+IHJlY2lwZV9hZ2VudF9zdGVwczsKCXJlY2lwZV9hZ2VudF9uYW1lIC0tPiByZWNpcGVfYWdlbnRfaW5ncmVkaWVudHM7CgllbmQKCXN1YmdyYXBoIG51dHJpdGlvbl9hZ2VudAoJbnV0cml0aW9uX2FnZW50X2NhbG9yaWVzKGNhbG9yaWVzKQoJbnV0cml0aW9uX2FnZW50X21hY3JvcyhtYWNyb3MpCgludXRyaXRpb25fYWdlbnRfY2Fsb3JpZXMgLS0+IG51dHJpdGlvbl9hZ2VudF9tYWNyb3M7CgllbmQKCWNsYXNzRGVmIGRlZmF1bHQgZmlsbDojZjJmMGZmLGxpbmUtaGVpZ2h0OjEuMgoJY2xhc3NEZWYgZmlyc3QgZmlsbC1vcGFjaXR5OjAKCWNsYXNzRGVmIGxhc3QgZmlsbDojYmZiNmZjCg==?type=png&bgColor=!white HTTP/1.1\" 200 28661\n"
     ]
    },
    {
     "data": {
      "image/png": "[encoded data removed]",
      "text/plain": [
       "<IPython.core.display.Image object>"
      ]
     },
     "metadata": {},
     "output_type": "display_data"
    }
   ],
   "source": [
    "# PARENT GRAPH NODES (with state transformation)\n",
    "def extract_user_preferences(state: EntryGraph):\n",
    "    messages = state.get(\"messages\", [])\n",
    "    if messages:\n",
    "        last_message = messages[-1].content if hasattr(messages[-1], 'content') else \"\"\n",
    "        # Simple extraction (in real app, you'd use LLM)\n",
    "        diet_type = \"Mediterranean\" if \"healthy\" in last_message.lower() else \"Standard\"\n",
    "        nutritional_goal = \"weight_maintenance\"\n",
    "    else:\n",
    "        diet_type = \"Standard\"\n",
    "        nutritional_goal = \"weight_maintenance\"\n",
    "    \n",
    "    return {\n",
    "        \"diet_type\": diet_type,\n",
    "        \"nutritional_goal\": nutritional_goal\n",
    "    }\n",
    "\n",
    "\n",
    "def invoke_recipe_subgraph(state: EntryGraph):\n",
    "    \"\"\"Transform parent state to recipe state, invoke subgraph, transform back\"\"\"\n",
    "    \n",
    "    # Create input for recipe subgraph\n",
    "    recipe_input = {\n",
    "        \"dish_name\": \"\",\n",
    "        \"ingredients\": [],\n",
    "        \"steps\": []\n",
    "    }\n",
    "    \n",
    "    # Invoke recipe subgraph\n",
    "    recipe_result = recipe_subgraph.invoke(recipe_input)\n",
    "    \n",
    "    # Transform result back to parent state format\n",
    "    recipe_card = RecipeCard(\n",
    "        dish_name=recipe_result[\"dish_name\"],\n",
    "        ingredients=recipe_result[\"ingredients\"],\n",
    "        steps=recipe_result[\"steps\"]\n",
    "    )\n",
    "    \n",
    "    return {\"recipe\": recipe_card}\n",
    "\n",
    "def invoke_nutrition_subgraph(state: EntryGraph):\n",
    "    \"\"\"Invoke nutrition subgraph and transform result\"\"\"\n",
    "    \n",
    "    # Create input for nutrition subgraph\n",
    "    nutrition_input = {\n",
    "        \"calories\": 0,\n",
    "        \"macros\": {}\n",
    "    }\n",
    "    \n",
    "    # Invoke nutrition subgraph\n",
    "    nutrition_result = nutrition_subgraph.invoke(nutrition_input)\n",
    "    \n",
    "    # Transform result back to parent state format\n",
    "    nutritional_info = NutritionalInfo(\n",
    "        calories=nutrition_result[\"calories\"],\n",
    "        macros=nutrition_result[\"macros\"]\n",
    "    )\n",
    "    \n",
    "    return {\"nutritional_info\": nutritional_info}\n",
    "\n",
    "def generate_final_response(state: EntryGraph):\n",
    "    recipe = state.get(\"recipe\")\n",
    "    nutrition = state.get(\"nutritional_info\")\n",
    "    \n",
    "    if recipe and nutrition:\n",
    "        response_text = f\"\"\"\n",
    "🍽️ **{recipe['dish_name']}**\n",
    "\n",
    "**Diet Type:** {state.get('diet_type', 'Standard')}\n",
    "**Nutritional Goal:** {state.get('nutritional_goal', 'Maintenance')}\n",
    "\n",
    "**Ingredients:**\n",
    "{chr(10).join(f'• {ingredient}' for ingredient in recipe['ingredients'])}\n",
    "\n",
    "**Cooking Steps:**\n",
    "{chr(10).join(f'{i+1}. {step}' for i, step in enumerate(recipe['steps']))}\n",
    "\n",
    "**Nutritional Information:**\n",
    "• Calories: {nutrition['calories']}\n",
    "• Protein: {nutrition['macros']['protein']}g\n",
    "• Carbs: {nutrition['macros']['carbs']}g  \n",
    "• Fat: {nutrition['macros']['fat']}g\n",
    "        \"\"\"\n",
    "    else:\n",
    "        response_text = \"Sorry, I couldn't generate the recipe and nutritional information.\"\n",
    "    \n",
    "    return {\"messages\": [AIMessage(content=response_text.strip())]}\n",
    "\n",
    "# CREATE PARENT GRAPH\n",
    "parent_graph_builder = StateGraph(EntryGraph)\n",
    "parent_graph_builder.add_node(\"extract_preferences\", extract_user_preferences)\n",
    "parent_graph_builder.add_node(\"recipe_agent\", invoke_recipe_subgraph)\n",
    "parent_graph_builder.add_node(\"nutrition_agent\", invoke_nutrition_subgraph)\n",
    "parent_graph_builder.add_node(\"final_response\", generate_final_response)\n",
    "\n",
    "# Connect the nodes\n",
    "parent_graph_builder.add_edge(START, \"extract_preferences\")\n",
    "parent_graph_builder.add_edge(\"extract_preferences\", \"recipe_agent\")\n",
    "parent_graph_builder.add_edge(\"extract_preferences\", \"nutrition_agent\")\n",
    "parent_graph_builder.add_edge(\"recipe_agent\", \"final_response\")\n",
    "parent_graph_builder.add_edge(\"nutrition_agent\", \"final_response\")\n",
    "parent_graph_builder.add_edge(\"final_response\", END)\n",
    "\n",
    "# COMPILE THE COMPLETE SYSTEM\n",
    "meal_planner = parent_graph_builder.compile()\n",
    "display(Image(meal_planner.get_graph(xray=1).draw_mermaid_png()))"
   ]
  },
  {
   "cell_type": "code",
   "execution_count": 46,
   "id": "5913ad73-fe52-4db7-a548-301fcf46ac93",
   "metadata": {},
   "outputs": [
    {
     "name": "stdout",
     "output_type": "stream",
     "text": [
      "{'messages': [HumanMessage(content='I want a healthy pasta recipe for dinner', additional_kwargs={}, response_metadata={})], 'diet_type': '', 'nutritional_goal': '', 'recipe': None, 'nutritional_info': None} \n",
      "\n",
      "\n",
      "{'messages': [HumanMessage(content='I want a healthy pasta recipe for dinner', additional_kwargs={}, response_metadata={})], 'diet_type': 'Mediterranean', 'nutritional_goal': 'weight_maintenance', 'recipe': None, 'nutritional_info': None} \n",
      "\n",
      "\n",
      "{'messages': [HumanMessage(content='I want a healthy pasta recipe for dinner', additional_kwargs={}, response_metadata={})], 'diet_type': 'Mediterranean', 'nutritional_goal': 'weight_maintenance', 'recipe': {'dish_name': 'Healthy Pasta Bowl', 'ingredients': ['200g whole wheat pasta', '2 tbsp olive oil', '3 cloves garlic, minced', '400g canned tomatoes', '1/4 cup fresh basil', '50g parmesan cheese'], 'steps': ['Boil salted water in a large pot', 'Cook pasta according to package instructions until al dente', 'Heat olive oil in a pan and sauté minced garlic', 'Add canned tomatoes and simmer for 10 minutes', 'Drain pasta and combine with sauce', 'Garnish with fresh basil and parmesan cheese']}, 'nutritional_info': {'calories': 520, 'macros': {'protein': 19, 'carbs': 78, 'fat': 14}}} \n",
      "\n",
      "\n",
      "{'messages': [HumanMessage(content='I want a healthy pasta recipe for dinner', additional_kwargs={}, response_metadata={}), AIMessage(content='🍽️ **Healthy Pasta Bowl**\\n\\n**Diet Type:** Mediterranean\\n**Nutritional Goal:** weight_maintenance\\n\\n**Ingredients:**\\n• 200g whole wheat pasta\\n• 2 tbsp olive oil\\n• 3 cloves garlic, minced\\n• 400g canned tomatoes\\n• 1/4 cup fresh basil\\n• 50g parmesan cheese\\n\\n**Cooking Steps:**\\n1. Boil salted water in a large pot\\n2. Cook pasta according to package instructions until al dente\\n3. Heat olive oil in a pan and sauté minced garlic\\n4. Add canned tomatoes and simmer for 10 minutes\\n5. Drain pasta and combine with sauce\\n6. Garnish with fresh basil and parmesan cheese\\n\\n**Nutritional Information:**\\n• Calories: 520\\n• Protein: 19g\\n• Carbs: 78g  \\n• Fat: 14g', additional_kwargs={}, response_metadata={})], 'diet_type': 'Mediterranean', 'nutritional_goal': 'weight_maintenance', 'recipe': {'dish_name': 'Healthy Pasta Bowl', 'ingredients': ['200g whole wheat pasta', '2 tbsp olive oil', '3 cloves garlic, minced', '400g canned tomatoes', '1/4 cup fresh basil', '50g parmesan cheese'], 'steps': ['Boil salted water in a large pot', 'Cook pasta according to package instructions until al dente', 'Heat olive oil in a pan and sauté minced garlic', 'Add canned tomatoes and simmer for 10 minutes', 'Drain pasta and combine with sauce', 'Garnish with fresh basil and parmesan cheese']}, 'nutritional_info': {'calories': 520, 'macros': {'protein': 19, 'carbs': 78, 'fat': 14}}} \n",
      "\n",
      "\n"
     ]
    }
   ],
   "source": [
    "# TEST THE SYSTEM\n",
    "test_input = {\n",
    "    \"messages\": [HumanMessage(content=\"I want a healthy pasta recipe for dinner\")],\n",
    "    \"diet_type\": \"\",\n",
    "    \"nutritional_goal\": \"\",\n",
    "    \"recipe\": None,\n",
    "    \"nutritional_info\": None\n",
    "}\n",
    "\n",
    "\n",
    "for event in meal_planner.stream(test_input, stream_mode='values'):\n",
    "    print(event, \"\\n\\n\")"
   ]
  },
  {
   "cell_type": "code",
   "execution_count": null,
   "id": "29bd564e-7210-48cd-bdc2-ee2b60ef1ad2",
   "metadata": {},
   "outputs": [],
   "source": []
  }
 ],
 "metadata": {
  "kernelspec": {
   "display_name": "Python 3 (ipykernel)",
   "language": "python",
   "name": "python3"
  },
  "language_info": {
   "codemirror_mode": {
    "name": "ipython",
    "version": 3
   },
   "file_extension": ".py",
   "mimetype": "text/x-python",
   "name": "python",
   "nbconvert_exporter": "python",
   "pygments_lexer": "ipython3",
   "version": "3.12.8"
  }
 },
 "nbformat": 4,
 "nbformat_minor": 5
}
