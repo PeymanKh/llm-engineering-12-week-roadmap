{
 "cells": [
  {
   "cell_type": "code",
   "id": "initial_id",
   "metadata": {
    "collapsed": true,
    "ExecuteTime": {
     "end_time": "2025-09-30T09:26:29.360708Z",
     "start_time": "2025-09-30T09:26:29.290718Z"
    }
   },
   "source": [
    "# Import libraries\n",
    "from enum import Enum\n",
    "from typing import Optional, List\n",
    "from pydantic import BaseModel, Field\n",
    "from datetime import datetime, time, date"
   ],
   "outputs": [],
   "execution_count": 1
  },
  {
   "metadata": {},
   "cell_type": "markdown",
   "source": "## 1. Memory Schemas",
   "id": "ddd4f98d0620f106"
  },
  {
   "metadata": {
    "ExecuteTime": {
     "end_time": "2025-09-30T09:26:29.366627Z",
     "start_time": "2025-09-30T09:26:29.364195Z"
    }
   },
   "cell_type": "code",
   "source": [
    "# Enums for type safety\n",
    "class Priority(str, Enum):\n",
    "    LOW = \"low\"\n",
    "    MEDIUM = \"medium\"\n",
    "    HIGH = \"high\"\n",
    "    URGENT = \"urgent\"\n",
    "\n",
    "class ProjectType(str, Enum):\n",
    "    PERSONAL = \"personal\"\n",
    "    BOOK = \"book\"\n",
    "    COURSE = \"course\"\n",
    "    LEARNING = \"learning\"\n",
    "    UNIVERSITY = \"university\"\n",
    "\n",
    "class Status(str, Enum):\n",
    "    NOT_STARTED = \"not_started\"\n",
    "    IN_PROGRESS = \"in_progress\"\n",
    "    COMPLETED = \"completed\"\n",
    "    PAUSED = \"paused\"\n",
    "\n",
    "class RoutineType(str, Enum):\n",
    "    CLASS = \"class\"\n",
    "    SPORTS = \"sports\"\n",
    "    WORK = \"work\"\n",
    "    PERSONAL = \"personal\"\n",
    "    COMMUTE = \"commute\""
   ],
   "id": "910c6da5e2964cfb",
   "outputs": [],
   "execution_count": 2
  },
  {
   "metadata": {
    "ExecuteTime": {
     "end_time": "2025-09-30T09:27:07.469568Z",
     "start_time": "2025-09-30T09:27:07.423349Z"
    }
   },
   "cell_type": "code",
   "source": [
    "# Main schemas\n",
    "class Profile(BaseModel):\n",
    "    name: str = Field(..., description=\"User name\")\n",
    "    student_level: str = Field(..., description=\"undergraduate, graduate, professional\")\n",
    "    field_of_study: str = Field(..., description=\"AI Engineering, Computer Science, etc.\")\n",
    "    interests: List[str] = Field(default_factory=list, description=\"List of interests\")\n",
    "    goals: List[str] = Field(default_factory=list, description=\"List of goals\")\n",
    "\n",
    "\n",
    "class Project(BaseModel):\n",
    "    id: str = Field(..., description=\"Unique project identifier\")\n",
    "    title: str = Field(..., description=\"Project name\")\n",
    "    project_type: ProjectType = Field(..., description=\"Type of project (e.g., personal, book, course, learning, university)\")\n",
    "    description: Optional[str] = Field(None, description=\"Project description\")\n",
    "    priority: Priority = Field(..., description=\"Priority of project (e.g., low, medium, high, urgent)\")\n",
    "    status: Status = Field(..., description=\"Status of project (e.g., not started, in progress, completed, paused)\")\n",
    "    deadline: Optional[datetime] = Field(None, description=\"Deadline for project\")\n",
    "    parent_project_id: Optional[str] = Field(None, description=\"Parent project identifier if this project is a subproject\")\n",
    "    created_at: datetime = Field(default_factory=datetime.now, description=\"Creation timestamp\")\n",
    "    edited_at: datetime = Field(default_factory=datetime.now, description=\"Last edit timestamp\")\n",
    "\n",
    "\n",
    "class Task(BaseModel):\n",
    "    id: str = Field(..., description=\"Unique task identifier\")\n",
    "    title: str = Field(..., description=\"Task title\")\n",
    "    description: Optional[str] = Field(None, description=\"Task description\")\n",
    "    project_id: Optional[str] = Field(None, description=\"Project identifier for task (can exist without project)\")\n",
    "    priority: Priority = Field(..., description=\"Priority of task (e.g., low, medium, high, urgent)\")\n",
    "    status: Status = Field(..., description=\"Status of task (e.g., not started, in progress, completed, paused)\")\n",
    "    deadline: Optional[datetime] = Field(None, description=\"Deadline for task\")\n",
    "    created_at: datetime = Field(default_factory=datetime.now, description=\"Creation timestamp\")\n",
    "    edited_at: datetime = Field(default_factory=datetime.now, description=\"Last edit timestamp\")\n",
    "    completed_at: Optional[datetime] = Field(None, description=\"Completion timestamp\")\n",
    "\n",
    "\n",
    "class Routine(BaseModel):\n",
    "    id: str = Field(..., description=\"Unique routine identifier\")\n",
    "    title: str = Field(..., description=\"Routine activity name\")\n",
    "    routine_type : RoutineType = Field(..., description=\"Type of routine activity (e.g., class, sports, work, personal, commute)\")\n",
    "    day_of_week : int = Field(..., ge=1, le=7, description=\"Day of week for routine activity (1=Monday, 7=Sunday)\")\n",
    "    start_time : time = Field(..., description=\"Start time for routine activity\")\n",
    "    end_time: time = Field(..., description=\"End time of activity\")\n",
    "    is_recurring: bool = Field(default=True)\n",
    "    is_active: bool = Field(default=True)\n",
    "    created_at: datetime = Field(default_factory=datetime.now)\n",
    "    updated_at: datetime = Field(default_factory=datetime.now)\n",
    "\n",
    "\n",
    "class DailyPlan(BaseModel):\n",
    "    id: str = Field(..., description=\"Unique daily plan identifier\")\n",
    "    plan_date: date = Field(..., description=\"Date for daily plan\")\n",
    "    planned_tasks: List[str] = Field(default_factory=list, description=\"Ordered task IDs\")\n",
    "    actual_completion: List[str] = Field(default_factory=list, description=\"Completed task IDs\")\n",
    "    created_at: datetime = Field(default_factory=datetime.now)\n",
    "    updated_at: datetime = Field(default_factory=datetime.now)\n",
    "\n",
    "\n",
    "class UserMemory(BaseModel):\n",
    "    profile: Profile = Field(default_factory=Profile, description=\"User profile information\")\n",
    "    projects: List[Project] = Field(default_factory=list)\n",
    "    tasks: List[Task] = Field(default_factory=list)\n",
    "    routines: List[Routine] = Field(default_factory=list)\n",
    "    daily_plans: List[DailyPlan] = Field(default_factory=list)\n",
    "\n",
    "    class Config:\n",
    "        json_encoders = {\n",
    "            datetime: lambda v: v.isoformat(),\n",
    "            date: lambda v: v.isoformat(),\n",
    "            time: lambda v: v.isoformat(),\n",
    "        }"
   ],
   "id": "45a4025159a3d629",
   "outputs": [],
   "execution_count": 4
  },
  {
   "metadata": {
    "ExecuteTime": {
     "end_time": "2025-09-30T10:49:09.616358Z",
     "start_time": "2025-09-30T10:49:09.575268Z"
    }
   },
   "cell_type": "code",
   "source": [
    "# Create a test user id\n",
    "user_id = \"user_1234\"\n",
    "\n",
    "# Namespaces\n",
    "user_profile_namespace = (\"user_profile\", user_id)\n",
    "projects_namespace = (\"projects\", user_id)\n",
    "tasks_namespace = (\"tasks\", user_id)\n",
    "routines_namespace = (\"routines\", user_id)\n",
    "daily_plans_namespace = (\"daily_plans\", user_id)\n",
    "instructions_namespace = (\"instructions\", user_id)"
   ],
   "id": "425c855e83a18c1a",
   "outputs": [],
   "execution_count": 5
  },
  {
   "metadata": {},
   "cell_type": "markdown",
   "source": [
    "### Optimizations\n",
    "Later namespaces can be more optimized if we use the following namespaces: user_profile, active_work, planning, and archive. The desing is more abstract this way, but more optimized for production."
   ],
   "id": "2b63fe5e4c08c493"
  },
  {
   "metadata": {},
   "cell_type": "code",
   "outputs": [],
   "execution_count": null,
   "source": "# Prompts\n",
   "id": "3302ccf42ae999e"
  }
 ],
 "metadata": {
  "kernelspec": {
   "display_name": "Python 3",
   "language": "python",
   "name": "python3"
  },
  "language_info": {
   "codemirror_mode": {
    "name": "ipython",
    "version": 2
   },
   "file_extension": ".py",
   "mimetype": "text/x-python",
   "name": "python",
   "nbconvert_exporter": "python",
   "pygments_lexer": "ipython2",
   "version": "2.7.6"
  }
 },
 "nbformat": 4,
 "nbformat_minor": 5
}
