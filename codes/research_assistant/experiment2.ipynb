{
 "cells": [
  {
   "cell_type": "code",
   "execution_count": 1,
   "id": "30706f86-2408-45de-96b9-e33bcc68582c",
   "metadata": {},
   "outputs": [],
   "source": [
    "# Import libraries\n",
    "import sys, os\n",
    "import operator\n",
    "from pprint import pprint\n",
    "from typing import Any, List, Annotated\n",
    "from pydantic import BaseModel, Field\n",
    "from typing_extensions import TypedDict\n",
    "from IPython.display import Image, display\n",
    "\n",
    "from langchain_core.tools import tool\n",
    "from langchain_tavily import TavilySearch\n",
    "from langchain_core.runnables import RunnableConfig\n",
    "from langchain_google_genai import ChatGoogleGenerativeAI\n",
    "from langchain_community.document_loaders import WikipediaLoader\n",
    "from langchain_core.messages import get_buffer_string, AnyMessage\n",
    "from langchain_core.prompts import PromptTemplate, ChatPromptTemplate\n",
    "from langchain_core.messages import HumanMessage, AIMessage, SystemMessage, RemoveMessage\n",
    "\n",
    "from langgraph.graph import MessagesState\n",
    "from langgraph.graph import StateGraph, START, END\n",
    "from langgraph.checkpoint.memory import MemorySaver\n",
    "from langgraph.prebuilt import ToolNode, tools_condition"
   ]
  },
  {
   "cell_type": "code",
   "execution_count": 2,
   "id": "bd1ca2f8-4304-4b41-aa5d-809adb84e776",
   "metadata": {},
   "outputs": [
    {
     "name": "stderr",
     "output_type": "stream",
     "text": [
      "2025-09-15 14:45:27,678 - root - INFO - Configuration loaded for environment: development\n"
     ]
    }
   ],
   "source": [
    "# Import settings and sensitive variables from config\n",
    "sys.path.append(os.path.abspath(os.path.join(os.getcwd(), \"../..\")))\n",
    "from codes.config.config import config\n",
    "\n",
    "# Set langsmith project\n",
    "os.environ[\"LANGSMITH_API_KEY\"] = config.langsmith_api_key\n",
    "os.environ[\"LANGCHAIN_TRACING_V2\"] = \"true\"\n",
    "os.environ[\"LANGCHAIN_PROJECT\"] = \"storm-research-assistant\""
   ]
  },
  {
   "cell_type": "code",
   "execution_count": 3,
   "id": "6c2ae30c-4054-4eb3-9769-c60fe59409e4",
   "metadata": {},
   "outputs": [],
   "source": [
    "import logging\n",
    "\n",
    "# Suppress all debug logs from urllib3 and langsmith\n",
    "logging.getLogger(\"urllib3\").setLevel(logging.WARNING)\n",
    "logging.getLogger(\"langsmith\").setLevel(logging.WARNING)\n",
    "\n",
    "# Optional: also raise the global root logger level\n",
    "logging.getLogger().setLevel(logging.WARNING)"
   ]
  },
  {
   "cell_type": "code",
   "execution_count": 4,
   "id": "a8fee7ba-4b5e-40fa-ac40-f213ad210ce9",
   "metadata": {},
   "outputs": [],
   "source": [
    "# Create llm\n",
    "llm = ChatGoogleGenerativeAI(\n",
    "    model=config.model.model_name, \n",
    "    api_key=config.model.api_key,\n",
    ")"
   ]
  },
  {
   "cell_type": "markdown",
   "id": "ac0c8873-bf6a-42cb-855b-5636a6c5b3cc",
   "metadata": {},
   "source": [
    "# 1. Analyst\n",
    "\n",
    "First we need to implement analyst schema and generation for the question asked. In the paper it has mentioned that for a multi-perspective question answering system, we need to look at the question from diffrent perspectives. hence, Analyst is actually the implementation of mentioned perspective."
   ]
  },
  {
   "cell_type": "code",
   "execution_count": 5,
   "id": "2a27058a-ba45-4d38-b301-cf57a5cbbe9c",
   "metadata": {},
   "outputs": [],
   "source": [
    "# State and Schemas\n",
    "class Analyst(BaseModel):\n",
    "    \"\"\"\n",
    "    Schema for an analyst.\n",
    "    Note we generate second person and third person descriptions. Since this system is a multi-agent workflow, we use 2 descriptions for\n",
    "    prompting the other parts more cleaner.\n",
    "    \n",
    "    - description_2nd example: You are ...\n",
    "    - description_3rd example: He/She is ...\n",
    "    \"\"\"\n",
    "    affiliation: str = Field(\n",
    "        description=\"primary affiliation of the analyst.\"\n",
    "    )\n",
    "    name: str = Field(\n",
    "        description=\"name of the analyst.\"\n",
    "    )\n",
    "    role: str = Field(\n",
    "        description=\"role of the analyst in the context of topic.\"\n",
    "    )\n",
    "    description_2nd: str = Field(\n",
    "        description=\"second-person description of the analyst focus, concerns, and motivations.\"\n",
    "    )\n",
    "    description_3rd: str = Field(\n",
    "        description=\"third-person description of the analyst focus, concerns, and motivations.\"\n",
    "    )\n",
    "\n",
    "    @property\n",
    "    def persona(self) -> str:\n",
    "        return (\n",
    "            f\"Name: {self.name}\\n\"\n",
    "            f\"Role: {self.role}\\n\"\n",
    "            f\"Affiliation: {self.affiliation}\\n\"\n",
    "            f\"description: {self.description_3rd}\\n\"\n",
    "        )\n",
    "\n",
    "\n",
    "class CreateAnalystOutput(BaseModel):\n",
    "    \"\"\"\n",
    "    Schema of the create analyst node's output.\n",
    "    we use with_structured_output to bind this output schema to the LangChain's ChatModel.\n",
    "    \"\"\"\n",
    "    analysts : list[Analyst] = Field(\n",
    "        description=\"comprehensive list of analysts with their role and affiliation.\"\n",
    "    )\n",
    "\n",
    "class CreateAnalystState(TypedDict):\n",
    "    \"\"\"State for the generate analyst graph. we pass this state and the graph edit the field on invokation\"\"\"\n",
    "    topic: str  # Research topic\n",
    "    max_analyst: int  # Number of analysts we want to have\n",
    "    human_feedback: str  # Human feedback for editing generated analystst (for Human-in-the-loop)\n",
    "    analysts: list[Analyst]  # List of generated analysts"
   ]
  },
  {
   "cell_type": "code",
   "execution_count": 6,
   "id": "f5bc8e5a-876c-4318-b711-70012258c4c0",
   "metadata": {},
   "outputs": [],
   "source": [
    "# Prompt\n",
    "generate_analyst_prompt_template = ChatPromptTemplate(\n",
    "    [\n",
    "        (\"system\", \"\"\"You are a **persona designer**. \n",
    "Your goal is to receive a research topic or problem from the user and produce distinct analyst personas who will analyze the problem \n",
    "from multiple, non-overlapping points of view. The user provides you with topic, and optional human_feedback as input. \n",
    "\n",
    "Follow the following instructions carefully to generate the response:\n",
    "    \n",
    "1. First review the research topic or problem.\n",
    "\n",
    "2. Examine any editorial feedback that has been optionally provided to guide creation of the personas.\n",
    "\n",
    "3. Create analyst personas that differ in expertise, background, and motivationso that, together, they cover all key aspects needed to analyze the topic.\n",
    "\n",
    "4. Return the top {max_analyst} personas.\n",
    "\"\"\"),\n",
    "        (\"user\", \"\"\"Research Topic: ```{topic}```\n",
    "Human Feedback (optional): ```{human_feedback}```\n",
    "\"\"\")\n",
    "    ]\n",
    ")"
   ]
  },
  {
   "cell_type": "code",
   "execution_count": 7,
   "id": "948eed1c-f05b-4ccf-a22d-490dc3a32cbf",
   "metadata": {},
   "outputs": [],
   "source": [
    "# Nodes\n",
    "def create_analyst(state: CreateAnalystState):\n",
    "    \"\"\"Node to create list of different analysts(perspectives)\"\"\"\n",
    "\n",
    "    topic = state[\"topic\"]\n",
    "    max_analyst = state[\"max_analyst\"]\n",
    "    human_feedback = state.get(\"human_feedback\", \"\")\n",
    "\n",
    "    # Add output schema to the ChatModel\n",
    "    structured_llm = llm.with_structured_output(CreateAnalystOutput)\n",
    "\n",
    "    # Create chat messages from prompt templates\n",
    "    prompt = generate_analyst_prompt_template.invoke({\n",
    "        \"topic\": topic,\n",
    "        \"max_analyst\": max_analyst,\n",
    "        \"human_feedback\": human_feedback\n",
    "    })\n",
    "\n",
    "    # Create analysts with LLM invokation\n",
    "    analysts = structured_llm.invoke(prompt.messages)\n",
    "\n",
    "    return {\"analysts\": analysts.analysts}\n",
    "\n",
    "\n",
    "def human_feedback(state: CreateAnalystState):\n",
    "    \"No-op node that should be interruped on for Human-in-the-loop feedback\"\n",
    "    pass\n",
    "\n",
    "\n",
    "def human_feedback_router(state: CreateAnalystState):\n",
    "    \"\"\"\n",
    "    Returns the next node to execute. \n",
    "    If feedback is provided, the router points to regenerating analysts(personas), otherwise continutes.\n",
    "    \"\"\"\n",
    "    human_feedback = state.get(\"human_feedback\", None)\n",
    "\n",
    "    if human_feedback:\n",
    "        return \"create_analyst\"\n",
    "    return END"
   ]
  },
  {
   "cell_type": "code",
   "execution_count": 8,
   "id": "2ace69c5-2f6e-4e45-88eb-05fe1b5b1923",
   "metadata": {},
   "outputs": [],
   "source": [
    "# Graph\n",
    "analyst_builder = StateGraph(CreateAnalystState)\n",
    "\n",
    "analyst_builder.add_node(\"create_analyst\", create_analyst)\n",
    "analyst_builder.add_node(\"human_feedback\", human_feedback)\n",
    "\n",
    "analyst_builder.add_edge(START, \"create_analyst\")\n",
    "analyst_builder.add_edge(\"create_analyst\", \"human_feedback\")\n",
    "analyst_builder.add_conditional_edges(\"human_feedback\", human_feedback_router, [\"create_analyst\", END])\n",
    "\n",
    "# Compile\n",
    "memory = MemorySaver()\n",
    "analyst_graph = analyst_builder.compile(interrupt_before=['human_feedback'], checkpointer=memory)"
   ]
  },
  {
   "cell_type": "code",
   "execution_count": 9,
   "id": "22c966a9-2db6-401a-92c8-546c8dc4f72d",
   "metadata": {},
   "outputs": [
    {
     "data": {
      "image/png": "[encoded data removed]",
      "text/plain": [
       "<IPython.core.display.Image object>"
      ]
     },
     "metadata": {},
     "output_type": "display_data"
    }
   ],
   "source": [
    "# View Graph\n",
    "display(Image(analyst_graph.get_graph(xray=1).draw_mermaid_png())) "
   ]
  },
  {
   "cell_type": "code",
   "execution_count": 10,
   "id": "743b0a86-7261-4fc8-a977-7b508bd87447",
   "metadata": {
    "scrolled": true
   },
   "outputs": [
    {
     "name": "stdout",
     "output_type": "stream",
     "text": [
      "Name: Dr. Anya Sharma\n",
      "Affiliation: Lead AI Architect, Tech Solutions Inc.\n",
      "Role: Evaluates programming languages based on performance, scalability, and integration capabilities for large-scale AI systems.\n",
      "description_2nd: You are Dr. Anya Sharma, a Lead AI Architect. Your focus is on the technical robustness of Python for AI development, considering its library maturity, computational efficiency, deployment challenges, and interoperability with other systems. You are motivated by building scalable and high-performing AI solutions.\n",
      "description_3rd: Dr. Anya Sharma is a Lead AI Architect. Her focus is on the technical robustness of Python for AI development, considering its library maturity, computational efficiency, deployment challenges, and interoperability with other systems. She is motivated by building scalable and high-performing AI solutions.\n",
      "--------------------------------------------------\n",
      "Name: Liam O'Connell\n",
      "Affiliation: Community Lead, Global AI Foundation\n",
      "Role: Assesses the strength of a language's ecosystem, community support, and accessibility for new developers.\n",
      "description_2nd: You are Liam O'Connell, a Community Lead. Your focus is on the strength of Python's ecosystem, including package availability, documentation quality, community forums, ease of learning, and contribution trends. You are motivated by fostering an inclusive and supportive environment for AI developers.\n",
      "description_3rd: Liam O'Connell is a Community Lead. His focus is on the strength of Python's ecosystem, including package availability, documentation quality, community forums, ease of learning, and contribution trends. He is motivated by fostering an inclusive and supportive environment for AI developers.\n",
      "--------------------------------------------------\n",
      "Name: Sarah Chen\n",
      "Affiliation: VP of Product, AI Innovations Co.\n",
      "Role: Determines the strategic value of a programming language in terms of talent availability, time-to-market, and overall project cost.\n",
      "description_2nd: You are Sarah Chen, a VP of Product. Your focus is on the business implications of using Python for AI, specifically developer talent pool, hiring costs, project development speed, industry standards, and overall business ROI. You are motivated by maximizing efficiency and profitability in AI product development.\n",
      "description_3rd: Sarah Chen is a VP of Product. Her focus is on the business implications of using Python for AI, specifically developer talent pool, hiring costs, project development speed, industry standards, and overall business ROI. She is motivated by maximizing efficiency and profitability in AI product development.\n",
      "--------------------------------------------------\n",
      "Name: Professor David Lee\n",
      "Affiliation: Head of AI Research Lab, University of Data Science\n",
      "Role: Examines the suitability of a language for cutting-edge research, rapid prototyping, and educational purposes.\n",
      "description_2nd: You are Professor David Lee, Head of an AI Research Lab. Your focus is on Python's utility for academic research and education, including scientific library support (e.g., NumPy, SciPy), ease of experimentation, data manipulation capabilities, and pedagogical effectiveness. You are motivated by advancing AI knowledge and training the next generation of researchers.\n",
      "description_3rd: Professor David Lee is Head of an AI Research Lab. His focus is on Python's utility for academic research and education, including scientific library support (e.g., NumPy, SciPy), ease of experimentation, data manipulation capabilities, and pedagogical effectiveness. He is motivated by advancing AI knowledge and training the next generation of researchers.\n",
      "--------------------------------------------------\n",
      "Name: Dr. Elena Petrova\n",
      "Affiliation: Senior Language Engineer, FutureTech Labs\n",
      "Role: Analyzes the inherent design characteristics of a language that make it suitable or unsuitable for specific domains like AI, considering its flexibility, extensibility, and future development path.\n",
      "description_2nd: You are Dr. Elena Petrova, a Senior Language Engineer. Your focus is on Python's inherent language design, including its syntax, dynamic typing vs. static typing, metaprogramming capabilities, extensibility, and long-term maintainability, specifically as these relate to AI development. You are motivated by understanding the foundational strengths and weaknesses of programming languages.\n",
      "description_3rd: Dr. Elena Petrova is a Senior Language Engineer. Her focus is on Python's inherent language design, including its syntax, dynamic typing vs. static typing, metaprogramming capabilities, extensibility, and long-term maintainability, specifically as these relate to AI development. She is motivated by understanding the foundational strengths and weaknesses of programming languages.\n",
      "--------------------------------------------------\n"
     ]
    }
   ],
   "source": [
    "# Input\n",
    "max_analyst = 5\n",
    "topic = \"Why python is the best language for AI development?\"\n",
    "thread = {\"configurable\": {\"thread_id\": 1}}\n",
    "\n",
    "# Run the graph until the first interruption\n",
    "for event in analyst_graph.stream({\"topic\":topic,\"max_analyst\":max_analyst,}, thread, stream_mode=\"values\"):\n",
    "    # Review\n",
    "    analysts = event.get('analysts', '')\n",
    "    if analysts:\n",
    "        for analyst in analysts:\n",
    "            print(f\"Name: {analyst.name}\")\n",
    "            print(f\"Affiliation: {analyst.affiliation}\")\n",
    "            print(f\"Role: {analyst.role}\")\n",
    "            print(f\"description_2nd: {analyst.description_2nd}\")\n",
    "            print(f\"description_3rd: {analyst.description_3rd}\")\n",
    "            print(\"-\" * 50)  "
   ]
  },
  {
   "cell_type": "code",
   "execution_count": 11,
   "id": "ea76aeea-fd3f-408b-bcac-0b2f8e8eb008",
   "metadata": {},
   "outputs": [
    {
     "data": {
      "text/plain": [
       "('human_feedback',)"
      ]
     },
     "execution_count": 11,
     "metadata": {},
     "output_type": "execute_result"
    }
   ],
   "source": [
    "state = analyst_graph.get_state(thread)\n",
    "state.next"
   ]
  },
  {
   "cell_type": "code",
   "execution_count": 12,
   "id": "38f17ad5-0d23-4a15-9a54-6a56c3cbba89",
   "metadata": {
    "scrolled": true
   },
   "outputs": [
    {
     "name": "stdout",
     "output_type": "stream",
     "text": [
      "Name: Dr. Anya Sharma\n",
      "Affiliation: Lead AI Architect, Tech Solutions Inc.\n",
      "Role: Evaluates programming languages based on performance, scalability, and integration capabilities for large-scale AI systems.\n",
      "Description_2nd: You are Dr. Anya Sharma, a Lead AI Architect. Your focus is on the technical robustness of Python for AI development, considering its library maturity, computational efficiency, deployment challenges, and interoperability with other systems. You are motivated by building scalable and high-performing AI solutions.\n",
      "Description_3rd: Dr. Anya Sharma is a Lead AI Architect. Her focus is on the technical robustness of Python for AI development, considering its library maturity, computational efficiency, deployment challenges, and interoperability with other systems. She is motivated by building scalable and high-performing AI solutions.\n",
      "--------------------------------------------------\n",
      "Name: Liam O'Connell\n",
      "Affiliation: Community Lead, Global AI Foundation\n",
      "Role: Assesses the strength of a language's ecosystem, community support, and accessibility for new developers.\n",
      "Description_2nd: You are Liam O'Connell, a Community Lead. Your focus is on the strength of Python's ecosystem, including package availability, documentation quality, community forums, ease of learning, and contribution trends. You are motivated by fostering an inclusive and supportive environment for AI developers.\n",
      "Description_3rd: Liam O'Connell is a Community Lead. His focus is on the strength of Python's ecosystem, including package availability, documentation quality, community forums, ease of learning, and contribution trends. He is motivated by fostering an inclusive and supportive environment for AI developers.\n",
      "--------------------------------------------------\n",
      "Name: Sarah Chen\n",
      "Affiliation: VP of Product, AI Innovations Co.\n",
      "Role: Determines the strategic value of a programming language in terms of talent availability, time-to-market, and overall project cost.\n",
      "Description_2nd: You are Sarah Chen, a VP of Product. Your focus is on the business implications of using Python for AI, specifically developer talent pool, hiring costs, project development speed, industry standards, and overall business ROI. You are motivated by maximizing efficiency and profitability in AI product development.\n",
      "Description_3rd: Sarah Chen is a VP of Product. Her focus is on the business implications of using Python for AI, specifically developer talent pool, hiring costs, project development speed, industry standards, and overall business ROI. She is motivated by maximizing efficiency and profitability in AI product development.\n",
      "--------------------------------------------------\n",
      "Name: Professor David Lee\n",
      "Affiliation: Head of AI Research Lab, University of Data Science\n",
      "Role: Examines the suitability of a language for cutting-edge research, rapid prototyping, and educational purposes.\n",
      "Description_2nd: You are Professor David Lee, Head of an AI Research Lab. Your focus is on Python's utility for academic research and education, including scientific library support (e.g., NumPy, SciPy), ease of experimentation, data manipulation capabilities, and pedagogical effectiveness. You are motivated by advancing AI knowledge and training the next generation of researchers.\n",
      "Description_3rd: Professor David Lee is Head of an AI Research Lab. His focus is on Python's utility for academic research and education, including scientific library support (e.g., NumPy, SciPy), ease of experimentation, data manipulation capabilities, and pedagogical effectiveness. He is motivated by advancing AI knowledge and training the next generation of researchers.\n",
      "--------------------------------------------------\n",
      "Name: Dr. Elena Petrova\n",
      "Affiliation: Senior Language Engineer, FutureTech Labs\n",
      "Role: Analyzes the inherent design characteristics of a language that make it suitable or unsuitable for specific domains like AI, considering its flexibility, extensibility, and future development path.\n",
      "Description_2nd: You are Dr. Elena Petrova, a Senior Language Engineer. Your focus is on Python's inherent language design, including its syntax, dynamic typing vs. static typing, metaprogramming capabilities, extensibility, and long-term maintainability, specifically as these relate to AI development. You are motivated by understanding the foundational strengths and weaknesses of programming languages.\n",
      "Description_3rd: Dr. Elena Petrova is a Senior Language Engineer. Her focus is on Python's inherent language design, including its syntax, dynamic typing vs. static typing, metaprogramming capabilities, extensibility, and long-term maintainability, specifically as these relate to AI development. She is motivated by understanding the foundational strengths and weaknesses of programming languages.\n",
      "--------------------------------------------------\n"
     ]
    }
   ],
   "source": [
    "for event in analyst_graph.stream(None, thread, stream_mode=\"values\"):\n",
    "    analysts = event.get('analysts', '')\n",
    "    if analysts:\n",
    "        for analyst in analysts:\n",
    "            print(f\"Name: {analyst.name}\")\n",
    "            print(f\"Affiliation: {analyst.affiliation}\")\n",
    "            print(f\"Role: {analyst.role}\")\n",
    "            print(f\"Description_2nd: {analyst.description_2nd}\")\n",
    "            print(f\"Description_3rd: {analyst.description_3rd}\")\n",
    "            print(\"-\" * 50) "
   ]
  },
  {
   "cell_type": "markdown",
   "id": "840c4a68-5ab8-4c61-834c-d10b9d709bdd",
   "metadata": {},
   "source": [
    "---\n",
    "# 2. Interview between Analyst and Expert\n",
    "\n",
    "After creating the graph for generating persona of different analysts which have different viewpoint around the topic, Now it is time to implement interview part of STORM architecture. This part includes two sub-parts, one is for analyst to generate question and next if for experts to answers questions. expert will be equiped with internet search tool and wikipedia search.\n",
    "\n",
    "### 2.1. Question Generation"
   ]
  },
  {
   "cell_type": "code",
   "execution_count": 13,
   "id": "1da09e86-7db1-4a50-af0a-40bb21db1501",
   "metadata": {},
   "outputs": [],
   "source": [
    "class InterviewState(TypedDict):\n",
    "    topic: str\n",
    "    max_num_turns: int\n",
    "    messages: Annotated[list[AnyMessage], operator.add]  # Messages has add reducers to add new message items to already exstsing list.\n",
    "    context: Annotated[list[str], operator.add]  # Source documents gathered from the web\n",
    "    analyst: Analyst\n",
    "    interview: str  # Interview transcript\n",
    "    sections: list # Final key we duplicate in outer state for Send() API\n",
    "\n",
    "class SearchQuery(BaseModel):\n",
    "    search_query: str = Field(\n",
    "        description=\"Search query for retrieval.\"\n",
    "    )"
   ]
  },
  {
   "cell_type": "code",
   "execution_count": 14,
   "id": "c8f31e18-5779-41a7-8949-2b9c9212c3d7",
   "metadata": {},
   "outputs": [],
   "source": [
    "# Prompts\n",
    "question_generation_prompt = ChatPromptTemplate(\n",
    "    [\n",
    "        (\"system\", \"\"\"You are {analyst_name}. your are {analyst_role} at {analyst_affiliation}. {analyst_description}.\n",
    "You are tasked with interviewing an expert to learn more about {topic}. Your goal is to breakdown the topic and understand related facts \n",
    "and insights that people will find non-obvious, You also avoid generalities and are precise.\n",
    "\n",
    "Begin by asking the first question and continue to drilldown and refine your understandings of the topic.\n",
    "\n",
    "When you are satisfied with your understanding, complete the interview with: \"Thank you so much for your help!\"\n",
    "\n",
    "Remember to stay in character throughout your response, reflecting the persona and goals provided to you.\n",
    "\"\"\")\n",
    "    ]\n",
    ")"
   ]
  },
  {
   "cell_type": "code",
   "execution_count": 15,
   "id": "9f07e21a-e4d4-4458-adb1-4fd26cfffdf5",
   "metadata": {},
   "outputs": [],
   "source": [
    "# Node \n",
    "def generate_question(state: InterviewState):\n",
    "    \"\"\" Node to generate a question \"\"\"\n",
    "    topic = state[\"topic\"]\n",
    "    messages = state[\"messages\"]\n",
    "    analyst = state[\"analyst\"]\n",
    "    analyst_name = analyst.name\n",
    "    analyst_role = analyst.role\n",
    "    analyst_affiliation = analyst.affiliation\n",
    "    analyst_description = analyst.description_2nd\n",
    "\n",
    "    prompt = question_generation_prompt.invoke(\n",
    "        {\n",
    "        \"analyst_name\": analyst_name, \n",
    "        \"analyst_role\": analyst_role,\n",
    "        \"analyst_affiliation\": analyst_affiliation,\n",
    "        \"analyst_description\": analyst_description,\n",
    "        \"topic\": topic\n",
    "        }).messages\n",
    "\n",
    "    # Generate question\n",
    "    question = llm.invoke(prompt + messages)\n",
    "\n",
    "    # Add metadata\n",
    "    question.message_type = \"question\"\n",
    "    question.name = analyst_name\n",
    "\n",
    "    return {\"messages\": [question]}"
   ]
  },
  {
   "cell_type": "markdown",
   "id": "7ba4a97b-5b86-45eb-a33b-36c26abab2ed",
   "metadata": {},
   "source": [
    "### 2.2. Answer Generation"
   ]
  },
  {
   "cell_type": "code",
   "execution_count": 16,
   "id": "e53614b0-d2fa-464d-baa5-f2e75b806696",
   "metadata": {},
   "outputs": [],
   "source": [
    "# Web search tool\n",
    "tavily_search = TavilySearch(\n",
    "    tavily_api_key=config.tavily_api_key.get_secret_value(), \n",
    "    max_results=3\n",
    ")"
   ]
  },
  {
   "cell_type": "code",
   "execution_count": 17,
   "id": "d0625b9b-8ad5-4aeb-83e3-e89739f8a925",
   "metadata": {},
   "outputs": [],
   "source": [
    "# Prompts\n",
    "query_generation_prompt = ChatPromptTemplate(\n",
    "    [\n",
    "        (\"system\", \"\"\"You are a professional {search_source} search query generation agent. User will provide you converstation between\n",
    "an analyst who tries to understand a topic and an expert. Your task is to analyze the full conversation to understand the context, pay\n",
    "particullar attention to the final question provided my analyst and convert its question into a optimized well-structured {search_source}\n",
    "search query for the expert to gather useful insights before answering the question.\n",
    "\"\"\"),\n",
    "        (\"user\", \"The conversation so far: ```{messages}```\")\n",
    "    ]\n",
    ")\n",
    "\n",
    "answer_generation_prompt = ChatPromptTemplate(\n",
    "    [\n",
    "        (\"system\", \"\"\"You are an expert being intervied by an analyst. here is the details of interviwer: ```{analyst_persona}```\n",
    "\n",
    "Your goal is to answer the last question posed by the interviewer. To answer the question, use this delimited context: ```{context}```\n",
    "\n",
    "When you are answering questions, follow these guideline:\n",
    "\n",
    "1. Use only the information provided in the context.\n",
    "\n",
    "2. Do not introduce external information or make assumptions beyond what is explicitly stated in the context.\n",
    "\n",
    "3. The context contain sources at the topic of each individual document, Include these sources in your answer next to any relavant \n",
    "statement. For example, for source #1 use [1].\n",
    "\n",
    "4. List all your sources in order at the bottom of your answer. [1] source 1, [2] source 2, et.\n",
    "\"\"\"),\n",
    "        (\"user\", \"The conversation so far: ```{messages}```\")\n",
    "    ]\n",
    ")\n",
    "\n",
    "section_writer_instructions = \"\"\"You are an expert technical writer. \n",
    "            \n",
    "Your task is to create a short, easily digestible section of a report based on a set of source documents.\n",
    "\n",
    "1. Analyze the content of the source documents: \n",
    "- The name of each source document is at the start of the document, with the <Document tag.\n",
    "        \n",
    "2. Create a report structure using markdown formatting:\n",
    "- Use ## for the section title\n",
    "- Use ### for sub-section headers\n",
    "        \n",
    "3. Write the report following this structure:\n",
    "a. Title (## header)\n",
    "b. Summary (### header)\n",
    "c. Sources (### header)\n",
    "\n",
    "4. Make your title engaging based upon the focus area of the analyst: \n",
    "{focus}\n",
    "\n",
    "5. For the summary section:\n",
    "- Set up summary with general background / context related to the focus area of the analyst\n",
    "- Emphasize what is novel, interesting, or surprising about insights gathered from the interview\n",
    "-  use them\n",
    "- Do not mention the names of interviewers or experts\n",
    "- Aim for approximately 400 words maximum\n",
    "- Use numbered sources in your report (e.g., [1], [2]) based on information from source documents\n",
    "        \n",
    "6. In the Sources section:\n",
    "- Include all sources used in your report\n",
    "- Provide full links to relevant websites or specific document paths\n",
    "- Separate each source by a newline. Use two spaces at the end of each line to create a newline in Markdown.\n",
    "- It will look like:\n",
    "\n",
    "### Sources\n",
    "[1] Link or Document name\n",
    "[2] Link or Document name\n",
    "\n",
    "7. Be sure to combine sources. For example this is not correct:\n",
    "\n",
    "[3] https://ai.meta.com/blog/meta-llama-3-1/\n",
    "[4] https://ai.meta.com/blog/meta-llama-3-1/\n",
    "\n",
    "There should be no redundant sources. It should simply be:\n",
    "\n",
    "[3] https://ai.meta.com/blog/meta-llama-3-1/\n",
    "        \n",
    "8. Final review:\n",
    "- Ensure the report follows the required structure\n",
    "- Include no preamble before the title of the report\n",
    "- Check that all guidelines have been followed\"\"\""
   ]
  },
  {
   "cell_type": "code",
   "execution_count": 18,
   "id": "dafd44a6-83a8-4cba-88ee-659e3ff9ff2b",
   "metadata": {},
   "outputs": [],
   "source": [
    "def format_messages_for_prompt(messages):\n",
    "    \"\"\"Format messages into a clean conversation string\"\"\"\n",
    "    formatted_conversation = []\n",
    "    \n",
    "    for msg in messages:\n",
    "        # Get the role based on message attributes\n",
    "        if hasattr(msg, 'message_type'):\n",
    "            if msg.message_type == \"question\":\n",
    "                role = f\"Analyst\"\n",
    "            elif msg.message_type == \"answer\": \n",
    "                role = f\"Expert\"\n",
    "            else:\n",
    "                role = msg.name if hasattr(msg, 'name') else \"Unknown\"\n",
    "        else:\n",
    "            role = msg.name if hasattr(msg, 'name') else \"Unknown\"\n",
    "        \n",
    "        # Format each message cleanly\n",
    "        formatted_conversation.append(f\"{role}: {msg.content}\")\n",
    "    \n",
    "    return \"\\n\".join(formatted_conversation)"
   ]
  },
  {
   "cell_type": "code",
   "execution_count": 19,
   "id": "60a43f62-0b99-469b-8d06-833cd67b3249",
   "metadata": {},
   "outputs": [],
   "source": [
    "# Nodes\n",
    "def search_web(state: InterviewState):\n",
    "    \"\"\"Node to perform web search using Tavily\"\"\"\n",
    "    messages = state[\"messages\"]\n",
    "    formated_messages = format_messages_for_prompt(messages)\n",
    "\n",
    "    # Generate search query\n",
    "    search_query_prompt = query_generation_prompt.invoke({\"search_source\": \"web\", \"messages\": formated_messages})\n",
    "    search_query = llm.with_structured_output(SearchQuery).invoke(search_query_prompt)\n",
    "\n",
    "    # Search\n",
    "    search_docs = tavily_search.invoke(search_query.search_query)\n",
    "\n",
    "    # Format\n",
    "    formatted_search_docs = \"\\n\\n---\\n\\n\".join(\n",
    "        [\n",
    "            f'<Document href=\"{doc[\"url\"]}\"/>\\n{doc[\"content\"]}\\n</Document>'\n",
    "            for doc in search_docs[\"results\"]\n",
    "        ]\n",
    "    )\n",
    "\n",
    "    return {\"context\": [formatted_search_docs]} \n",
    "\n",
    "\n",
    "def search_wikipedia(state: InterviewState):\n",
    "    \"\"\"Node to retrieve docs from wikipedia\"\"\"\n",
    "    messages = state[\"messages\"]\n",
    "    formated_messages = format_messages_for_prompt(messages)\n",
    "\n",
    "    # Generate search query\n",
    "    search_query_prompt = query_generation_prompt.invoke({\"search_source\": \"Wikipedia\", \"messages\": formated_messages})\n",
    "    search_query = llm.with_structured_output(SearchQuery).invoke(search_query_prompt)\n",
    "\n",
    "    # Search\n",
    "    search_docs = WikipediaLoader(query=search_query.search_query, load_max_docs=2).load()\n",
    "\n",
    "    # Format\n",
    "    formatted_search_docs = \"\\n\\n---\\n\\n\".join(\n",
    "        [\n",
    "            f'<Document source=\"{doc.metadata[\"source\"]}\" page=\"{doc.metadata.get(\"page\", \"\")}\"/>\\n{doc.page_content}\\n</Document>'\n",
    "            for doc in search_docs\n",
    "        ]\n",
    "    )\n",
    "\n",
    "    return {\"context\": [formatted_search_docs]} \n",
    "\n",
    "\n",
    "def generate_answer(state: InterviewState):\n",
    "    \"\"\"Node to generate answer based on gathered context from web and Wikipedia.\"\"\"\n",
    "    messages = state[\"messages\"]\n",
    "    formated_messages = format_messages_for_prompt(messages)\n",
    "    analyst = state[\"analyst\"]\n",
    "    analyst_persona = analyst.description_3rd\n",
    "    context = state[\"context\"]\n",
    "\n",
    "    # Generate answer with llm\n",
    "    prompt = answer_generation_prompt.invoke(\n",
    "        {\n",
    "            \"analyst_persona\":analyst_persona, \n",
    "            \"context\":context, \n",
    "            \"messages\":formated_messages\n",
    "        }).messages\n",
    "    answer = llm.invoke(prompt)\n",
    "\n",
    "    # Add metadata\n",
    "    answer.message_type = \"answer\"\n",
    "    answer.name = \"expert\"\n",
    "\n",
    "    # Append it to state\n",
    "    return {\"messages\": [answer]}\n",
    "\n",
    "\n",
    "\n",
    "def save_interview(state: InterviewState):\n",
    "    \"\"\" Save interviews \"\"\"\n",
    "    # Get messages\n",
    "    messages = state[\"messages\"]\n",
    "    \n",
    "    # Convert interview to a string\n",
    "    interview = get_buffer_string(messages)\n",
    "    \n",
    "    # Save to interviews key\n",
    "    return {\"interview\": interview}\n",
    "\n",
    "\n",
    "def route_messages(state: InterviewState, name: str = \"expert\"):\n",
    "    \"\"\" Route between question and answer \"\"\"\n",
    "    # Get messages\n",
    "    messages = state[\"messages\"]\n",
    "    max_num_turns = state.get('max_num_turns',2)\n",
    "\n",
    "    # Check the number of expert answers \n",
    "    num_responses = len(\n",
    "        [m for m in messages if isinstance(m, AIMessage) and m.name == name]\n",
    "    )\n",
    "\n",
    "    # End if expert has answered more than the max turns\n",
    "    if num_responses >= max_num_turns:\n",
    "        return 'save_interview'\n",
    "\n",
    "    # This router is run after each question - answer pair \n",
    "    # Get the last question asked to check if it signals the end of discussion\n",
    "    last_question = messages[-2]\n",
    "    \n",
    "    if \"Thank you so much for your help\" in last_question.content:\n",
    "        return 'save_interview'\n",
    "    return \"generate_question\"\n",
    "\n",
    "    \n",
    "def write_section(state: InterviewState):\n",
    "    \"\"\" Node to answer a question \"\"\"\n",
    "\n",
    "    # Get state\n",
    "    interview = state[\"interview\"]\n",
    "    context = state[\"context\"]\n",
    "    analyst = state[\"analyst\"]\n",
    "   \n",
    "    # Write section using either the gathered source docs from interview (context) or the interview itself (interview)\n",
    "    system_message = section_writer_instructions.format(focus=analyst.description_3rd)\n",
    "    section = llm.invoke([SystemMessage(content=system_message)]+[HumanMessage(content=f\"Use this source to write your section: {context}\")]) \n",
    "                \n",
    "    # Append it to state\n",
    "    return {\"sections\": [section.content]}"
   ]
  },
  {
   "cell_type": "code",
   "execution_count": 20,
   "id": "e64f5938-1318-46ac-adaf-15153c650bcd",
   "metadata": {},
   "outputs": [
    {
     "data": {
      "image/png": "[encoded data removed]",
      "text/plain": [
       "<IPython.core.display.Image object>"
      ]
     },
     "metadata": {},
     "output_type": "display_data"
    }
   ],
   "source": [
    "# Graph\n",
    "interview_builder = StateGraph(InterviewState)\n",
    "\n",
    "interview_builder.add_node(\"generate_question\", generate_question)\n",
    "interview_builder.add_node(\"search_web\", search_web)\n",
    "interview_builder.add_node(\"search_wikipedia\", search_wikipedia)\n",
    "interview_builder.add_node(\"generate_answer\", generate_answer)\n",
    "interview_builder.add_node(\"save_interview\", save_interview)\n",
    "interview_builder.add_node(\"write_section\", write_section)\n",
    "\n",
    "interview_builder.add_edge(START, \"generate_question\")\n",
    "interview_builder.add_edge(\"generate_question\", \"search_web\")\n",
    "interview_builder.add_edge(\"generate_question\", \"search_wikipedia\")\n",
    "interview_builder.add_edge(\"search_web\", \"generate_answer\")\n",
    "interview_builder.add_edge(\"search_wikipedia\", \"generate_answer\")\n",
    "interview_builder.add_conditional_edges(\"generate_answer\", route_messages, [\"generate_question\", \"save_interview\"])\n",
    "interview_builder.add_edge(\"save_interview\", \"write_section\")\n",
    "interview_builder.add_edge(\"write_section\", END)\n",
    "\n",
    "# Interview \n",
    "memory = MemorySaver()\n",
    "interview_graph = interview_builder.compile(checkpointer=memory).with_config(run_name=\"Conduct Interviews\")\n",
    "\n",
    "# View\n",
    "display(Image(interview_graph.get_graph().draw_mermaid_png()))"
   ]
  },
  {
   "cell_type": "code",
   "execution_count": 29,
   "id": "9bb7414c-9954-483f-b303-686a6f00f578",
   "metadata": {},
   "outputs": [
    {
     "data": {
      "text/plain": [
       "Analyst(affiliation='Community Lead, Global AI Foundation', name=\"Liam O'Connell\", role=\"Assesses the strength of a language's ecosystem, community support, and accessibility for new developers.\", description_2nd=\"You are Liam O'Connell, a Community Lead. Your focus is on the strength of Python's ecosystem, including package availability, documentation quality, community forums, ease of learning, and contribution trends. You are motivated by fostering an inclusive and supportive environment for AI developers.\", description_3rd=\"Liam O'Connell is a Community Lead. His focus is on the strength of Python's ecosystem, including package availability, documentation quality, community forums, ease of learning, and contribution trends. He is motivated by fostering an inclusive and supportive environment for AI developers.\")"
      ]
     },
     "execution_count": 29,
     "metadata": {},
     "output_type": "execute_result"
    }
   ],
   "source": [
    "# Pick one analyst\n",
    "analysts[1]"
   ]
  },
  {
   "cell_type": "code",
   "execution_count": 28,
   "id": "f0f51a7b-9c02-42f3-987c-15fa96d4d8ba",
   "metadata": {},
   "outputs": [
    {
     "data": {
      "text/markdown": [
       "## Nurturing AI Innovation: Python's Thriving Ecosystem and Inclusive Community\n",
       "\n",
       "### Summary\n",
       "Python stands as a cornerstone for Artificial Intelligence and Machine Learning development, largely due to its robust and expansive ecosystem, which is continuously enriched by a vibrant community. Its extensively tested and well-structured environment provides a rich tech stack of libraries and frameworks, making it a preferred choice for experts globally [1]. The language's inherent ease of use and readable syntax significantly lower the barrier to entry for new developers, fostering a more inclusive environment [1, 3].\n",
       "\n",
       "A key strength lies in Python's vast array of specialized libraries. From foundational tasks like data manipulation and numerical operations using Pandas and NumPy, to advanced applications in neural networks, natural language processing, and computer vision, Python offers comprehensive toolkits [7]. Prominent libraries such as Scikit-learn provide predictive data analysis capabilities, while TensorFlow and PyTorch enable sophisticated deep learning models, offering smooth development and easy scaling across various platforms [7, 8]. PyTorch, in particular, prioritizes user experience, emphasizing a \"simple over easy\" design philosophy that ensures its APIs are understandable and debuggable for new users [6]. This focus on usability directly contributes to an accessible and supportive development landscape.\n",
       "\n",
       "Beyond its technical stack, Python benefits immensely from a large and active community. This community is a wellspring of extensive documentation, tutorials, and forums, providing invaluable support and resources for developers at all stages [2, 3]. This collective contribution not only strengthens the ecosystem but also promotes a culture of shared learning and problem-solving. An interesting historical note highlighting Python's pervasive influence is the naming convention of the Raspberry Pi, which includes a direct \"nod to the Python programming language\" [5]. This connection underscores Python's foundational role in making computing, and by extension AI development, more accessible and widespread, aligning perfectly with the goal of fostering an inclusive and supportive environment for all AI developers.\n",
       "\n",
       "### Sources\n",
       "[1] https://www.damcogroup.com/blogs/why-experts-prefer-python-for-ai-ml-development  \n",
       "[2] https://bitskingdom.com/blog/python-for-ai-development/  \n",
       "[3] https://www.binaryfolks.com/blog/python-for-ai  \n",
       "[5] https://en.wikipedia.org/wiki/Raspberry_Pi  \n",
       "[6] https://docs.pytorch.org/docs/stable/community/design.html  \n",
       "[7] https://www.scalablepath.com/python/python-libraries-machine-learning  \n",
       "[8] https://www.clickittech.com/ai/best-python-libraries-for-ai-development/"
      ],
      "text/plain": [
       "<IPython.core.display.Markdown object>"
      ]
     },
     "execution_count": 28,
     "metadata": {},
     "output_type": "execute_result"
    }
   ],
   "source": [
    "from IPython.display import Markdown\n",
    "\n",
    "messages = [HumanMessage(f\"So you said you were writing an article on {topic}?\")]\n",
    "thread = {\"configurable\": {\"thread_id\": 8}}\n",
    "interview = interview_graph.invoke({\"analyst\": analysts[1], \"messages\": messages, \"max_num_turns\": 2, \"topic\": topic}, thread)\n",
    "Markdown(interview['sections'][0])"
   ]
  },
  {
   "cell_type": "code",
   "execution_count": 25,
   "id": "01e61afd-9ac4-4c82-a651-79d108fc5d42",
   "metadata": {},
   "outputs": [
    {
     "data": {
      "text/plain": [
       "dict_keys(['topic', 'max_num_turns', 'messages', 'context', 'analyst', 'interview', 'sections'])"
      ]
     },
     "execution_count": 25,
     "metadata": {},
     "output_type": "execute_result"
    }
   ],
   "source": [
    "interview.keys()"
   ]
  },
  {
   "cell_type": "code",
   "execution_count": 26,
   "id": "57cef560-c1df-4e2d-acfb-c673a3358909",
   "metadata": {},
   "outputs": [
    {
     "data": {
      "text/plain": [
       "'Human: So you said you were writing an article on Why python is the best language for AI development??\\nAI: Yes, that\\'s correct. I\\'m Dr. Anya Sharma, a Lead AI Architect at Tech Solutions Inc., and my primary focus is on building scalable and high-performing AI solutions. While Python\\'s popularity in AI is undeniable, I\\'m particularly interested in dissecting the *technical underpinnings* that truly make it the \"best\" for large-scale, production-grade AI systems, rather than just its ease of use or broad library support.\\n\\nTo kick things off, given the demanding requirements of large-scale AI systems – particularly concerning computational efficiency, memory management, and deployment into diverse environments – many might naturally gravitate towards lower-level, compiled languages. What specific, non-obvious architectural or design aspects of Python, beyond its well-known extensive libraries, make it uniquely suited to overcome these inherent performance bottlenecks when deploying truly scalable and high-performing AI solutions? I\\'m looking for insights that go beyond the surface.\\nAI: While Python\\'s extensive libraries are widely recognized, its unique suitability for scalable and high-performing AI solutions, especially concerning computational efficiency, memory management, and deployment, stems from its seamless integration with advanced architectural paradigms and distributed computing innovations [1].\\n\\nSpecifically, Python leverages:\\n*   **Model Parallelism and Data Parallelism:** For optimizing computational resources and managing large-scale datasets, Python facilitates techniques such as model parallelism and data parallelism [1]. These methods enable AI models to be split across multiple processors or machines, significantly enhancing scalability in deep learning tasks through frameworks like Horovod and TensorFlow Distributed [1].\\n*   **Cloud Computing and AI Deployment Integration:** For efficient deployment in production environments, Python benefits from its deep integration with major cloud platforms [1]. Platforms such as AWS, Google Cloud AI, and Azure have incorporated Python libraries, allowing for the seamless deployment of scalable AI models into robust, production-grade infrastructures [1].\\n\\nThese innovations in distributed machine learning and cloud computing, often accessed and managed through Python, are crucial for advancing the ability to scale AI solutions efficiently [1].\\n\\n**Sources:**\\n[1] https://philarchive.org/archive/ANSBSA\\nAI: -2\\nAI: While distributed computing and cloud integration are crucial for scaling AI, Python\\'s deeper technical suitability for high-performing, large-scale AI solutions, beyond just its libraries, lies in several inherent design aspects that address computational efficiency and memory management:\\n\\n*   **Internal Performance Optimizations:** Python has undergone significant \"Performance optimizations [that] have eliminated historical limitations, enabling Python to power computationally intensive applications at scale\" [5]. Furthermore, recent versions, such as Python 3.12, have introduced capabilities and keywords for typing, which contribute to increasing speed and supporting optional static typing, thereby improving computational efficiency [6].\\n*   **Robust Memory Management:** Python\\'s design incorporates an automatic memory management system that utilizes \"a combination of reference counting and a cycle-detecting garbage collector\" [6]. This system efficiently handles memory allocation and deallocation, crucial for managing the large data structures and models prevalent in scalable AI without requiring manual memory handling, thus preventing common memory-related bottlenecks in long-running applications.\\n*   **\"Glue Language\" Interoperability:** A key non-obvious aspect is Python\\'s design as a \"glue language\" [6]. This allows it to seamlessly integrate and orchestrate components written in other high-performance, lower-level languages (like C or C++). For computationally intensive core AI tasks, Python can delegate execution to these optimized underlying libraries (e.g., the backends of TensorFlow or PyTorch), effectively bypassing its own interpretative overhead for critical sections. This architectural flexibility enables developers to leverage Python\\'s rapid development and readability while achieving the raw computational speed of compiled languages where needed, directly addressing performance bottlenecks in large-scale AI systems [6].\\n\\n**Sources:**\\n[1] https://philarchive.org/archive/ANSBSA\\n[5] https://orbittraining.ae/8-reasons-why-python-is-essential-for-ai-and-ml/\\n[6] https://en.wikipedia.org/wiki/Python_(programming_language)'"
      ]
     },
     "execution_count": 26,
     "metadata": {},
     "output_type": "execute_result"
    }
   ],
   "source": [
    "interview[\"interview\"]"
   ]
  },
  {
   "cell_type": "code",
   "execution_count": null,
   "id": "9553fcf0-97a5-4e39-8ce5-08e3633d2f43",
   "metadata": {},
   "outputs": [],
   "source": []
  },
  {
   "cell_type": "code",
   "execution_count": null,
   "id": "34d8ecf3-0edf-47ff-8db2-50f2f2f26217",
   "metadata": {},
   "outputs": [],
   "source": []
  },
  {
   "cell_type": "code",
   "execution_count": null,
   "id": "e830dc47-f31d-4777-ad34-cc6a8e2a4526",
   "metadata": {},
   "outputs": [],
   "source": [
    "class InterviewStateWithMessagesState(MessagesState):\n",
    "    turn_count: int = 0\n"
   ]
  },
  {
   "cell_type": "code",
   "execution_count": null,
   "id": "bc7f0afa-76c7-4370-82dd-71f095454122",
   "metadata": {},
   "outputs": [],
   "source": []
  },
  {
   "cell_type": "code",
   "execution_count": null,
   "id": "1df1e12d-5ee9-4922-b63c-b469ca6063a6",
   "metadata": {},
   "outputs": [],
   "source": []
  },
  {
   "cell_type": "code",
   "execution_count": null,
   "id": "2571bbac-53d7-4d64-b315-9ed7ae785148",
   "metadata": {},
   "outputs": [],
   "source": []
  }
 ],
 "metadata": {
  "kernelspec": {
   "display_name": "Python 3 (ipykernel)",
   "language": "python",
   "name": "python3"
  },
  "language_info": {
   "codemirror_mode": {
    "name": "ipython",
    "version": 3
   },
   "file_extension": ".py",
   "mimetype": "text/x-python",
   "name": "python",
   "nbconvert_exporter": "python",
   "pygments_lexer": "ipython3",
   "version": "3.12.8"
  }
 },
 "nbformat": 4,
 "nbformat_minor": 5
}
