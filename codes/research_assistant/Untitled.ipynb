{
 "cells": [
  {
   "cell_type": "markdown",
   "id": "927ad0c8-64d0-4a9c-ae45-35d1d86c9d69",
   "metadata": {},
   "source": [
    "# Research Assistant Agent\n",
    "\n",
    "The goal of this notebook is to prototype a multi-agent system that strategically gathers and uses context in order to generate more reliable answers. Inspired by the [STORM](https://arxiv.org/pdf/2402.14207) research paper by Stanford University, this is a custom implementation of `Multi-Perspective Question Answering` where the system looks at the question from different perspectives and starts multiple conversations with experts for the research phase. To understand the concept in more detail, please follow along in this notebook.\n",
    "\n",
    "The system has the following features:\n",
    "1. **Planning:** Users provide a topic, and the system generates a team of AI analysts, each focusing on one sub-topic. `Human-in-the-loop` will be used to refine the sub-topics before research begins.\n",
    "2. **LLM Utilization:** Each analyst will conduct in-depth interviews with an expert agent with web search capabilities. The interview will be a multi-turn conversation to extract detailed insights.\n",
    "3. **Research Process:** Expert agents will gather information to answer analyst questions in `parallel` using `Map-Reduce` technique for efficiency.\n",
    "4. **Output Format:** The gathered insights from each interview will be synthesized into a flexible output format using customizable prompts."
   ]
  },
  {
   "cell_type": "code",
   "execution_count": 28,
   "id": "27e1d3ee-3562-4b11-924b-c6140c0cc18a",
   "metadata": {},
   "outputs": [],
   "source": [
    "# Import libraries\n",
    "import sys, os\n",
    "import logging\n",
    "import operator\n",
    "from typing import Any, List, Annotated\n",
    "from pydantic import BaseModel, Field\n",
    "from typing_extensions import TypedDict\n",
    "from IPython.display import Image, display\n",
    "\n",
    "from langchain_core.tools import tool\n",
    "from langchain_openai import ChatOpenAI\n",
    "from langchain_tavily import TavilySearch\n",
    "from langchain_core.messages import get_buffer_string\n",
    "from langchain_community.document_loaders import WikipediaLoader\n",
    "from langchain_core.prompts import PromptTemplate, ChatPromptTemplate\n",
    "from langchain_core.messages import HumanMessage, AIMessage, SystemMessage\n",
    "\n",
    "from langgraph.graph import MessagesState\n",
    "from langgraph.graph import StateGraph, START, END\n",
    "from langgraph.checkpoint.memory import MemorySaver"
   ]
  },
  {
   "cell_type": "code",
   "execution_count": 2,
   "id": "ab861401-85d1-40d1-9726-765295bc45ab",
   "metadata": {},
   "outputs": [],
   "source": [
    "# Suppress all debug logs from urllib3 and langsmith\n",
    "logging.getLogger(\"urllib3\").setLevel(logging.WARNING)\n",
    "logging.getLogger(\"langsmith\").setLevel(logging.WARNING)\n",
    "logging.getLogger(\"httpcore\").setLevel(logging.WARNING)\n",
    "logging.getLogger(\"openai\").setLevel(logging.WARNING)\n",
    "logging.getLogger(\"openai._base_client\").setLevel(logging.WARNING)\n",
    "logging.getLogger(\"httpx\").setLevel(logging.WARNING)\n",
    "\n",
    "\n",
    "# Optional: also raise the global root logger level\n",
    "logging.getLogger().setLevel(logging.WARNING)"
   ]
  },
  {
   "cell_type": "code",
   "execution_count": 3,
   "id": "9b225b01-3ea0-4175-8208-cdb0ed65249b",
   "metadata": {},
   "outputs": [
    {
     "name": "stderr",
     "output_type": "stream",
     "text": [
      "2025-09-15 20:45:11,054 - root - INFO - Configuration loaded for environment: development\n"
     ]
    }
   ],
   "source": [
    "# Import settings and sensitive variables from config\n",
    "sys.path.append(os.path.abspath(os.path.join(os.getcwd(), \"../..\")))\n",
    "from codes.config.config import config\n",
    "\n",
    "# Set langsmith variables for tracing\n",
    "os.environ[\"LANGSMITH_API_KEY\"] = config.langsmith_api_key\n",
    "os.environ[\"LANGCHAIN_TRACING_V2\"] = \"true\"\n",
    "os.environ[\"LANGCHAIN_PROJECT\"] = \"storm-research-assistant\""
   ]
  },
  {
   "cell_type": "code",
   "execution_count": 4,
   "id": "1a2f7e32-fa03-4d4a-b222-c94dc1b2ebc9",
   "metadata": {},
   "outputs": [],
   "source": [
    "# Create ChatModel instance\n",
    "llm = ChatOpenAI(\n",
    "    model=\"gpt-4o\",\n",
    "    api_key=config.openai_api_key.get_secret_value()\n",
    ")"
   ]
  },
  {
   "cell_type": "markdown",
   "id": "79d93b68-63bf-4c53-8887-7ed04d29c573",
   "metadata": {},
   "source": [
    "---\n",
    "# 1. Analysts\n",
    "As mentioned in the [research paper](https://arxiv.org/pdf/2402.14207), each topic or question has varying aspects and when individuals with different perspectives want to research about it, they concentrate on different aspects. That is why first agent of the system takes the problem as input and define perspectives (Which we call analyst in this project). \n",
    "\n",
    "In order to have a more reliable wokflow, Human-in-the-loop has been implemented to approve the perspectives."
   ]
  },
  {
   "cell_type": "code",
   "execution_count": 5,
   "id": "23a6e41e-c9da-4a57-9be4-27a906bff948",
   "metadata": {},
   "outputs": [],
   "source": [
    "# State and schemas for the first agent\n",
    "class Analyst(BaseModel):\n",
    "    \"\"\"\n",
    "    Schema for a single analyst.\n",
    "    Note that we generate both second person and third person descriptions for the perspective. \n",
    "    The reason is to enhance prompt engineering of upcomming agents.\n",
    "        \n",
    "    - description_2nd example: You are ...\n",
    "    - description_3rd example: He/She is ...\n",
    "    \"\"\"\n",
    "    affiliation: str = Field(\n",
    "        description=\"primary affiliation of the analyst.\"\n",
    "    )\n",
    "    name: str = Field(\n",
    "        description=\"name of the analyst.\"\n",
    "    )\n",
    "    role: str = Field(\n",
    "        description=\"role of the analyst in the context of topic.\"\n",
    "    )\n",
    "    description: str = Field(\n",
    "        description=\"description of the analyst focus, concerns, and motivations.\"\n",
    "    )\n",
    "\n",
    "    @property\n",
    "    def persona(self) -> str:\n",
    "        return (\n",
    "            f\"Name: {self.name}\\n\"\n",
    "            f\"Role: {self.role}\\n\"\n",
    "            f\"Affiliation: {self.affiliation}\\n\"\n",
    "            f\"description: {self.description}\\n\"\n",
    "        )\n",
    "\n",
    "\n",
    "class CreateAnalystOutput(BaseModel):\n",
    "    \"\"\"\n",
    "    Schema for create_analyst node's output.\n",
    "    we use .with_structured_output to bind this output schema to ChatModel.\n",
    "    \"\"\"\n",
    "    analysts : list[Analyst] = Field(\n",
    "        description=\"comprehensive list of analysts with their role and affiliation.\"\n",
    "    )\n",
    "\n",
    "\n",
    "class CreateAnalystState(TypedDict):\n",
    "    \"\"\"State for the generate analyst graph. we pass this state and the graph edit the field on invokation\"\"\"\n",
    "    topic: str  # Research topic\n",
    "    max_analyst: int  # Number of analysts we want to have\n",
    "    human_feedback: str  # Human feedback for editing generated analystst (for Human-in-the-loop)\n",
    "    analysts: list[Analyst]  # List of generated analysts    "
   ]
  },
  {
   "cell_type": "code",
   "execution_count": 6,
   "id": "538d5505-0673-4a23-a50b-b5ce55aebd1f",
   "metadata": {},
   "outputs": [],
   "source": [
    "# Prompt\n",
    "generate_analyst_prompt_template = ChatPromptTemplate(\n",
    "    [\n",
    "        (\"system\", \"\"\"You are a **persona designer**. \n",
    "Your goal is to receive a research topic or problem from the user and produce distinct analyst personas who will analyze the problem \n",
    "from multiple, non-overlapping points of view. The user provides you with topic, and optional human_feedback as input. \n",
    "\n",
    "Follow the following instructions carefully to generate the response:\n",
    "    \n",
    "1. First review the research topic or problem.\n",
    "\n",
    "2. Examine any editorial feedback that has been optionally provided to guide creation of the personas.\n",
    "\n",
    "3. Create analyst personas that differ in expertise, background, and motivationso that, together, they cover all key aspects needed to analyze the topic.\n",
    "\n",
    "4. Return the top {max_analyst} personas.\n",
    "\"\"\"),\n",
    "        \n",
    "        (\"user\", \"\"\"Research Topic: ```{topic}```\n",
    "Human Feedback (optional): ```{human_feedback}```\n",
    "\"\"\")\n",
    "    ]\n",
    ")"
   ]
  },
  {
   "cell_type": "code",
   "execution_count": 7,
   "id": "b9cc43cf-139c-4922-b4f5-e47f177d504d",
   "metadata": {},
   "outputs": [],
   "source": [
    "# Nodes\n",
    "def create_analyst(state: CreateAnalystState):\n",
    "    \"\"\"Node to create list of different analysts(perspectives)\"\"\"\n",
    "\n",
    "    topic = state[\"topic\"]\n",
    "    max_analyst = state[\"max_analyst\"]\n",
    "    human_feedback = state.get(\"human_feedback\", \"\")\n",
    "\n",
    "    # Add output schema to the ChatModel\n",
    "    structured_llm = llm.with_structured_output(CreateAnalystOutput)\n",
    "\n",
    "    # Create chat messages from prompt templates\n",
    "    prompt = generate_analyst_prompt_template.invoke({\n",
    "        \"topic\": topic,\n",
    "        \"max_analyst\": max_analyst,\n",
    "        \"human_feedback\": human_feedback\n",
    "    })\n",
    "\n",
    "    # Create analysts with LLM invokation\n",
    "    analysts = structured_llm.invoke(prompt.messages)\n",
    "\n",
    "    return {\"analysts\": analysts.analysts}\n",
    "\n",
    "\n",
    "def human_feedback(state: CreateAnalystState):\n",
    "    \"No-op node that should be interruped on for Human-in-the-loop feedback\"\n",
    "    pass\n",
    "\n",
    "\n",
    "def human_feedback_router(state: CreateAnalystState):\n",
    "    \"\"\"\n",
    "    Returns the next node to execute. \n",
    "    If feedback is provided, the router points to regenerating analysts(personas), otherwise continutes.\n",
    "    \"\"\"\n",
    "    human_feedback = state.get(\"human_feedback\", None)\n",
    "\n",
    "    if human_feedback:\n",
    "        return \"create_analyst\"\n",
    "    return END"
   ]
  },
  {
   "cell_type": "code",
   "execution_count": 8,
   "id": "5035914a-4cf8-45bd-8edb-401e777eefa5",
   "metadata": {},
   "outputs": [
    {
     "data": {
      "image/png": "[encoded data removed]",
      "text/plain": [
       "<IPython.core.display.Image object>"
      ]
     },
     "metadata": {},
     "output_type": "display_data"
    }
   ],
   "source": [
    "# Graph\n",
    "analyst_builder = StateGraph(CreateAnalystState)\n",
    "\n",
    "analyst_builder.add_node(\"create_analyst\", create_analyst)\n",
    "analyst_builder.add_node(\"human_feedback\", human_feedback)\n",
    "\n",
    "analyst_builder.add_edge(START, \"create_analyst\")\n",
    "analyst_builder.add_edge(\"create_analyst\", \"human_feedback\")\n",
    "analyst_builder.add_conditional_edges(\"human_feedback\", human_feedback_router, [\"create_analyst\", END])\n",
    "\n",
    "# Compile\n",
    "memory = MemorySaver()\n",
    "analyst_graph = analyst_builder.compile(interrupt_before=['human_feedback'], checkpointer=memory)\n",
    "\n",
    "# View Graph\n",
    "display(Image(analyst_graph.get_graph(xray=1).draw_mermaid_png()))"
   ]
  },
  {
   "cell_type": "code",
   "execution_count": 9,
   "id": "d48eb7d4-1dfa-4ca9-94f6-ed66e60e58a3",
   "metadata": {},
   "outputs": [
    {
     "name": "stdout",
     "output_type": "stream",
     "text": [
      "Name: Dr. Laura Chen\n",
      "Affiliation: Massachusetts Institute of Technology\n",
      "Role: Computer Science Professor\n",
      "description: A pioneer in artificial intelligence education, Dr. Chen focuses on the importance of programming language versatility and educational impacts. She investigates how Python's readability and simplicity make it an ideal teaching tool for AI concepts to both undergraduate students and industry professionals. She is motivated by enhancing accessibility to AI education and training future generations of AI developers.\n",
      "--------------------------------------------------\n",
      "Name: Raj Patel\n",
      "Affiliation: Google AI\n",
      "Role: Software Engineer\n",
      "description: Raj is a senior software engineer at Google AI who specializes in large-scale AI systems. He analyzes the efficiency and scalability of Python in real-world AI applications, leveraging its extensive libraries like TensorFlow and PyTorch. His concerns involve balancing ease of use with performance requirements in high-stakes environments. He advocates for Python due to its rich ecosystem and its integration capabilities with other technologies.\n",
      "--------------------------------------------------\n",
      "Name: Samantha Green\n",
      "Affiliation: Open Source Community Advocate\n",
      "Role: Open Source Developer\n",
      "description: Samantha is heavily involved in the open-source community, contributing to numerous Python projects and libraries. Her focus is on community-driven innovation and the rapid prototyping capabilities provided by Python. She emphasizes Python's vibrant community support, which accelerates AI development and experimentation. Her motivation is to foster collaboration and knowledge-sharing to push the boundaries of AI technologies.\n",
      "--------------------------------------------------\n"
     ]
    }
   ],
   "source": [
    "# Test\n",
    "max_analyst = 3\n",
    "topic = \"Why python is the best language for AI development?\"\n",
    "thread = {\"configurable\": {\"thread_id\": 1}}\n",
    "\n",
    "# Run the graph until the first interruption\n",
    "for event in analyst_graph.stream({\"topic\":topic,\"max_analyst\":max_analyst,}, thread, stream_mode=\"values\"):\n",
    "    # Review\n",
    "    analysts = event.get('analysts', '')\n",
    "    if analysts:\n",
    "        for analyst in analysts:\n",
    "            print(f\"Name: {analyst.name}\")\n",
    "            print(f\"Affiliation: {analyst.affiliation}\")\n",
    "            print(f\"Role: {analyst.role}\")\n",
    "            print(f\"description: {analyst.description}\")\n",
    "            print(\"-\" * 50)  "
   ]
  },
  {
   "cell_type": "code",
   "execution_count": 14,
   "id": "0070a5e3-cf26-436d-9b87-eca31a5b57c3",
   "metadata": {},
   "outputs": [
    {
     "data": {
      "text/plain": [
       "('human_feedback',)"
      ]
     },
     "execution_count": 14,
     "metadata": {},
     "output_type": "execute_result"
    }
   ],
   "source": [
    "state = analyst_graph.get_state(thread)\n",
    "state.next"
   ]
  },
  {
   "cell_type": "code",
   "execution_count": 15,
   "id": "2ac64526-ef0c-4641-aee1-d9f75bb95d82",
   "metadata": {},
   "outputs": [
    {
     "data": {
      "text/plain": [
       "{'configurable': {'thread_id': '1',\n",
       "  'checkpoint_ns': '',\n",
       "  'checkpoint_id': '1f0925bc-6948-68c8-8005-aeb1bf019918'}}"
      ]
     },
     "execution_count": 15,
     "metadata": {},
     "output_type": "execute_result"
    }
   ],
   "source": [
    "# Update state\n",
    "analyst_graph.update_state(thread, {\n",
    "    \"human_feedback\": \"include one persona from startup view, one data scientist, and one ai engineer\"\n",
    "},as_node=\"human_feedback\")"
   ]
  },
  {
   "cell_type": "code",
   "execution_count": 16,
   "id": "9991efc0-c5a9-44cd-8c96-c0b2cc3de1be",
   "metadata": {},
   "outputs": [
    {
     "name": "stdout",
     "output_type": "stream",
     "text": [
      "Name: Emily Chen\n",
      "Affiliation: PyTech Startups Inc.\n",
      "Role: Startup Enthusiast\n",
      "Description: Emily believes Python is crucial for startups due to its ease of use, versatility, and robust community support. She values Python's ability to allow for rapid prototyping and iterative development, essential for startups that need to pivot quickly based on market feedback. Emily is focused on how Python's extensive library ecosystem helps startups minimize development costs and time-to-market.\n",
      "--------------------------------------------------\n",
      "Name: David Kumar\n",
      "Affiliation: Big Data Analytics Corp.\n",
      "Role: Data Scientist\n",
      "Description: David supports Python as the premier language for AI because of its powerful data processing capabilities. He emphasizes Python's extensive libraries like Pandas, NumPy, and SciPy that facilitate complex data manipulation and analysis. David is particularly interested in how Python's integration with machine learning frameworks like TensorFlow and PyTorch enables straightforward implementation of sophisticated AI models.\n",
      "--------------------------------------------------\n",
      "Name: Sophia Rodriguez\n",
      "Affiliation: Tech Innovators Ltd.\n",
      "Role: AI Engineer\n",
      "Description: Sophia advocates for Python in AI development due to its strong alignment with cutting-edge AI technologies. She appreciates Python's simplicity and readability, which enhance collaboration among multidisciplinary teams. Sophia focuses on Python's role in accelerating AI research and development by providing intuitive frameworks that lower barriers to implementing algorithms and deploying AI systems.\n",
      "--------------------------------------------------\n",
      "Name: Alex Johnson\n",
      "Affiliation: Tech Startup\n",
      "Role: Co-founder and CTO\n",
      "Description: You are co-founder and CTO of a tech startup that focuses on building AI-driven solutions for everyday problems. You are particularly interested in programming languages that allow fast prototyping, community support, and scalability. Your goal is to identify languages that align with rapid development cycles and evolving AI frameworks, which are crucial for a startup environment. Alex Johnson is a co-founder and CTO of a tech startup that develops AI-driven solutions for everyday problems. He values languages like Python that support fast prototyping, have strong community support, and are scalable, which are essential for meeting the rapid development and evolution demands of a startup setting.\n",
      "--------------------------------------------------\n",
      "Name: Dr. Emily Zhao\n",
      "Affiliation: Tech University\n",
      "Role: Data Scientist\n",
      "Description: You are Dr. Emily Zhao, a data scientist at a leading tech university. Your work involves researching machine learning algorithms and teaching advanced AI courses. You appreciate languages that offer extensive libraries for data manipulation, statistical analysis, and machine learning due to their potential to facilitate experiments and educational tasks. Dr. Emily Zhao is a data scientist at a leading tech university, who focuses on machine learning research and teaching. She values programming languages like Python for its extensive data manipulation, statistical, and machine learning libraries, which support her experimental and educational responsibilities.\n",
      "--------------------------------------------------\n",
      "Name: Raul Santiago\n",
      "Affiliation: Global Tech Firm\n",
      "Role: AI Engineer\n",
      "Description: You are Raul Santiago, an AI engineer at a global tech firm specializing in developing AI systems for diverse applications, such as autonomous vehicles and intelligent personal assistants. You need programming languages that can integrate with various tools and systems, and prioritize scalability and efficiency in production environments. Raul Santiago is an AI engineer at a global tech company focused on creating complex AI systems for applications like autonomous vehicles. He prioritizes programming languages like Python that easily integrate with various tools and emphasize scalability and efficiency in production settings.\n",
      "--------------------------------------------------\n"
     ]
    }
   ],
   "source": [
    "for event in analyst_graph.stream(None, thread, stream_mode=\"values\"):\n",
    "    analysts = event.get('analysts', '')\n",
    "    if analysts:\n",
    "        for analyst in analysts:\n",
    "            print(f\"Name: {analyst.name}\")\n",
    "            print(f\"Affiliation: {analyst.affiliation}\")\n",
    "            print(f\"Role: {analyst.role}\")\n",
    "            print(f\"Description: {analyst.description}\")\n",
    "            print(\"-\" * 50) "
   ]
  },
  {
   "cell_type": "code",
   "execution_count": 18,
   "id": "188d207d-2a15-42e7-b909-a84b3818c7b9",
   "metadata": {},
   "outputs": [
    {
     "data": {
      "text/plain": [
       "('human_feedback',)"
      ]
     },
     "execution_count": 18,
     "metadata": {},
     "output_type": "execute_result"
    }
   ],
   "source": [
    "final_state = analyst_graph.get_state(thread)\n",
    "final_state.next"
   ]
  },
  {
   "cell_type": "code",
   "execution_count": 23,
   "id": "e43ff07c-185d-420e-9973-c60cef15b120",
   "metadata": {},
   "outputs": [
    {
     "data": {
      "text/plain": [
       "{'configurable': {'thread_id': '1',\n",
       "  'checkpoint_ns': '',\n",
       "  'checkpoint_id': '1f0925c4-6524-6942-8009-0af29e794e61'}}"
      ]
     },
     "execution_count": 23,
     "metadata": {},
     "output_type": "execute_result"
    }
   ],
   "source": [
    "# If we are satisfied, then we simply supply no feedback\n",
    "analyst_graph.update_state(thread, {\"human_feedback\": None},as_node=\"human_feedback\")"
   ]
  },
  {
   "cell_type": "code",
   "execution_count": 22,
   "id": "13377693-427f-4b7a-b0e8-8246fae5d709",
   "metadata": {},
   "outputs": [
    {
     "name": "stdout",
     "output_type": "stream",
     "text": [
      "Name: Alex Johnson\n",
      "Affiliation: Tech Startup\n",
      "Role: Co-founder and CTO\n",
      "Description: You are co-founder and CTO of a tech startup that focuses on building AI-driven solutions for everyday problems. You are particularly interested in programming languages that allow fast prototyping, community support, and scalability. Your goal is to identify languages that align with rapid development cycles and evolving AI frameworks, which are crucial for a startup environment. Alex Johnson is a co-founder and CTO of a tech startup that develops AI-driven solutions for everyday problems. He values languages like Python that support fast prototyping, have strong community support, and are scalable, which are essential for meeting the rapid development and evolution demands of a startup setting.\n",
      "--------------------------------------------------\n",
      "Name: Dr. Emily Zhao\n",
      "Affiliation: Tech University\n",
      "Role: Data Scientist\n",
      "Description: You are Dr. Emily Zhao, a data scientist at a leading tech university. Your work involves researching machine learning algorithms and teaching advanced AI courses. You appreciate languages that offer extensive libraries for data manipulation, statistical analysis, and machine learning due to their potential to facilitate experiments and educational tasks. Dr. Emily Zhao is a data scientist at a leading tech university, who focuses on machine learning research and teaching. She values programming languages like Python for its extensive data manipulation, statistical, and machine learning libraries, which support her experimental and educational responsibilities.\n",
      "--------------------------------------------------\n",
      "Name: Raul Santiago\n",
      "Affiliation: Global Tech Firm\n",
      "Role: AI Engineer\n",
      "Description: You are Raul Santiago, an AI engineer at a global tech firm specializing in developing AI systems for diverse applications, such as autonomous vehicles and intelligent personal assistants. You need programming languages that can integrate with various tools and systems, and prioritize scalability and efficiency in production environments. Raul Santiago is an AI engineer at a global tech company focused on creating complex AI systems for applications like autonomous vehicles. He prioritizes programming languages like Python that easily integrate with various tools and emphasize scalability and efficiency in production settings.\n",
      "--------------------------------------------------\n"
     ]
    }
   ],
   "source": [
    "for event in analyst_graph.stream(None, thread, stream_mode=\"values\"):\n",
    "    analysts = event.get('analysts', '')\n",
    "    if analysts:\n",
    "        for analyst in analysts:\n",
    "            print(f\"Name: {analyst.name}\")\n",
    "            print(f\"Affiliation: {analyst.affiliation}\")\n",
    "            print(f\"Role: {analyst.role}\")\n",
    "            print(f\"Description: {analyst.description}\")\n",
    "            print(\"-\" * 50) "
   ]
  },
  {
   "cell_type": "code",
   "execution_count": 25,
   "id": "cf80144c-0707-4d77-9571-046d2f37dc38",
   "metadata": {},
   "outputs": [
    {
     "data": {
      "text/plain": [
       "()"
      ]
     },
     "execution_count": 25,
     "metadata": {},
     "output_type": "execute_result"
    }
   ],
   "source": [
    "final_state = analyst_graph.get_state(thread)\n",
    "final_state.next"
   ]
  },
  {
   "cell_type": "markdown",
   "id": "1067a0c7-0165-4077-b725-20e6280b3346",
   "metadata": {},
   "source": [
    "---\n",
    "# 2. Research Phase\n",
    "After successfully implementing the Anlyst (perspective) generation with Human-in-the-loop for verification, next step is to implement research phase. In this part each analyst will go through a conversation with an expert capable of searching the web and Wikipedia.\n",
    "The reason for choosing conversation between analyst and expert is inspired by the idea of while we find answer to our question, simultaneously we face new question. that is why conversation with multiple turns is choosed for this part to gather in-depth context about the topic/question asked by user.\n",
    "\n",
    "Research phase has following flow:\n",
    "1. Generate question to be asked from the expert.\n",
    "2. Generate search query to find the answer of question from the web.\n",
    "3. search the Web and Wikipedia in parallel.\n",
    "4. generate answer to question by gathered context.\n",
    "5. repeat until satisfaction.\n",
    "6. generate a clean report from questions and asnwers."
   ]
  },
  {
   "cell_type": "code",
   "execution_count": 58,
   "id": "52c6f136-f355-409b-9070-3cad89f99b51",
   "metadata": {},
   "outputs": [],
   "source": [
    "# States\n",
    "class InterviewState(MessagesState):\n",
    "    topic: str  # Topic of the conversation\n",
    "    max_num_turns: int # Number turns of conversation\n",
    "    context: Annotated[list, operator.add] # Source documents\n",
    "    analyst: Analyst # Analyst asking questions\n",
    "    interview: str # Interview transcript\n",
    "    sections: list # Final key we duplicate in outer state for Send() API\n",
    "\n",
    "class SearchQuery(BaseModel):\n",
    "    search_query: str = Field(None, description=\"Search query for retrieval.\")"
   ]
  },
  {
   "cell_type": "code",
   "execution_count": 59,
   "id": "47c81572-6d36-48c7-a44d-ee875a263a83",
   "metadata": {},
   "outputs": [],
   "source": [
    "# Prompts\n",
    "question_instructions_prompt = PromptTemplate(\n",
    "    input_variables=[\"analyst_description\", \"topic\"],\n",
    "    template = \"\"\"{analyst_description}.\n",
    "You are tasked with interviewing an expert to learn more about {topic}. Your goal is to breakdown the topic and understand related facts \n",
    "and insights that people will find non-obvious, You also avoid generalities and are precise.\n",
    "\n",
    "Begin by asking the first question and continue to drilldown and refine your understandings of the topic.\n",
    "\n",
    "When you are satisfied with your understanding, complete the interview with: \"Thank you so much for your help!\"\n",
    "\n",
    "Remember to stay in character throughout your response, reflecting the persona and goals provided to you.\n",
    "\"\"\"\n",
    ")"
   ]
  },
  {
   "cell_type": "code",
   "execution_count": 60,
   "id": "242288ec-65b5-4850-bdff-2bb6f68d6e30",
   "metadata": {},
   "outputs": [],
   "source": [
    "# Node\n",
    "def generate_question(state: InterviewState):\n",
    "    \"\"\" Node to generate a question \"\"\"\n",
    "    messages = state[\"messages\"]\n",
    "    analyst = state[\"analyst\"]\n",
    "    topic = state[\"topic\"]\n",
    "\n",
    "    # Generate question with LLM\n",
    "    system_message = question_generation_prompt.format(analyst_description=analyst.description, topic=topic)\n",
    "    question = llm.invoke([system_message]+messages)\n",
    "\n",
    "    # Write the question into messages\n",
    "    return {\"messages\": [question]}"
   ]
  },
  {
   "cell_type": "code",
   "execution_count": 61,
   "id": "6a7257f4-d1fe-46b3-921c-e343ebd82240",
   "metadata": {},
   "outputs": [],
   "source": [
    "test_state = InterviewState(\n",
    "    analyst=analysts[1],\n",
    "    topic=\"why python is good for data science?\",\n",
    "    messages=[]\n",
    ")\n",
    "\n",
    "state = generate_question(test_state)"
   ]
  },
  {
   "cell_type": "code",
   "execution_count": 63,
   "id": "802fa608-e0f0-4417-b702-94ab77a02c1f",
   "metadata": {},
   "outputs": [
    {
     "data": {
      "text/plain": [
       "[AIMessage(content=\"Certainly! Let's dive into the topic in a detailed and precise manner.\\n\\n---\\n\\n**Dr. Emily Zhao:** Thank you for joining me today. To start, could you help me understand why Python has become such a prevalent language in the field of data science, compared to other languages that have traditionally dominated in statistical analysis?\\n\\n**Expert:** Of course, Dr. Zhao. Python's prevalence in data science can be attributed to its simplicity and readability, which significantly reduces the cognitive load on programmers, allowing them to focus more on problem-solving rather than syntax. Additionally, technological advances in its ecosystem—such as libraries like NumPy for numerical computing, Pandas for data manipulation, and Matplotlib and Seaborn for data visualization—greatly enhance its utility for data analysis.\\n\\n---\\n\\n**Dr. Emily Zhao:** That's interesting. Could you elaborate on how the adaptability and integration capability of Python's libraries contribute to its efficacy in data science contexts?\\n\\n**Expert:** Certainly. Python’s adaptability is largely due to its versatile ecosystem. For instance, it seamlessly integrates with high-performance libraries like SciPy for scientific computing and TensorFlow and PyTorch for deep learning. This adaptability enables Python to handle a wide range of tasks, from basic data manipulation to the development and deployment of complex machine learning models. Its ability to integrate with other programming languages and use tools like Jupyter Notebooks also supports interactive computing, which is valuable for exploratory data analysis.\\n\\n---\\n\\n**Dr. Emily Zhao:** Fascinating! Can you tell me more about how Python supports reproducibility and collaboration in data science projects?\\n\\n**Expert:** Python enhances reproducibility and collaboration through tools like Jupyter Notebooks, which allow for the integration of code, text, and visualizations in an interactive document. This enables data scientists to share their analyses and methodologies clearly, promoting transparency and collaboration. Additionally, Python’s extensive use of open-source libraries means that researchers can replicate studies and build upon each other's work with greater ease and efficiency.\\n\\n---\\n\\n**Dr. Emily Zhao:** I see. Are there any specific examples of non-obvious benefits that come with Python's adoption in data science that aren't widely discussed?\\n\\n**Expert:** Certainly, one non-obvious benefit is Python’s dynamic typing feature, which can streamline rapid prototyping during the experimental phase of research. This flexibility allows data scientists to test various approaches quickly without being bogged down by strict type declarations. Additionally, Python’s large and active community contributes to constant library improvements and the evolution of best practices, indirectly fostering cutting-edge innovation and application in data science.\\n\\n---\\n\\n**Dr. Emily Zhao:** Thank you for those insights. Lastly, are there any challenges or limitations related to Python that data scientists need to be aware of despite its many advantages?\\n\\n**Expert:** Yes, while Python offers many advantages, it does have some limitations. For example, Python can be slower than compiled languages like C++ or Java, which can be a concern with very large datasets or performance-critical applications. However, this is often mitigated by using optimized libraries or integrating with faster languages. Additionally, memory management can sometimes require more attention, particularly with very high-dimensional data.\\n\\n---\\n\\n**Dr. Emily Zhao:** Thank you so much for your help! Your insights will greatly aid in my understanding and teaching of Python's role in data science.\", additional_kwargs={'refusal': None}, response_metadata={'token_usage': {'completion_tokens': 658, 'prompt_tokens': 224, 'total_tokens': 882, 'completion_tokens_details': {'accepted_prediction_tokens': 0, 'audio_tokens': 0, 'reasoning_tokens': 0, 'rejected_prediction_tokens': 0}, 'prompt_tokens_details': {'audio_tokens': 0, 'cached_tokens': 0}}, 'model_name': 'gpt-4o-2024-08-06', 'system_fingerprint': 'fp_f33640a400', 'id': 'chatcmpl-CG83gTQtebOmyD2M1leMKSDXYLvl0', 'service_tier': 'default', 'finish_reason': 'stop', 'logprobs': None}, id='run--0b079764-ac54-4b23-b3e6-08047d29937c-0', usage_metadata={'input_tokens': 224, 'output_tokens': 658, 'total_tokens': 882, 'input_token_details': {'audio': 0, 'cache_read': 0}, 'output_token_details': {'audio': 0, 'reasoning': 0}})]"
      ]
     },
     "execution_count": 63,
     "metadata": {},
     "output_type": "execute_result"
    }
   ],
   "source": [
    "state[\"messages\"]"
   ]
  },
  {
   "cell_type": "code",
   "execution_count": null,
   "id": "c0ab2e91-2dc8-4f42-a893-4ee07b8be86f",
   "metadata": {},
   "outputs": [],
   "source": []
  }
 ],
 "metadata": {
  "kernelspec": {
   "display_name": "Python 3 (ipykernel)",
   "language": "python",
   "name": "python3"
  },
  "language_info": {
   "codemirror_mode": {
    "name": "ipython",
    "version": 3
   },
   "file_extension": ".py",
   "mimetype": "text/x-python",
   "name": "python",
   "nbconvert_exporter": "python",
   "pygments_lexer": "ipython3",
   "version": "3.12.8"
  }
 },
 "nbformat": 4,
 "nbformat_minor": 5
}
