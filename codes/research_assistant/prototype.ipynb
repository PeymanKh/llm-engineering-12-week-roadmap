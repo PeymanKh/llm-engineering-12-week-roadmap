{
 "cells": [
  {
   "cell_type": "markdown",
   "id": "a6edcf88-46db-4055-9508-77eb0978686c",
   "metadata": {},
   "source": [
    "# Research Assistant Agent\n",
    "\n",
    "The goal of this notebook is to build a lightweight, multi-agent system around LLM that customizes the research process. It has the following features:\n",
    "\n",
    "1. **Source Selection:** Users can choose any set of input sources for their research.\n",
    "2. **Planning:** Users provide a topic, and the system generates a team of AI analyst, each focusing on one sub-topic. `Human-in-the-loop` is used to refine the sub-topics before research begins.\n",
    "3. **LLM Utilization:** Each analyst will conduct in-depth interviews with an expert AI using the selected sources. The interview will be a multi-turn conversation to extract detailed insights as shown in the [STORM](https://arxiv.org/pdf/2402.14207) paper using `Sub-Graph`\n",
    "4. **Research Process:** Expers will gather information to answer analyst questions in `parallel` using `Map-Reduce` technique for efficiency.\n",
    "5. **Output Format:** The gathered insights from each interview will be synthesized into a flexible output format using customizable prompts."
   ]
  },
  {
   "cell_type": "code",
   "execution_count": 1,
   "id": "95e876fd-285c-46f0-a994-687794449a71",
   "metadata": {},
   "outputs": [],
   "source": [
    "# Import libraries\n",
    "import sys, os\n",
    "import operator\n",
    "from pprint import pprint\n",
    "from typing import Any, List, Annotated\n",
    "from pydantic import BaseModel, Field\n",
    "from typing_extensions import TypedDict\n",
    "from IPython.display import Image, display\n",
    "\n",
    "from langchain_core.tools import tool\n",
    "from langchain_tavily import TavilySearch\n",
    "from langchain_core.prompts import PromptTemplate\n",
    "from langchain_core.runnables import RunnableConfig\n",
    "from langchain_core.messages import get_buffer_string\n",
    "from langchain_google_genai import ChatGoogleGenerativeAI\n",
    "from langchain_community.document_loaders import WikipediaLoader\n",
    "from langchain_core.messages import HumanMessage, AIMessage, SystemMessage, RemoveMessage\n",
    "\n",
    "from langgraph.graph import MessagesState\n",
    "from langgraph.graph import StateGraph, START, END\n",
    "from langgraph.checkpoint.memory import MemorySaver\n",
    "from langgraph.prebuilt import ToolNode, tools_condition"
   ]
  },
  {
   "cell_type": "code",
   "execution_count": 2,
   "id": "f91ff707-7bf5-499a-a0a0-0ecfd54eb168",
   "metadata": {},
   "outputs": [
    {
     "name": "stderr",
     "output_type": "stream",
     "text": [
      "2025-09-13 13:58:51,140 - root - INFO - Configuration loaded for environment: development\n"
     ]
    }
   ],
   "source": [
    "# Import settings and sensitive variables from config\n",
    "sys.path.append(os.path.abspath(os.path.join(os.getcwd(), \"../..\")))\n",
    "from codes.config.config import config\n",
    "\n",
    "# Set langsmith project\n",
    "os.environ[\"LANGSMITH_API_KEY\"] = config.langsmith_api_key\n",
    "os.environ[\"LANGCHAIN_TRACING_V2\"] = \"true\"\n",
    "os.environ[\"LANGCHAIN_PROJECT\"] = \"storm-research-assistant\""
   ]
  },
  {
   "cell_type": "code",
   "execution_count": 3,
   "id": "50d8c224-1dd9-43f4-b408-733e294ef7e8",
   "metadata": {},
   "outputs": [],
   "source": [
    "# Create llm\n",
    "llm = ChatGoogleGenerativeAI(\n",
    "    model=config.model.model_name, \n",
    "    api_key=config.model.api_key\n",
    ")"
   ]
  },
  {
   "cell_type": "markdown",
   "id": "5c869ca8-8987-4a67-8a7d-645fc7e79f57",
   "metadata": {},
   "source": [
    "# Analyst\n",
    "Create analyst and review them using human-in-the-loop."
   ]
  },
  {
   "cell_type": "code",
   "execution_count": 4,
   "id": "577df255-26ec-479d-b11d-cc34e0db5fa7",
   "metadata": {},
   "outputs": [],
   "source": [
    "# States and Schemas\n",
    "class Analyst(BaseModel):\n",
    "    affiliation: str = Field(\n",
    "        description=\"Primary affiliation of the analyst.\"\n",
    "    )\n",
    "    name: str = Field(\n",
    "        description=\"Name of the analyst.\"\n",
    "    )\n",
    "    role: str = Field(\n",
    "        description=\"Role of the analyst in the context of the topic.\"\n",
    "    )\n",
    "    description: str = Field(\n",
    "        description=\"Description of the analyst focus, concerns, and motivations.\"\n",
    "    )\n",
    "    @property\n",
    "    def persona(self) -> str:\n",
    "        return f\"Name: {self.name}\\nRole: {self.role}\\nAffiliation: {self.affiliation}\\nDescription: {self.description}\\n\"\n",
    "\n",
    "class CreateAnalystOutput(BaseModel):\n",
    "    analysts: List[Analyst] = Field(\n",
    "        description=\"Comprehensive list of analysts with their roles and affiliations.\"\n",
    "    )\n",
    "\n",
    "class GenerateAnalystsState(TypedDict):\n",
    "    topic: str  # Research topic\n",
    "    max_analysts: int  # Number of analysts\n",
    "    human_analyst_feedback: str  # Human feedback\n",
    "    analysts: List[Analyst]  # Analyst asking questions"
   ]
  },
  {
   "cell_type": "code",
   "execution_count": 5,
   "id": "5c2f5f37-63d1-4573-906f-a81e0410da8d",
   "metadata": {},
   "outputs": [],
   "source": [
    "# Prompt\n",
    "analyst_instructions_prompt = PromptTemplate(\n",
    "    input_variables=[\"topic\", \"human_analyst_feedback\", \"max_analysts\"],\n",
    "    template=\"\"\"You are tasked with creating a set of analyst personas. Follow these instructions carefully:\n",
    "\n",
    "1. First, review the research topic:\n",
    "{topic}\n",
    "        \n",
    "2. Examine any editorial feedback that has been optionally provided to guide creation of the analysts:   \n",
    "{human_analyst_feedback}\n",
    "    \n",
    "3. Determine the most interesting anlyst with different perspectives analyzing the topic based upon documents and / or feedback above.\n",
    "                    \n",
    "4. Pick the top {max_analysts} themes.\n",
    "\n",
    "5. Assign one analyst to each theme.\"\"\"\n",
    ")"
   ]
  },
  {
   "cell_type": "code",
   "execution_count": 6,
   "id": "5474146c-b1bf-44f1-bf53-7cff1fb0ac99",
   "metadata": {},
   "outputs": [],
   "source": [
    "# Node\n",
    "def create_analysts(state: GenerateAnalystsState):\n",
    "    \"\"\"Create analysts\"\"\"\n",
    "    topic = state[\"topic\"]\n",
    "    max_analysts=state['max_analysts']\n",
    "    human_analyst_feedback=state.get('human_analyst_feedback', '')\n",
    "\n",
    "    structured_llm = llm.with_structured_output(CreateAnalystOutput)\n",
    "\n",
    "    # System message\n",
    "    system_message = analyst_instructions_prompt.format(\n",
    "        topic=topic, \n",
    "        human_analyst_feedback=human_analyst_feedback, \n",
    "        max_analysts=max_analysts\n",
    "    )\n",
    "\n",
    "    # Generate question \n",
    "    analysts = structured_llm.invoke([SystemMessage(content=system_message)]+[HumanMessage(content=\"Generate the set of analysts.\")])\n",
    "\n",
    "    # Write the list of analysis to state\n",
    "    return {\"analysts\": analysts.analysts}\n",
    "\n",
    "\n",
    "def human_feedback(state: GenerateAnalystsState):\n",
    "    \"\"\" No-op node that should be interrupted on \"\"\"\n",
    "    pass\n",
    "\n",
    "\n",
    "def should_continue(state: GenerateAnalystsState):\n",
    "    \"\"\" Return the next node to execute \"\"\"\n",
    "\n",
    "    # Check if human feedback\n",
    "    human_analyst_feedback=state.get('human_analyst_feedback', None)\n",
    "    if human_analyst_feedback:\n",
    "        return \"create_analysts\"\n",
    "    \n",
    "    # Otherwise end\n",
    "    return END"
   ]
  },
  {
   "cell_type": "code",
   "execution_count": 7,
   "id": "d27bf96d-72c9-4864-a753-3ed897e69089",
   "metadata": {},
   "outputs": [
    {
     "name": "stderr",
     "output_type": "stream",
     "text": [
      "2025-09-13 13:58:55,033 - urllib3.connectionpool - DEBUG - Starting new HTTPS connection (1): mermaid.ink:443\n",
      "2025-09-13 13:58:55,271 - urllib3.connectionpool - DEBUG - https://mermaid.ink:443 \"GET /img/LS0tCmNvbmZpZzoKICBmbG93Y2hhcnQ6CiAgICBjdXJ2ZTogbGluZWFyCi0tLQpncmFwaCBURDsKCV9fc3RhcnRfXyhbPHA+X19zdGFydF9fPC9wPl0pOjo6Zmlyc3QKCWNyZWF0ZV9hbmFseXN0cyhjcmVhdGVfYW5hbHlzdHMpCglodW1hbl9mZWVkYmFjayhodW1hbl9mZWVkYmFjazxoci8+PHNtYWxsPjxlbT5fX2ludGVycnVwdCA9IGJlZm9yZTwvZW0+PC9zbWFsbD4pCglfX2VuZF9fKFs8cD5fX2VuZF9fPC9wPl0pOjo6bGFzdAoJX19zdGFydF9fIC0tPiBjcmVhdGVfYW5hbHlzdHM7CgljcmVhdGVfYW5hbHlzdHMgLS0+IGh1bWFuX2ZlZWRiYWNrOwoJaHVtYW5fZmVlZGJhY2sgLS4tPiBfX2VuZF9fOwoJaHVtYW5fZmVlZGJhY2sgLS4tPiBjcmVhdGVfYW5hbHlzdHM7CgljbGFzc0RlZiBkZWZhdWx0IGZpbGw6I2YyZjBmZixsaW5lLWhlaWdodDoxLjIKCWNsYXNzRGVmIGZpcnN0IGZpbGwtb3BhY2l0eTowCgljbGFzc0RlZiBsYXN0IGZpbGw6I2JmYjZmYwo=?type=png&bgColor=!white HTTP/1.1\" 200 12967\n"
     ]
    },
    {
     "data": {
      "image/png": "[encoded data removed]",
      "text/plain": [
       "<IPython.core.display.Image object>"
      ]
     },
     "metadata": {},
     "output_type": "display_data"
    }
   ],
   "source": [
    "# Graph\n",
    "builder = StateGraph(GenerateAnalystsState)\n",
    "builder.add_node(\"create_analysts\", create_analysts)\n",
    "builder.add_node(\"human_feedback\", human_feedback)\n",
    "\n",
    "builder.add_edge(START, \"create_analysts\")\n",
    "builder.add_edge(\"create_analysts\", \"human_feedback\")\n",
    "builder.add_conditional_edges(\"human_feedback\", should_continue, [\"create_analysts\", END])\n",
    "\n",
    "# Compile\n",
    "memory = MemorySaver()\n",
    "graph = builder.compile(interrupt_before=['human_feedback'], checkpointer=memory)\n",
    "\n",
    "# View\n",
    "display(Image(graph.get_graph(xray=1).draw_mermaid_png()))"
   ]
  },
  {
   "cell_type": "code",
   "execution_count": 8,
   "id": "79bc2bc3-b5e4-4484-bed1-ab678d80207c",
   "metadata": {},
   "outputs": [
    {
     "name": "stderr",
     "output_type": "stream",
     "text": [
      "2025-09-13 13:58:56,422 - urllib3.connectionpool - DEBUG - Starting new HTTPS connection (1): api.smith.langchain.com:443\n",
      "2025-09-13 13:58:56,772 - urllib3.connectionpool - DEBUG - https://api.smith.langchain.com:443 \"GET /info HTTP/1.1\" 200 773\n",
      "2025-09-13 13:58:56,775 - langsmith.client - DEBUG - Tracing control thread func compress parallel called\n",
      "2025-09-13 13:58:56,828 - langsmith.client - DEBUG - Sending multipart request to https://api.smith.langchain.com with context: trace=e16760af-2ee1-43b7-a121-c6116b24a4bc,id=e16760af-2ee1-43b7-a121-c6116b24a4bc; trace=e16760af-2ee1-43b7-a121-c6116b24a4bc,id=a1a7aed9-f4c0-4c73-9219-b0905516af8f; trace=e16760af-2ee1-43b7-a121-c6116b24a4bc,id=b9e3c4b2-863d-4190-ba73-467ad5fda3c9; trace=e16760af-2ee1-43b7-a121-c6116b24a4bc,id=20124175-4340-4717-b973-dd4729a7bac4\n",
      "2025-09-13 13:58:57,038 - urllib3.connectionpool - DEBUG - https://api.smith.langchain.com:443 \"POST /runs/multipart HTTP/1.1\" 202 34\n"
     ]
    },
    {
     "name": "stdout",
     "output_type": "stream",
     "text": [
      "Name: Dr. Anya Sharma\n",
      "Affiliation: Google AI Research\n",
      "Role: AI Research Scientist\n",
      "Description: Focuses on the breadth and depth of Python's AI/ML libraries and frameworks (e.g., TensorFlow, PyTorch, Scikit-learn, NumPy, Pandas), evaluating their capabilities, performance, and how they empower complex AI model development and scientific computing.\n",
      "--------------------------------------------------\n",
      "Name: Mark Chen\n",
      "Affiliation: DeepMind\n",
      "Role: Machine Learning Engineer\n",
      "Description: Examines Python's simplicity, readability, and high-level syntax that facilitate rapid prototyping, iterative development, and ease of deployment for machine learning models, emphasizing developer productivity and faster experimentation cycles.\n",
      "--------------------------------------------------\n",
      "Name: Sarah Miller\n",
      "Affiliation: OpenAI\n",
      "Role: AI Project Manager\n",
      "Description: Analyzes the strength of Python's community, extensive documentation, and the robust ecosystem of tools and resources. Her focus is on how this support system contributes to learning, problem-solving, and the long-term maintainability and scalability of AI projects.\n",
      "--------------------------------------------------\n"
     ]
    },
    {
     "name": "stderr",
     "output_type": "stream",
     "text": [
      "2025-09-13 13:59:01,730 - langsmith.client - DEBUG - Sending compressed multipart request with context: trace=e16760af-2ee1-43b7-a121-c6116b24a4bc,id=20124175-4340-4717-b973-dd4729a7bac4; trace=e16760af-2ee1-43b7-a121-c6116b24a4bc,id=98ba0987-1691-42ac-b5e2-ab4b6ee3ea19; trace=e16760af-2ee1-43b7-a121-c6116b24a4bc,id=98ba0987-1691-42ac-b5e2-ab4b6ee3ea19; trace=e16760af-2ee1-43b7-a121-c6116b24a4bc,id=b9e3c4b2-863d-4190-ba73-467ad5fda3c9; trace=e16760af-2ee1-43b7-a121-c6116b24a4bc,id=a1a7aed9-f4c0-4c73-9219-b0905516af8f; trace=e16760af-2ee1-43b7-a121-c6116b24a4bc,id=e16760af-2ee1-43b7-a121-c6116b24a4bc\n",
      "2025-09-13 13:59:01,933 - urllib3.connectionpool - DEBUG - https://api.smith.langchain.com:443 \"POST /runs/multipart HTTP/1.1\" 202 34\n",
      "2025-09-13 14:00:16,077 - langsmith.client - DEBUG - Sending compressed multipart request with context: trace=d0f433a1-6af8-4842-ae3a-599a967d12b9,id=d0f433a1-6af8-4842-ae3a-599a967d12b9; trace=d0f433a1-6af8-4842-ae3a-599a967d12b9,id=f8880114-ba5b-4302-8608-0721f44d4089; trace=d0f433a1-6af8-4842-ae3a-599a967d12b9,id=75a22a10-e0c0-400f-b7aa-f6a394bda112\n",
      "2025-09-13 14:00:16,274 - urllib3.connectionpool - DEBUG - https://api.smith.langchain.com:443 \"POST /runs/multipart HTTP/1.1\" 202 34\n",
      "2025-09-13 14:00:20,224 - langsmith.client - DEBUG - Sending compressed multipart request with context: trace=d0f433a1-6af8-4842-ae3a-599a967d12b9,id=75a22a10-e0c0-400f-b7aa-f6a394bda112; trace=d0f433a1-6af8-4842-ae3a-599a967d12b9,id=f8880114-ba5b-4302-8608-0721f44d4089; trace=d0f433a1-6af8-4842-ae3a-599a967d12b9,id=e1c573a8-7a4b-4c74-8ee3-464e64b339e7; trace=d0f433a1-6af8-4842-ae3a-599a967d12b9,id=440601ac-3bfb-4663-a766-89645d42432c; trace=d0f433a1-6af8-4842-ae3a-599a967d12b9,id=2f5e9560-d253-4988-9355-b54e8a711b0a; trace=d0f433a1-6af8-4842-ae3a-599a967d12b9,id=496495cb-8862-43a4-8fe7-0a2bccdf2650; trace=d0f433a1-6af8-4842-ae3a-599a967d12b9,id=3e3a65ec-9f54-4c2e-a488-4909ff0937a1; trace=d0f433a1-6af8-4842-ae3a-599a967d12b9,id=2c761660-8f03-41f9-be0b-d581c3b2cb57\n",
      "2025-09-13 14:00:20,446 - urllib3.connectionpool - DEBUG - https://api.smith.langchain.com:443 \"POST /runs/multipart HTTP/1.1\" 202 34\n",
      "2025-09-13 14:00:20,984 - langsmith.client - DEBUG - Sending compressed multipart request with context: trace=d0f433a1-6af8-4842-ae3a-599a967d12b9,id=496495cb-8862-43a4-8fe7-0a2bccdf2650; trace=d0f433a1-6af8-4842-ae3a-599a967d12b9,id=72b6f011-2709-43d6-9fd4-5df020009357; trace=d0f433a1-6af8-4842-ae3a-599a967d12b9,id=72b6f011-2709-43d6-9fd4-5df020009357; trace=d0f433a1-6af8-4842-ae3a-599a967d12b9,id=440601ac-3bfb-4663-a766-89645d42432c; trace=d0f433a1-6af8-4842-ae3a-599a967d12b9,id=d8330274-0712-4d63-a44d-43bbdd48bb6b; trace=d0f433a1-6af8-4842-ae3a-599a967d12b9,id=2c761660-8f03-41f9-be0b-d581c3b2cb57; trace=d0f433a1-6af8-4842-ae3a-599a967d12b9,id=6cfe1096-7425-40e3-ad43-f291c8b67355; trace=d0f433a1-6af8-4842-ae3a-599a967d12b9,id=6cfe1096-7425-40e3-ad43-f291c8b67355; trace=d0f433a1-6af8-4842-ae3a-599a967d12b9,id=3e3a65ec-9f54-4c2e-a488-4909ff0937a1\n",
      "2025-09-13 14:00:21,194 - urllib3.connectionpool - DEBUG - https://api.smith.langchain.com:443 \"POST /runs/multipart HTTP/1.1\" 202 34\n",
      "2025-09-13 14:00:21,728 - langsmith.client - DEBUG - Sending compressed multipart request with context: trace=d0f433a1-6af8-4842-ae3a-599a967d12b9,id=2f5e9560-d253-4988-9355-b54e8a711b0a\n",
      "2025-09-13 14:00:21,912 - urllib3.connectionpool - DEBUG - https://api.smith.langchain.com:443 \"POST /runs/multipart HTTP/1.1\" 202 34\n",
      "2025-09-13 14:00:23,217 - langsmith.client - DEBUG - Sending compressed multipart request with context: trace=d0f433a1-6af8-4842-ae3a-599a967d12b9,id=d8330274-0712-4d63-a44d-43bbdd48bb6b; trace=d0f433a1-6af8-4842-ae3a-599a967d12b9,id=e1c573a8-7a4b-4c74-8ee3-464e64b339e7; trace=d0f433a1-6af8-4842-ae3a-599a967d12b9,id=17aea01b-b15c-4ac8-892a-9be871fe2ed2; trace=d0f433a1-6af8-4842-ae3a-599a967d12b9,id=204d60fa-a075-4c47-8c56-0749c70ac48d; trace=d0f433a1-6af8-4842-ae3a-599a967d12b9,id=204d60fa-a075-4c47-8c56-0749c70ac48d; trace=d0f433a1-6af8-4842-ae3a-599a967d12b9,id=0b850760-89fa-4464-805a-2ac7203a8f00; trace=d0f433a1-6af8-4842-ae3a-599a967d12b9,id=0b850760-89fa-4464-805a-2ac7203a8f00; trace=d0f433a1-6af8-4842-ae3a-599a967d12b9,id=17aea01b-b15c-4ac8-892a-9be871fe2ed2; trace=d0f433a1-6af8-4842-ae3a-599a967d12b9,id=f8952f79-cb23-41d1-bdee-3d230e2ce2bb; trace=d0f433a1-6af8-4842-ae3a-599a967d12b9,id=605b6e3a-f8e0-45e8-964d-99d58a2ad29e\n",
      "2025-09-13 14:00:23,431 - urllib3.connectionpool - DEBUG - https://api.smith.langchain.com:443 \"POST /runs/multipart HTTP/1.1\" 202 34\n",
      "2025-09-13 14:00:29,379 - langsmith.client - DEBUG - Sending compressed multipart request with context: trace=d0f433a1-6af8-4842-ae3a-599a967d12b9,id=605b6e3a-f8e0-45e8-964d-99d58a2ad29e; trace=d0f433a1-6af8-4842-ae3a-599a967d12b9,id=f8952f79-cb23-41d1-bdee-3d230e2ce2bb; trace=d0f433a1-6af8-4842-ae3a-599a967d12b9,id=ea70032d-29cf-42bb-96b9-7a5e6e139816; trace=d0f433a1-6af8-4842-ae3a-599a967d12b9,id=58e57b4a-d3ad-4ff3-9f30-4cbfb11241b1; trace=d0f433a1-6af8-4842-ae3a-599a967d12b9,id=962bc740-9d9d-45b1-b1a5-6b61a0a80e89; trace=d0f433a1-6af8-4842-ae3a-599a967d12b9,id=9592bd66-c7cc-4036-9f63-55f1f6161dde; trace=d0f433a1-6af8-4842-ae3a-599a967d12b9,id=03920cb6-30a5-4b58-b47a-2ca7c29ab948; trace=d0f433a1-6af8-4842-ae3a-599a967d12b9,id=2022d935-fbfe-4afd-a897-f4138ee6c85d\n",
      "2025-09-13 14:00:29,590 - urllib3.connectionpool - DEBUG - https://api.smith.langchain.com:443 \"POST /runs/multipart HTTP/1.1\" 202 34\n",
      "2025-09-13 14:00:30,735 - langsmith.client - DEBUG - Sending compressed multipart request with context: trace=d0f433a1-6af8-4842-ae3a-599a967d12b9,id=962bc740-9d9d-45b1-b1a5-6b61a0a80e89; trace=d0f433a1-6af8-4842-ae3a-599a967d12b9,id=74749e77-0740-4bfa-b661-9134f1ffbfd5; trace=d0f433a1-6af8-4842-ae3a-599a967d12b9,id=74749e77-0740-4bfa-b661-9134f1ffbfd5; trace=d0f433a1-6af8-4842-ae3a-599a967d12b9,id=58e57b4a-d3ad-4ff3-9f30-4cbfb11241b1; trace=d0f433a1-6af8-4842-ae3a-599a967d12b9,id=fff7716c-1e3f-4b5a-8918-0730762b3654; trace=d0f433a1-6af8-4842-ae3a-599a967d12b9,id=2022d935-fbfe-4afd-a897-f4138ee6c85d; trace=d0f433a1-6af8-4842-ae3a-599a967d12b9,id=85fc1831-c608-412a-a597-21122e106042; trace=d0f433a1-6af8-4842-ae3a-599a967d12b9,id=85fc1831-c608-412a-a597-21122e106042; trace=d0f433a1-6af8-4842-ae3a-599a967d12b9,id=03920cb6-30a5-4b58-b47a-2ca7c29ab948\n",
      "2025-09-13 14:00:30,941 - urllib3.connectionpool - DEBUG - https://api.smith.langchain.com:443 \"POST /runs/multipart HTTP/1.1\" 202 34\n",
      "2025-09-13 14:00:31,473 - langsmith.client - DEBUG - Sending compressed multipart request with context: trace=d0f433a1-6af8-4842-ae3a-599a967d12b9,id=9592bd66-c7cc-4036-9f63-55f1f6161dde\n",
      "2025-09-13 14:00:31,654 - urllib3.connectionpool - DEBUG - https://api.smith.langchain.com:443 \"POST /runs/multipart HTTP/1.1\" 202 34\n",
      "2025-09-13 14:00:32,545 - langsmith.client - DEBUG - Sending compressed multipart request with context: trace=d0f433a1-6af8-4842-ae3a-599a967d12b9,id=fff7716c-1e3f-4b5a-8918-0730762b3654; trace=d0f433a1-6af8-4842-ae3a-599a967d12b9,id=ea70032d-29cf-42bb-96b9-7a5e6e139816; trace=d0f433a1-6af8-4842-ae3a-599a967d12b9,id=717e57c2-9c31-4a3f-bdfd-c3aca1b0ceed; trace=d0f433a1-6af8-4842-ae3a-599a967d12b9,id=8bef7f66-dbd7-4409-8989-6b8f6d691c0f\n",
      "2025-09-13 14:00:32,749 - urllib3.connectionpool - DEBUG - https://api.smith.langchain.com:443 \"POST /runs/multipart HTTP/1.1\" 202 34\n",
      "2025-09-13 14:00:34,800 - langsmith.client - DEBUG - Sending compressed multipart request with context: trace=d0f433a1-6af8-4842-ae3a-599a967d12b9,id=8bef7f66-dbd7-4409-8989-6b8f6d691c0f; trace=d0f433a1-6af8-4842-ae3a-599a967d12b9,id=e3e61cc8-ffe7-42b9-a19d-48e79135e253; trace=d0f433a1-6af8-4842-ae3a-599a967d12b9,id=e3e61cc8-ffe7-42b9-a19d-48e79135e253; trace=d0f433a1-6af8-4842-ae3a-599a967d12b9,id=717e57c2-9c31-4a3f-bdfd-c3aca1b0ceed; trace=d0f433a1-6af8-4842-ae3a-599a967d12b9,id=4eefb57a-65bb-4b6a-a997-062dcdf66926; trace=d0f433a1-6af8-4842-ae3a-599a967d12b9,id=4eefb57a-65bb-4b6a-a997-062dcdf66926; trace=d0f433a1-6af8-4842-ae3a-599a967d12b9,id=dd9c297f-267b-48b0-85f8-88d303e72350; trace=d0f433a1-6af8-4842-ae3a-599a967d12b9,id=f156f5c8-4a92-4ffd-94be-78fe6e304258\n",
      "2025-09-13 14:00:35,001 - urllib3.connectionpool - DEBUG - https://api.smith.langchain.com:443 \"POST /runs/multipart HTTP/1.1\" 202 34\n",
      "2025-09-13 14:00:45,561 - langsmith.client - DEBUG - Sending compressed multipart request with context: trace=d0f433a1-6af8-4842-ae3a-599a967d12b9,id=f156f5c8-4a92-4ffd-94be-78fe6e304258; trace=d0f433a1-6af8-4842-ae3a-599a967d12b9,id=dd9c297f-267b-48b0-85f8-88d303e72350; trace=d0f433a1-6af8-4842-ae3a-599a967d12b9,id=d0f433a1-6af8-4842-ae3a-599a967d12b9\n",
      "2025-09-13 14:00:45,763 - urllib3.connectionpool - DEBUG - https://api.smith.langchain.com:443 \"POST /runs/multipart HTTP/1.1\" 202 34\n"
     ]
    }
   ],
   "source": [
    "# Input\n",
    "max_analysts = 3 \n",
    "topic = \"Why python is the best language for AI development?\"\n",
    "thread = {\"configurable\": {\"thread_id\": \"1\"}}\n",
    "\n",
    "# Run the graph until the first interruption\n",
    "for event in graph.stream({\"topic\":topic,\"max_analysts\":max_analysts,}, thread, stream_mode=\"values\"):\n",
    "    # Review\n",
    "    analysts = event.get('analysts', '')\n",
    "    if analysts:\n",
    "        for analyst in analysts:\n",
    "            print(f\"Name: {analyst.name}\")\n",
    "            print(f\"Affiliation: {analyst.affiliation}\")\n",
    "            print(f\"Role: {analyst.role}\")\n",
    "            print(f\"Description: {analyst.description}\")\n",
    "            print(\"-\" * 50)  "
   ]
  },
  {
   "cell_type": "code",
   "execution_count": 9,
   "id": "1ca03f41-1167-46e4-97c2-3ff6a22d6e4c",
   "metadata": {},
   "outputs": [
    {
     "data": {
      "text/plain": [
       "('human_feedback',)"
      ]
     },
     "execution_count": 9,
     "metadata": {},
     "output_type": "execute_result"
    }
   ],
   "source": [
    "# Get state and look at next node\n",
    "state = graph.get_state(thread)\n",
    "state.next"
   ]
  },
  {
   "cell_type": "code",
   "execution_count": 15,
   "id": "4b45321e-4980-4512-8a3b-ca376adfe962",
   "metadata": {},
   "outputs": [
    {
     "data": {
      "text/plain": [
       "{'configurable': {'thread_id': '1',\n",
       "  'checkpoint_ns': '',\n",
       "  'checkpoint_id': '1f0908ec-cfe4-6da8-8002-588d41cb1b21'}}"
      ]
     },
     "execution_count": 15,
     "metadata": {},
     "output_type": "execute_result"
    }
   ],
   "source": [
    "# We now update the state as if we are the human_feedback node\n",
    "graph.update_state(thread,\n",
    "                   {\n",
    "                       \"human_analyst_feedback\": \"Add in someone from a startup to add an entrepreneur perspective\",\n",
    "                   },\n",
    "                   as_node=\"human_feedback\")"
   ]
  },
  {
   "cell_type": "code",
   "execution_count": 16,
   "id": "9ea52e74-12a4-41d4-8c8a-4cf68a254940",
   "metadata": {},
   "outputs": [
    {
     "name": "stdout",
     "output_type": "stream",
     "text": [
      "Name: Dr. Anya Sharma\n",
      "Affiliation: Global AI Research Institute\n",
      "Role: Lead AI Tools Architect\n",
      "Description: Dr. Sharma focuses on the breadth and depth of Python's AI ecosystem, evaluating how its rich set of libraries, frameworks, and tools contribute to efficient and innovative AI solution design. She is concerned with the maintainability, scalability, and long-term viability of AI infrastructure built upon Python's diverse toolkit.\n",
      "--------------------------------------------------\n",
      "Name: Mark Chen\n",
      "Affiliation: Tech Innovators Hub\n",
      "Role: Senior AI Developer Advocate\n",
      "Description: Mark champions Python's role in enhancing developer experience and productivity within AI. He emphasizes Python's simplicity, readability, and rapid prototyping capabilities as key drivers for accelerating AI development cycles and fostering collaboration among diverse teams. His primary concern is optimizing the human factor in AI development.\n",
      "--------------------------------------------------\n",
      "Name: Elena Petrova\n",
      "Affiliation: Quantum AI Solutions\n",
      "Role: Principal AI Performance Engineer\n",
      "Description: Elena investigates how Python, despite its interpreted nature, achieves high performance and scalability for demanding AI applications. She focuses on the effectiveness of optimized libraries, C/C++ extensions, and distributed computing frameworks in overcoming potential bottlenecks, ensuring Python can handle large datasets and complex models efficiently.\n",
      "--------------------------------------------------\n",
      "Name: Alex Chen\n",
      "Affiliation: InnovateAI Solutions (Startup)\n",
      "Role: Lead AI Engineer & Co-founder\n",
      "Description: Concerned with the rapid prototyping capabilities, developer velocity, and the efficiency of moving from concept to minimum viable product (MVP) in AI, leveraging Python's simplicity and extensive toolset for startups.\n",
      "--------------------------------------------------\n",
      "Name: Dr. Lena Sharma\n",
      "Affiliation: AI Research Lab, University of X\n",
      "Role: AI Research Scientist\n",
      "Description: Focuses on the availability and maturity of scientific computing libraries and AI frameworks in Python, and how the active academic community contributes to its dominance in AI research and development.\n",
      "--------------------------------------------------\n",
      "Name: Maria Rodriguez\n",
      "Affiliation: GlobalTech Inc.\n",
      "Role: Senior MLOps Engineer\n",
      "Description: Evaluates Python's suitability for large-scale AI deployments, focusing on its integration with existing enterprise systems, MLOps tooling, and the ability to build robust, scalable, and maintainable AI solutions in production environments.\n",
      "--------------------------------------------------\n"
     ]
    }
   ],
   "source": [
    "# Continue the graph execution\n",
    "for event in graph.stream(None, thread, stream_mode=\"values\"):\n",
    "    # Review\n",
    "    analysts = event.get('analysts', '')\n",
    "    if analysts:\n",
    "        for analyst in analysts:\n",
    "            print(f\"Name: {analyst.name}\")\n",
    "            print(f\"Affiliation: {analyst.affiliation}\")\n",
    "            print(f\"Role: {analyst.role}\")\n",
    "            print(f\"Description: {analyst.description}\")\n",
    "            print(\"-\" * 50) "
   ]
  },
  {
   "cell_type": "markdown",
   "id": "c3e09d01-32c4-4be1-a5ec-439f35596f04",
   "metadata": {},
   "source": [
    "---\n",
    "# Interview (Question Generation Part)"
   ]
  },
  {
   "cell_type": "code",
   "execution_count": 10,
   "id": "c50e51c3-aa00-4653-a2e7-3d0c1b1970ae",
   "metadata": {},
   "outputs": [],
   "source": [
    "# States\n",
    "class InterviewState(MessagesState):\n",
    "    max_num_turns: int # Number turns of conversation\n",
    "    context: Annotated[list, operator.add] # Source docs\n",
    "    analyst: Analyst # Analyst asking questions\n",
    "    interview: str # Interview transcript\n",
    "    sections: list # Final key we duplicate in outer state for Send() API\n",
    "\n",
    "class SearchQuery(BaseModel):\n",
    "    search_query: str = Field(None, description=\"Search query for retrieval.\")"
   ]
  },
  {
   "cell_type": "code",
   "execution_count": 11,
   "id": "decd0bae-4931-4fe5-a209-750e9c3a34c9",
   "metadata": {},
   "outputs": [],
   "source": [
    "# Prompt\n",
    "question_instructions_prompt = PromptTemplate(\n",
    "    input_variables=[\"goals\"],\n",
    "    template=\"\"\"You are an analyst tasked with interviewing an expert to learn about a specific topic. \n",
    "\n",
    "Your goal is boil down to interesting and specific insights related to your topic.\n",
    "\n",
    "1. Interesting: Insights that people will find surprising or non-obvious.\n",
    "        \n",
    "2. Specific: Insights that avoid generalities and include specific examples from the expert.\n",
    "\n",
    "Here is your topic of focus and set of goals: {goals}\n",
    "        \n",
    "Begin by introducing yourself using a name that fits your persona, and then ask your question.\n",
    "\n",
    "Continue to ask questions to drill down and refine your understanding of the topic.\n",
    "        \n",
    "When you are satisfied with your understanding, complete the interview with: \"Thank you so much for your help!\"\n",
    "\n",
    "Remember to stay in character throughout your response, reflecting the persona and goals provided to you.\"\"\"\n",
    ")"
   ]
  },
  {
   "cell_type": "code",
   "execution_count": 12,
   "id": "33ea7900-04bb-417d-8d43-adf33326eda5",
   "metadata": {},
   "outputs": [],
   "source": [
    "# Nodes\n",
    "def generate_question(state: InterviewState):\n",
    "    \"\"\" Node to generate a question \"\"\"\n",
    "    analyst = state[\"analyst\"]\n",
    "    messages = state[\"messages\"]\n",
    "\n",
    "    system_message = question_instructions_prompt.format(goals=analyst.persona)\n",
    "    question = llm.invoke([SystemMessage(content=system_message)]+messages)\n",
    "\n",
    "    # Write messages to state\n",
    "    return {\"messages\": [question]}"
   ]
  },
  {
   "cell_type": "markdown",
   "id": "6e8891fe-4837-4f38-8252-71719a1151ee",
   "metadata": {},
   "source": [
    "# Interview (Answer Generation Part)"
   ]
  },
  {
   "cell_type": "code",
   "execution_count": 13,
   "id": "c7332b08-2b86-48ea-b9ad-e83a541aeb29",
   "metadata": {},
   "outputs": [],
   "source": [
    "# Web search tool\n",
    "tavily_search = TavilySearch(\n",
    "    tavily_api_key=config.tavily_api_key.get_secret_value(), \n",
    "    max_results=3\n",
    ")"
   ]
  },
  {
   "cell_type": "code",
   "execution_count": 14,
   "id": "701e4b3f-2888-44ff-b159-40f5f448aa1a",
   "metadata": {},
   "outputs": [],
   "source": [
    "# Prompt\n",
    "search_instructions = SystemMessage(content=f\"\"\"You will be given a conversation between an analyst and an expert. \n",
    "\n",
    "Your goal is to generate a well-structured query for use in retrieval and / or web-search related to the conversation.\n",
    "        \n",
    "First, analyze the full conversation.\n",
    "\n",
    "Pay particular attention to the final question posed by the analyst.\n",
    "\n",
    "Convert this final question into a well-structured web search query\"\"\")\n",
    "\n",
    "\n",
    "answer_instructions = PromptTemplate(\n",
    "    input_variables=[\"goals\", \"context\"],\n",
    "    template=\"\"\"You are an expert being interviewed by an analyst.\n",
    "\n",
    "Here is analyst area of focus: {goals}. \n",
    "        \n",
    "You goal is to answer a question posed by the interviewer.\n",
    "\n",
    "To answer question, use this context:\n",
    "        \n",
    "{context}\n",
    "\n",
    "When answering questions, follow these guidelines:\n",
    "        \n",
    "1. Use only the information provided in the context. \n",
    "        \n",
    "2. Do not introduce external information or make assumptions beyond what is explicitly stated in the context.\n",
    "\n",
    "3. The context contain sources at the topic of each individual document.\n",
    "\n",
    "4. Include these sources your answer next to any relevant statements. For example, for source # 1 use [1]. \n",
    "\n",
    "5. List your sources in order at the bottom of your answer. [1] Source 1, [2] Source 2, etc\n",
    "        \n",
    "6. If the source is: <Document source=\"assistant/docs/llama3_1.pdf\" page=\"7\"/>' then just list: \n",
    "        \n",
    "[1] assistant/docs/llama3_1.pdf, page 7 \n",
    "        \n",
    "And skip the addition of the brackets as well as the Document source preamble in your citation.\"\"\"\n",
    ")\n",
    "\n",
    "section_writer_instructions = \"\"\"You are an expert technical writer. \n",
    "            \n",
    "Your task is to create a short, easily digestible section of a report based on a set of source documents.\n",
    "\n",
    "1. Analyze the content of the source documents: \n",
    "- The name of each source document is at the start of the document, with the <Document tag.\n",
    "        \n",
    "2. Create a report structure using markdown formatting:\n",
    "- Use ## for the section title\n",
    "- Use ### for sub-section headers\n",
    "        \n",
    "3. Write the report following this structure:\n",
    "a. Title (## header)\n",
    "b. Summary (### header)\n",
    "c. Sources (### header)\n",
    "\n",
    "4. Make your title engaging based upon the focus area of the analyst: \n",
    "{focus}\n",
    "\n",
    "5. For the summary section:\n",
    "- Set up summary with general background / context related to the focus area of the analyst\n",
    "- Emphasize what is novel, interesting, or surprising about insights gathered from the interview\n",
    "-  use them\n",
    "- Do not mention the names of interviewers or experts\n",
    "- Aim for approximately 400 words maximum\n",
    "- Use numbered sources in your report (e.g., [1], [2]) based on information from source documents\n",
    "        \n",
    "6. In the Sources section:\n",
    "- Include all sources used in your report\n",
    "- Provide full links to relevant websites or specific document paths\n",
    "- Separate each source by a newline. Use two spaces at the end of each line to create a newline in Markdown.\n",
    "- It will look like:\n",
    "\n",
    "### Sources\n",
    "[1] Link or Document name\n",
    "[2] Link or Document name\n",
    "\n",
    "7. Be sure to combine sources. For example this is not correct:\n",
    "\n",
    "[3] https://ai.meta.com/blog/meta-llama-3-1/\n",
    "[4] https://ai.meta.com/blog/meta-llama-3-1/\n",
    "\n",
    "There should be no redundant sources. It should simply be:\n",
    "\n",
    "[3] https://ai.meta.com/blog/meta-llama-3-1/\n",
    "        \n",
    "8. Final review:\n",
    "- Ensure the report follows the required structure\n",
    "- Include no preamble before the title of the report\n",
    "- Check that all guidelines have been followed\"\"\"\n"
   ]
  },
  {
   "cell_type": "code",
   "execution_count": 15,
   "id": "3087a7d5-858d-4aad-9da0-de6c6d0a521f",
   "metadata": {},
   "outputs": [],
   "source": [
    "# Nodes\n",
    "def search_web(state: InterviewState):\n",
    "    \"\"\" Retrieve docs from web search \"\"\"\n",
    "    # Search query\n",
    "    structured_llm = llm.with_structured_output(SearchQuery)\n",
    "    search_query = structured_llm.invoke([search_instructions]+state['messages'])\n",
    "    \n",
    "    # Search\n",
    "    search_docs = tavily_search.invoke(search_query.search_query)\n",
    "\n",
    "     # Format\n",
    "    formatted_search_docs = \"\\n\\n---\\n\\n\".join(\n",
    "        [\n",
    "            f'<Document href=\"{doc[\"url\"]}\"/>\\n{doc[\"content\"]}\\n</Document>'\n",
    "            for doc in search_docs[\"results\"]\n",
    "        ]\n",
    "    )\n",
    "\n",
    "    return {\"context\": [formatted_search_docs]} \n",
    "\n",
    "\n",
    "def search_wikipedia(state: InterviewState):\n",
    "    \"\"\" Retrieve docs from wikipedia \"\"\"\n",
    "\n",
    "    # Create search query\n",
    "    search_query = llm.with_structured_output(SearchQuery).invoke([search_instructions]+state['messages'])\n",
    "    \n",
    "    # Search\n",
    "    search_docs = WikipediaLoader(query=search_query.search_query, load_max_docs=2).load()\n",
    "\n",
    "     # Format\n",
    "    formatted_search_docs = \"\\n\\n---\\n\\n\".join(\n",
    "        [\n",
    "            f'<Document source=\"{doc.metadata[\"source\"]}\" page=\"{doc.metadata.get(\"page\", \"\")}\"/>\\n{doc.page_content}\\n</Document>'\n",
    "            for doc in search_docs\n",
    "        ]\n",
    "    )\n",
    "\n",
    "    return {\"context\": [formatted_search_docs]} \n",
    "\n",
    "\n",
    "def generate_answer(state: InterviewState):\n",
    "    \"\"\" Node to answer a question \"\"\"\n",
    "    analyst = state[\"analyst\"]\n",
    "    messages = state[\"messages\"]\n",
    "    context = state[\"context\"]\n",
    "\n",
    "    # Answer question\n",
    "    system_message = answer_instructions.format(goals=analyst.persona, context=context)\n",
    "    answer = llm.invoke([SystemMessage(content=system_message)]+messages)\n",
    "\n",
    "    # Name the message as coming from the expert\n",
    "    answer.name = \"expert\"\n",
    "    \n",
    "    # Append it to state\n",
    "    return {\"messages\": [answer]}\n",
    "\n",
    "    \n",
    "def save_interview(state: InterviewState):\n",
    "    \"\"\" Save interviews \"\"\"\n",
    "    # Get messages\n",
    "    messages = state[\"messages\"]\n",
    "    \n",
    "    # Convert interview to a string\n",
    "    interview = get_buffer_string(messages)\n",
    "    \n",
    "    # Save to interviews key\n",
    "    return {\"interview\": interview}\n",
    "\n",
    "\n",
    "def route_messages(state: InterviewState, name: str = \"expert\"):\n",
    "    \"\"\" Route between question and answer \"\"\"\n",
    "    \n",
    "    # Get messages\n",
    "    messages = state[\"messages\"]\n",
    "    max_num_turns = state.get('max_num_turns',2)\n",
    "\n",
    "    # Check the number of expert answers \n",
    "    num_responses = len(\n",
    "        [m for m in messages if isinstance(m, AIMessage) and m.name == name]\n",
    "    )\n",
    "\n",
    "    # End if expert has answered more than the max turns\n",
    "    if num_responses >= max_num_turns:\n",
    "        return 'save_interview'\n",
    "\n",
    "    # This router is run after each question - answer pair \n",
    "    # Get the last question asked to check if it signals the end of discussion\n",
    "    last_question = messages[-2]\n",
    "    \n",
    "    if \"Thank you so much for your help\" in last_question.content:\n",
    "        return 'save_interview'\n",
    "    return \"ask_question\"\n",
    "\n",
    "    \n",
    "def write_section(state: InterviewState):\n",
    "    \"\"\" Node to answer a question \"\"\"\n",
    "\n",
    "    # Get state\n",
    "    interview = state[\"interview\"]\n",
    "    context = state[\"context\"]\n",
    "    analyst = state[\"analyst\"]\n",
    "   \n",
    "    # Write section using either the gathered source docs from interview (context) or the interview itself (interview)\n",
    "    system_message = section_writer_instructions.format(focus=analyst.description)\n",
    "    section = llm.invoke([SystemMessage(content=system_message)]+[HumanMessage(content=f\"Use this source to write your section: {context}\")]) \n",
    "                \n",
    "    # Append it to state\n",
    "    return {\"sections\": [section.content]}"
   ]
  },
  {
   "cell_type": "code",
   "execution_count": 16,
   "id": "578094f8-935c-49d6-b4c1-cce8d83bae01",
   "metadata": {},
   "outputs": [
    {
     "name": "stderr",
     "output_type": "stream",
     "text": [
      "2025-09-13 14:00:12,653 - urllib3.connectionpool - DEBUG - Starting new HTTPS connection (1): mermaid.ink:443\n",
      "2025-09-13 14:00:12,900 - urllib3.connectionpool - DEBUG - https://mermaid.ink:443 \"GET /img/LS0tCmNvbmZpZzoKICBmbG93Y2hhcnQ6CiAgICBjdXJ2ZTogbGluZWFyCi0tLQpncmFwaCBURDsKCV9fc3RhcnRfXyhbPHA+X19zdGFydF9fPC9wPl0pOjo6Zmlyc3QKCWFza19xdWVzdGlvbihhc2tfcXVlc3Rpb24pCglzZWFyY2hfd2ViKHNlYXJjaF93ZWIpCglzZWFyY2hfd2lraXBlZGlhKHNlYXJjaF93aWtpcGVkaWEpCglhbnN3ZXJfcXVlc3Rpb24oYW5zd2VyX3F1ZXN0aW9uKQoJc2F2ZV9pbnRlcnZpZXcoc2F2ZV9pbnRlcnZpZXcpCgl3cml0ZV9zZWN0aW9uKHdyaXRlX3NlY3Rpb24pCglfX2VuZF9fKFs8cD5fX2VuZF9fPC9wPl0pOjo6bGFzdAoJX19zdGFydF9fIC0tPiBhc2tfcXVlc3Rpb247CglhbnN3ZXJfcXVlc3Rpb24gLS4tPiBhc2tfcXVlc3Rpb247CglhbnN3ZXJfcXVlc3Rpb24gLS4tPiBzYXZlX2ludGVydmlldzsKCWFza19xdWVzdGlvbiAtLT4gc2VhcmNoX3dlYjsKCWFza19xdWVzdGlvbiAtLT4gc2VhcmNoX3dpa2lwZWRpYTsKCXNhdmVfaW50ZXJ2aWV3IC0tPiB3cml0ZV9zZWN0aW9uOwoJc2VhcmNoX3dlYiAtLT4gYW5zd2VyX3F1ZXN0aW9uOwoJc2VhcmNoX3dpa2lwZWRpYSAtLT4gYW5zd2VyX3F1ZXN0aW9uOwoJd3JpdGVfc2VjdGlvbiAtLT4gX19lbmRfXzsKCWNsYXNzRGVmIGRlZmF1bHQgZmlsbDojZjJmMGZmLGxpbmUtaGVpZ2h0OjEuMgoJY2xhc3NEZWYgZmlyc3QgZmlsbC1vcGFjaXR5OjAKCWNsYXNzRGVmIGxhc3QgZmlsbDojYmZiNmZjCg==?type=png&bgColor=!white HTTP/1.1\" 200 26719\n"
     ]
    },
    {
     "data": {
      "image/png": "[encoded data removed]",
      "text/plain": [
       "<IPython.core.display.Image object>"
      ]
     },
     "metadata": {},
     "output_type": "display_data"
    }
   ],
   "source": [
    "# graph\n",
    "interview_builder = StateGraph(InterviewState)\n",
    "interview_builder.add_node(\"ask_question\", generate_question)\n",
    "interview_builder.add_node(\"search_web\", search_web)\n",
    "interview_builder.add_node(\"search_wikipedia\", search_wikipedia)\n",
    "interview_builder.add_node(\"answer_question\", generate_answer)\n",
    "interview_builder.add_node(\"save_interview\", save_interview)\n",
    "interview_builder.add_node(\"write_section\", write_section)\n",
    "\n",
    "# Flow\n",
    "interview_builder.add_edge(START, \"ask_question\")\n",
    "interview_builder.add_edge(\"ask_question\", \"search_web\")\n",
    "interview_builder.add_edge(\"ask_question\", \"search_wikipedia\")\n",
    "interview_builder.add_edge(\"search_web\", \"answer_question\")\n",
    "interview_builder.add_edge(\"search_wikipedia\", \"answer_question\")\n",
    "interview_builder.add_conditional_edges(\"answer_question\", route_messages,['ask_question','save_interview'])\n",
    "interview_builder.add_edge(\"save_interview\", \"write_section\")\n",
    "interview_builder.add_edge(\"write_section\", END)\n",
    "\n",
    "# Interview \n",
    "memory = MemorySaver()\n",
    "interview_graph = interview_builder.compile(checkpointer=memory).with_config(run_name=\"Conduct Interviews\")\n",
    "\n",
    "# View\n",
    "display(Image(interview_graph.get_graph().draw_mermaid_png()))"
   ]
  },
  {
   "cell_type": "code",
   "execution_count": 17,
   "id": "2ecbe187-ad3d-4a6a-9825-e7f01c498f3f",
   "metadata": {},
   "outputs": [
    {
     "data": {
      "text/plain": [
       "Analyst(affiliation='Google AI Research', name='Dr. Anya Sharma', role='AI Research Scientist', description=\"Focuses on the breadth and depth of Python's AI/ML libraries and frameworks (e.g., TensorFlow, PyTorch, Scikit-learn, NumPy, Pandas), evaluating their capabilities, performance, and how they empower complex AI model development and scientific computing.\")"
      ]
     },
     "execution_count": 17,
     "metadata": {},
     "output_type": "execute_result"
    }
   ],
   "source": [
    "# Pick one analyst\n",
    "analysts[0]"
   ]
  },
  {
   "cell_type": "code",
   "execution_count": 18,
   "id": "d23b444b-29ad-4e01-8dca-96f5794575a2",
   "metadata": {},
   "outputs": [
    {
     "name": "stderr",
     "output_type": "stream",
     "text": [
      "2025-09-13 14:00:20,257 - urllib3.connectionpool - DEBUG - Starting new HTTPS connection (1): api.tavily.com:443\n",
      "2025-09-13 14:00:20,432 - urllib3.connectionpool - DEBUG - Starting new HTTP connection (1): en.wikipedia.org:80\n",
      "2025-09-13 14:00:20,553 - urllib3.connectionpool - DEBUG - http://en.wikipedia.org:80 \"GET /w/api.php?list=search&srprop=&srlimit=2&limit=2&srsearch=Python%27s+overlooked+advantages+and+common+misconceptions+in+AI+development+beyond+ease+of+learning+and+community+support&format=json&action=query HTTP/1.1\" 301 0\n",
      "2025-09-13 14:00:20,554 - urllib3.connectionpool - DEBUG - Starting new HTTPS connection (1): en.wikipedia.org:443\n",
      "2025-09-13 14:00:21,008 - urllib3.connectionpool - DEBUG - https://en.wikipedia.org:443 \"GET /w/api.php?list=search&srprop=&srlimit=2&limit=2&srsearch=Python%27s+overlooked+advantages+and+common+misconceptions+in+AI+development+beyond+ease+of+learning+and+community+support&format=json&action=query HTTP/1.1\" 200 128\n",
      "2025-09-13 14:00:22,297 - urllib3.connectionpool - DEBUG - https://api.tavily.com:443 \"POST /search HTTP/1.1\" 200 2393\n",
      "2025-09-13 14:00:22,678 - langchain_google_genai.chat_models - WARNING - Gemini produced an empty response. Continuing with empty message\n",
      "Feedback: \n",
      "2025-09-13 14:00:29,803 - urllib3.connectionpool - DEBUG - Starting new HTTPS connection (1): api.tavily.com:443\n",
      "2025-09-13 14:00:30,204 - urllib3.connectionpool - DEBUG - Starting new HTTP connection (1): en.wikipedia.org:80\n",
      "2025-09-13 14:00:30,320 - urllib3.connectionpool - DEBUG - http://en.wikipedia.org:80 \"GET /w/api.php?list=search&srprop=&srlimit=2&limit=2&srsearch=Python+as+glue+language+in+AI+for+C%2B%2B+CUDA+APIs%2C+TensorFlow+PyTorch+examples&format=json&action=query HTTP/1.1\" 301 0\n",
      "2025-09-13 14:00:30,329 - urllib3.connectionpool - DEBUG - Starting new HTTPS connection (1): en.wikipedia.org:443\n",
      "2025-09-13 14:00:30,769 - urllib3.connectionpool - DEBUG - https://en.wikipedia.org:443 \"GET /w/api.php?list=search&srprop=&srlimit=2&limit=2&srsearch=Python+as+glue+language+in+AI+for+C%2B%2B+CUDA+APIs%2C+TensorFlow+PyTorch+examples&format=json&action=query HTTP/1.1\" 200 128\n",
      "2025-09-13 14:00:31,995 - urllib3.connectionpool - DEBUG - https://api.tavily.com:443 \"POST /search HTTP/1.1\" 200 1273\n"
     ]
    },
    {
     "data": {
      "text/markdown": [
       "## Python's AI/ML Arsenal: Capabilities, Performance, and Model Development\n",
       "\n",
       "### Summary\n",
       "Artificial Intelligence continues to be a transformative force across industries, yet a significant misconception persists that AI will completely displace all human jobs by 2025, a notion that is not supported as many roles will continue to require human input [1]. Within this evolving technological landscape, Python has firmly established itself as the premier programming language for AI and Machine Learning development [3].\n",
       "\n",
       "Python's widespread adoption is largely attributed to its high-level, dynamically typed nature, which promotes rapid and robust development across a broad spectrum of applications, from web and mobile development to intricate AI programs and even video games [2]. A particularly insightful aspect of Python's efficacy is its role as a \"glue language\" [4, 6]. This means that while Python provides a simple and intuitive interface for developers, the computationally intensive, performance-critical operations are discreetly executed by highly optimized lower-level languages such as C, C++, or CUDA [4, 6]. This architectural design allows developers to harness powerful computational capabilities without needing to engage in complex low-level programming.\n",
       "\n",
       "The language's extensive ecosystem of deep learning libraries, including prominent frameworks like TensorFlow, Keras, and PyTorch, significantly streamlines the process of building complex AI models with minimal effort [5]. Furthermore, Python's low entry barrier makes it accessible, enabling a greater number of data scientists to quickly adopt it for AI development and fostering innovation [3]. Its platform independence also enhances its versatility [3]. The utility of Python is further augmented by the emergence of AI-assisted coding tools, often built upon Python itself, which integrate natural language processing to boost developer productivity [2]. While Python may not be the optimal choice for every single project, its capabilities make it an exceptionally strong and often preferred option for a vast array of AI and ML applications [2].\n",
       "\n",
       "### Sources\n",
       "[1] https://www.quora.com/What-s-the-biggest-misconception-people-have-about-AI-in-2025  \n",
       "[2] https://www.netguru.com/blog/python-pros-and-cons  \n",
       "[3] https://djangostars.com/blog/why-python-is-good-for-artificial-intelligence-and-machine-learning/  \n",
       "[4] https://ai.plainenglish.io/why-python-is-still-the-best-language-for-ai-experiments-63a3de3fa9f3  \n",
       "[5] https://durapid.com/why-python-is-best-for-ai-ml/  \n",
       "[6] https://news.ycombinator.com/item?id=29171319"
      ],
      "text/plain": [
       "<IPython.core.display.Markdown object>"
      ]
     },
     "execution_count": 18,
     "metadata": {},
     "output_type": "execute_result"
    }
   ],
   "source": [
    "from IPython.display import Markdown\n",
    "\n",
    "messages = [HumanMessage(f\"So you said you were writing an article on {topic}?\")]\n",
    "thread = {\"configurable\": {\"thread_id\": \"1\"}}\n",
    "interview = interview_graph.invoke({\"analyst\": analysts[0], \"messages\": messages, \"max_num_turns\": 2}, thread)\n",
    "Markdown(interview['sections'][0])"
   ]
  },
  {
   "cell_type": "code",
   "execution_count": null,
   "id": "4bccbb6f-1abc-429a-9509-afc25fdfbe75",
   "metadata": {},
   "outputs": [],
   "source": []
  }
 ],
 "metadata": {
  "kernelspec": {
   "display_name": "Python 3 (ipykernel)",
   "language": "python",
   "name": "python3"
  },
  "language_info": {
   "codemirror_mode": {
    "name": "ipython",
    "version": 3
   },
   "file_extension": ".py",
   "mimetype": "text/x-python",
   "name": "python",
   "nbconvert_exporter": "python",
   "pygments_lexer": "ipython3",
   "version": "3.12.8"
  }
 },
 "nbformat": 4,
 "nbformat_minor": 5
}
