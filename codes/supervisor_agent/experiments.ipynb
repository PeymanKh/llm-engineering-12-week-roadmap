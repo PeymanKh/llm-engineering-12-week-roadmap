{
 "cells": [
  {
   "metadata": {},
   "cell_type": "markdown",
   "source": [
    "# Supervisor Multi-Agent Architecture\n",
    "\n",
    "This notebook is a simple implementation of a supervisor agent architecture with two ReAct agents as subagents."
   ],
   "id": "fadc187df338d4c2"
  },
  {
   "metadata": {
    "collapsed": true,
    "ExecuteTime": {
     "end_time": "2025-09-30T14:40:42.689176Z",
     "start_time": "2025-09-30T14:40:42.289242Z"
    }
   },
   "cell_type": "code",
   "source": [
    "# Import libraries\n",
    "from pydantic import BaseModel, Field\n",
    "from typing import List, Optional, Annotated, Literal\n",
    "\n",
    "from langchain_openai import ChatOpenAI\n",
    "from langchain_core.prompts import PromptTemplate\n",
    "\n",
    "from langgraph.graph import StateGraph, START, END, MessagesState\n",
    "\n",
    "from codes.config.config import config"
   ],
   "id": "b00fc5636dff8435",
   "outputs": [],
   "execution_count": 7
  },
  {
   "metadata": {
    "ExecuteTime": {
     "end_time": "2025-09-30T14:40:42.703587Z",
     "start_time": "2025-09-30T14:40:42.701275Z"
    }
   },
   "cell_type": "code",
   "source": [
    "# Define schemas\n",
    "class SupervisorResponse(BaseModel):\n",
    "    route: Literal['math_agent', 'search_agent', 'end']\n",
    "\n",
    "class GraphState(MessagesState):\n",
    "    super_visor_route: Optional[SupervisorResponse]\n",
    "    math_result: Optional[str]\n",
    "    search_result: Optional[str]"
   ],
   "id": "acc215903b6b3b17",
   "outputs": [],
   "execution_count": 8
  },
  {
   "metadata": {
    "ExecuteTime": {
     "end_time": "2025-09-30T14:40:43.325679Z",
     "start_time": "2025-09-30T14:40:42.926509Z"
    }
   },
   "cell_type": "code",
   "source": [
    "# Create a ChatModel\n",
    "llm = ChatOpenAI(api_key=config.openai_api_key.get_secret_value(), model=\"gpt-4o\")"
   ],
   "id": "5753608fcc7879c7",
   "outputs": [],
   "execution_count": 9
  },
  {
   "metadata": {},
   "cell_type": "code",
   "outputs": [],
   "execution_count": null,
   "source": [
    "# Supervisor Node\n",
    "system_prompt = PromptTemplate(\n",
    "    input_variables=[\"messages\"],\n",
    "    template=\"\"\"You are a helpful assistant. You are designed to give accurate answers to the users.\n",
    "Your main goal is to provide accurate answers to the user and NEVER guess the correct answer based on your assumptions.\n",
    "\n",
    "You have two specialist agents working for you to make sure you always provide accurate answers, here is their description:\n",
    "1. math_agent: It handles calculations, equations, and mathematical problems.\n",
    "2. search_agent: It handles information retrieval, current events, and factual queries.\n",
    "\n",
    "When you need one of them, or you finished generating user question, call the tool you have.\n",
    "\"\"\"\n",
    ")\n",
    "\n",
    "def supervisor(state: GraphState):\n",
    "    \"\"\"Supervisor node to route the conversation to the appropriate agent or craft the final response.\"\"\"\n",
    "    messages = state[\"messages\"]\n"
   ],
   "id": "7c7d85fa3ceaa43f"
  }
 ],
 "metadata": {
  "kernelspec": {
   "display_name": "Python 3",
   "language": "python",
   "name": "python3"
  },
  "language_info": {
   "codemirror_mode": {
    "name": "ipython",
    "version": 2
   },
   "file_extension": ".py",
   "mimetype": "text/x-python",
   "name": "python",
   "nbconvert_exporter": "python",
   "pygments_lexer": "ipython2",
   "version": "2.7.6"
  }
 },
 "nbformat": 4,
 "nbformat_minor": 5
}
